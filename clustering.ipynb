{
 "cells": [
  {
   "cell_type": "code",
   "execution_count": 4,
   "metadata": {},
   "outputs": [],
   "source": [
    "import networkx as nx\n",
    "import pandas as pd\n",
    "import matplotlib.pyplot as plt\n",
    "import numpy as np\n",
    "from collections import Counter\n",
    "import seaborn as sns"
   ]
  },
  {
   "cell_type": "code",
   "execution_count": 35,
   "metadata": {},
   "outputs": [],
   "source": [
    "import warnings\n",
    "warnings.filterwarnings('ignore')"
   ]
  },
  {
   "cell_type": "code",
   "execution_count": 36,
   "metadata": {},
   "outputs": [],
   "source": [
    "attributes= pd.read_csv('Data/nodeattribute.csv', delimiter=';')\n",
    "edgelist= pd.read_csv('Data/edgelist2.csv',delimiter=';')\n",
    "g_attributes= attributes[attributes['0']=='gene']\n",
    "g_attributes = g_attributes.assign(color='#F4C2C2')\n",
    "d_attributes = attributes[attributes['0']=='disease']\n",
    "d_attributes = d_attributes.assign(color='#7C0A02')\n",
    "\n",
    "\n",
    "\n",
    "#We need to convert the data frame into a dictionary to use the set_node_attributes \n",
    "nodes_attr = attributes.set_index('Id').to_dict(orient='index')\n",
    "g_nodes_attr = g_attributes.set_index('Id').to_dict(orient='index')\n",
    "d_nodes_attr= d_attributes.set_index('Id').to_dict(orient='index')\n",
    "\n",
    "g_nodes= g_attributes['Id'].to_list()\n",
    "d_nodes=d_attributes['Id'].to_list()\n",
    "edges= edgelist.values.tolist()\n",
    "\n",
    "\n",
    "G = nx.Graph()\n",
    "G.add_nodes_from(g_nodes, bipartite=0)\n",
    "G.add_nodes_from(d_nodes, bipartite=1 )\n",
    "nx.set_node_attributes(G, nodes_attr)\n",
    "G.add_edges_from(edges)\n"
   ]
  },
  {
   "cell_type": "code",
   "execution_count": 37,
   "metadata": {},
   "outputs": [
    {
     "name": "stdout",
     "output_type": "stream",
     "text": [
      "Graph with 1419 nodes and 2738 edges\n"
     ]
    }
   ],
   "source": [
    "print(nx.info(G))"
   ]
  },
  {
   "cell_type": "code",
   "execution_count": 7,
   "metadata": {},
   "outputs": [
    {
     "name": "stdout",
     "output_type": "stream",
     "text": [
      "0.2509545296771954\n",
      "0.48806215597210756\n"
     ]
    }
   ],
   "source": [
    "#global clustering coefficient\n",
    "print(nx.transitivity(G))\n",
    "\n",
    "#average clustering coefficient\n",
    "print(nx.average_clustering(G))\n",
    "\n",
    "#local clustering coefficient\n",
    "#print(nx.clustering(G))"
   ]
  },
  {
   "cell_type": "code",
   "execution_count": 8,
   "metadata": {},
   "outputs": [],
   "source": [
    "sns.set_style('whitegrid')"
   ]
  },
  {
   "cell_type": "code",
   "execution_count": 12,
   "metadata": {},
   "outputs": [
    {
     "data": {
      "image/png": "[encoded data removed]",
      "text/plain": [
       "<Figure size 432x288 with 1 Axes>"
      ]
     },
     "metadata": {},
     "output_type": "display_data"
    }
   ],
   "source": [
    "histogram = nx.degree_histogram(G)\n",
    "fig, ax = plt.subplots()\n",
    "plt.yscale('log')\n",
    "ax.hist(histogram);\n",
    "ax.set_xlabel('Degree');\n",
    "ax.set_ylabel('Frequency');\n",
    "ax.set_title('Degree Distribution');"
   ]
  },
  {
   "cell_type": "code",
   "execution_count": 34,
   "metadata": {},
   "outputs": [
    {
     "data": {
      "text/plain": [
       "'degree_freq = nx.degree_histogram(G)\\nsns.set_theme(style=\"whitegrid\")\\n\\nfig, ax = plt.subplots(figsize=(10, 6))\\ndegree_range = range(len(degree_freq))\\n\\nax.loglog(degree_range, degree_freq,\\'-\\');\\nsns.lineplot();\\nax.set_xlabel(\\'Degree\\');\\nax.set_ylabel(\\'Frequency\\');\\n'"
      ]
     },
     "execution_count": 34,
     "metadata": {},
     "output_type": "execute_result"
    }
   ],
   "source": [
    "'''degree_freq = nx.degree_histogram(G)\n",
    "sns.set_theme(style=\"whitegrid\")\n",
    "\n",
    "fig, ax = plt.subplots(figsize=(10, 6))\n",
    "degree_range = range(len(degree_freq))\n",
    "\n",
    "ax.loglog(degree_range, degree_freq,'-');\n",
    "sns.lineplot();\n",
    "ax.set_xlabel('Degree');\n",
    "ax.set_ylabel('Frequency');\n",
    "'''\n"
   ]
  },
  {
   "cell_type": "code",
   "execution_count": 32,
   "metadata": {},
   "outputs": [],
   "source": [
    "degree_freq = [x/sum(degree_freq) for x in degree_freq]\n",
    "#print(degree_freq)\n",
    "\n",
    "def plot_inverse_cdf(degree_freq):\n",
    "    fig, ax = plt.subplots(figsize=(10, 6))\n",
    "    \n",
    "    deg = [0]*len(degree_freq)\n",
    "    sum_of_all = sum(degree_freq)\n",
    "    for i in range(len(deg)):\n",
    "        for j in range(i,len(deg)):\n",
    "            deg[i] += degree_freq[j]\n",
    "        deg[i] = deg[i]/sum_of_all\n",
    "    \n",
    "    ax.loglog(degree_range, deg)"
   ]
  },
  {
   "cell_type": "code",
   "execution_count": 33,
   "metadata": {},
   "outputs": [
    {
     "data": {
      "image/png": "[encoded data removed]",
      "text/plain": [
       "<Figure size 720x432 with 1 Axes>"
      ]
     },
     "metadata": {},
     "output_type": "display_data"
    }
   ],
   "source": [
    "plot_inverse_cdf()"
   ]
  },
  {
   "cell_type": "code",
   "execution_count": null,
   "metadata": {},
   "outputs": [],
   "source": []
  },
  {
   "cell_type": "code",
   "execution_count": null,
   "metadata": {},
   "outputs": [],
   "source": []
  }
 ],
 "metadata": {
  "kernelspec": {
   "display_name": "Python 3.9.7 ('base')",
   "language": "python",
   "name": "python3"
  },
  "language_info": {
   "codemirror_mode": {
    "name": "ipython",
    "version": 3
   },
   "file_extension": ".py",
   "mimetype": "text/x-python",
   "name": "python",
   "nbconvert_exporter": "python",
   "pygments_lexer": "ipython3",
   "version": "3.9.7"
  },
  "orig_nbformat": 4,
  "vscode": {
   "interpreter": {
    "hash": "ef166213a119dea7a0b1a64e774e94a94a893f8530fa4c669d6e23575311d886"
   }
  }
 },
 "nbformat": 4,
 "nbformat_minor": 2
}
