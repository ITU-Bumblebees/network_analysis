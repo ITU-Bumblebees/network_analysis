{
 "cells": [
  {
   "cell_type": "markdown",
   "id": "5cd14738",
   "metadata": {},
   "source": [
    "# Project\n"
   ]
  },
  {
   "cell_type": "markdown",
   "id": "bc6918c0",
   "metadata": {},
   "source": [
    "#### For this project we will start by importing the necessary libraries "
   ]
  },
  {
   "cell_type": "code",
   "execution_count": null,
   "id": "f2d61eaf",
   "metadata": {},
   "outputs": [],
   "source": [
    "import networkx as nx\n",
    "import matplotlib.pyplot as plt\n",
    "import pandas as pd\n",
    "from networkx.algorithms import bipartite "
   ]
  },
  {
   "cell_type": "markdown",
   "id": "5ae4ff0f",
   "metadata": {},
   "source": [
    "##### Now we will import the csv files to start working with the data"
   ]
  },
  {
   "cell_type": "code",
   "execution_count": null,
   "id": "b52c0f2a",
   "metadata": {},
   "outputs": [],
   "source": [
    "attributes= pd.read_csv('Data/nodeattribute.csv', delimiter=';')\n",
    "edgelist= pd.read_csv('Data/edgelist2.csv',delimiter=';')\n",
    "g_attributes= attributes[attributes['0']=='gene']\n",
    "d_attributes = attributes[attributes['0']=='disease']\n",
    "\n",
    "\n",
    "\n",
    "#We need to convert the data frame into a dictionary to use the set_node_attributes \n",
    "nodes_attr = attributes.set_index('Id').to_dict(orient='index')\n",
    "g_nodes_attr = g_attributes.set_index('Id').to_dict(orient='index')\n",
    "d_nodes_attr= d_attributes.set_index('Id').to_dict(orient='index')\n",
    "\n",
    "g_nodes= g_attributes['Id'].to_list()\n",
    "d_nodes=d_attributes['Id'].to_list()\n",
    "edges= list(edgelist.values)\n",
    "\n",
    "\n",
    "G = nx.Graph()\n",
    "G.add_nodes_from(g_nodes, bipartite=0)\n",
    "G.add_nodes_from(d_nodes, bipartite=1 )\n",
    "nx.set_node_attributes(G, nodes_attr)\n",
    "G.add_edges_from(edges)\n",
    "\n",
    "print(G.nodes[1285]['0'])\n",
    "\n",
    "#bottom_nodes, top_nodes = bipartite.sets(G)"
   ]
  },
  {
   "cell_type": "code",
   "execution_count": null,
   "id": "e0934e7e",
   "metadata": {},
   "outputs": [],
   "source": [
    "#Checking that the code worked properly\n",
    "G.nodes()\n",
    "#G.edges()\n",
    "#G.nodes[55][\"Label\"]\n",
    "#nodes_attr\"\"\"\n",
    "\n",
    "G.nodes[117]['bipartite']"
   ]
  },
  {
   "cell_type": "markdown",
   "id": "6db924b9",
   "metadata": {},
   "source": [
    "In order to start working with the graph we need to make sure it is connected "
   ]
  },
  {
   "cell_type": "code",
   "execution_count": null,
   "id": "6f364dd3",
   "metadata": {},
   "outputs": [],
   "source": [
    "print(nx.is_connected(G))\n",
    "print(nx.is_bipartite(G))"
   ]
  },
  {
   "cell_type": "code",
   "execution_count": null,
   "id": "08b249b1",
   "metadata": {},
   "outputs": [],
   "source": [
    "#Trial \n",
    "B = nx.Graph()\n",
    "# Add nodes with the node attribute \"bipartite\"\n",
    "B.add_nodes_from([1, 2, 3, 4], bipartite=0)\n",
    "B.add_nodes_from([\"a\", \"b\", \"c\"], bipartite=1)\n",
    "# Add edges only between nodes of opposite node sets\n",
    "B.add_edges_from([(1, \"a\"), (1, \"b\"), (2, \"b\"), (2, \"c\"), (3, \"c\"), (4, \"a\")])\n",
    "\n",
    "print(nx.is_bipartite(B))\n"
   ]
  },
  {
   "cell_type": "code",
   "execution_count": null,
   "id": "56c5d1c5",
   "metadata": {},
   "outputs": [],
   "source": [
    "#nx.draw(G)"
   ]
  },
  {
   "cell_type": "code",
   "execution_count": null,
   "id": "7e0434da",
   "metadata": {},
   "outputs": [],
   "source": []
  },
  {
   "cell_type": "markdown",
   "id": "3f8279ed",
   "metadata": {},
   "source": [
    "### Project description\n",
    "1. Basic network description of your data (what type of network it is, what does it represent, is it real or synthetically generated, etc). In practice, the result of project phase #1 (finding data)."
   ]
  },
  {
   "cell_type": "markdown",
   "id": "2733ec80",
   "metadata": {},
   "source": [
    "It is a unipartite network that describes the associations between human diseases and human genes, as extracted from the Morbid Map (MM) of the Online Mendelian Inheritance in Man (OMIM) in 2005.\n",
    "\n",
    "Source : https://github.com/gephi/gephi/wiki/Datasets\n"
   ]
  },
  {
   "cell_type": "markdown",
   "id": "d39ae868",
   "metadata": {},
   "source": [
    "2. Basic network statistics of your data (number of nodes, edges, clustering, degree distribution, etc). In practice, the result of project phase #2 (exploratory data analysis)"
   ]
  },
  {
   "cell_type": "markdown",
   "id": "e15e2f65",
   "metadata": {},
   "source": []
  },
  {
   "cell_type": "code",
   "execution_count": null,
   "id": "5e97f74a",
   "metadata": {},
   "outputs": [],
   "source": [
    "#the number of nodes\n",
    "len(G.nodes())\n",
    "\n",
    "#the number of edges\n",
    "len(G.edges())\n",
    "\n"
   ]
  },
  {
   "cell_type": "code",
   "execution_count": null,
   "id": "55d31439",
   "metadata": {},
   "outputs": [],
   "source": []
  }
 ],
 "metadata": {
  "kernelspec": {
   "display_name": "Python 3.8.8 ('base')",
   "language": "python",
   "name": "python3"
  },
  "language_info": {
   "codemirror_mode": {
    "name": "ipython",
    "version": 3
   },
   "file_extension": ".py",
   "mimetype": "text/x-python",
   "name": "python",
   "nbconvert_exporter": "python",
   "pygments_lexer": "ipython3",
   "version": "3.8.8"
  },
  "vscode": {
   "interpreter": {
    "hash": "d23f3ceec305a45481076084313530cecc6283a24046b34365f00383ab0a81b1"
   }
  }
 },
 "nbformat": 4,
 "nbformat_minor": 5
}
