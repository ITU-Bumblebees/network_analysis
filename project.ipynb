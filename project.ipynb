{
 "cells": [
  {
   "cell_type": "markdown",
   "source": "# Project\n",
   "metadata": {
    "cell_id": "b8c1851e-9bbf-4fac-a4d6-72cd5a244072",
    "deepnote_cell_type": "markdown",
    "deepnote_cell_height": 82
   }
  },
  {
   "cell_type": "markdown",
   "source": "#### For this project we will start by importing the necessary libraries ",
   "metadata": {
    "cell_id": "00001-05ed3938-ef7c-48df-9b43-30e13fd76cb8",
    "deepnote_cell_type": "markdown",
    "deepnote_cell_height": 54
   }
  },
  {
   "cell_type": "code",
   "source": "#!pip install pyvis",
   "metadata": {
    "cell_id": "00002-60ed86ea-d1fc-4af4-9bfc-fa876379cede",
    "deepnote_to_be_reexecuted": false,
    "source_hash": "c00575d4",
    "execution_start": 1669293036963,
    "execution_millis": 167052,
    "deepnote_cell_type": "code",
    "deepnote_cell_height": 76
   },
   "execution_count": 1,
   "outputs": []
  },
  {
   "cell_type": "code",
   "source": "import pandas as pd\nimport numpy as np\n\nimport networkx as nx\nfrom networkx.algorithms import bipartite \n\nimport matplotlib.pyplot as plt\nimport matplotlib.colors as colors\nimport matplotlib.cm as cmx\nfrom matplotlib.colors import ListedColormap\nimport seaborn as sns\nfrom pyvis.network import Network \n\nfrom main import GraphAnalysis",
   "metadata": {
    "cell_id": "00003-a3b1e5f9-e84e-4f2e-b854-52473754947d",
    "deepnote_to_be_reexecuted": false,
    "source_hash": "77fea1d3",
    "execution_start": 1669293036964,
    "execution_millis": 1726,
    "deepnote_cell_type": "code",
    "deepnote_cell_height": 310,
    "deepnote_output_heights": [
     576.9375
    ]
   },
   "execution_count": 2,
   "outputs": []
  },
  {
   "cell_type": "code",
   "metadata": {
    "cell_id": "00004-8369efa8-4518-4a31-95fc-bc66b8e25293",
    "deepnote_to_be_reexecuted": false,
    "source_hash": "d7c7f93d",
    "execution_start": 1669293038738,
    "execution_millis": 166137,
    "deepnote_cell_type": "code",
    "deepnote_cell_height": 76
   },
   "source": "#pip install decorator==4.3",
   "execution_count": 3,
   "outputs": []
  },
  {
   "cell_type": "code",
   "metadata": {
    "cell_id": "00005-e9c39707-ed40-4f6b-a1a8-099115810248",
    "deepnote_to_be_reexecuted": false,
    "source_hash": "17e3dbca",
    "execution_start": 1669293038739,
    "execution_millis": 166130,
    "deepnote_cell_type": "code",
    "deepnote_cell_height": 94
   },
   "source": "import warnings\nwarnings.filterwarnings('ignore')",
   "execution_count": 4,
   "outputs": []
  },
  {
   "cell_type": "markdown",
   "source": "##### Now we will import the csv files to start working with the data",
   "metadata": {
    "cell_id": "00006-6d7c353e-2d74-46f0-9669-c1a758a7a4d7",
    "deepnote_cell_type": "markdown",
    "deepnote_cell_height": 54
   }
  },
  {
   "cell_type": "code",
   "source": "#First we need to get the data from the csv file, made into a data frame\nattributes= pd.read_csv('Data/nodeattribute.csv', delimiter=';')\nedgelist= pd.read_csv('Data/edgelist.csv',delimiter=';')\ng_attributes= attributes[attributes['0']=='gene']\nd_attributes = attributes[attributes['0']=='disease']\n\n\n#We need to convert the data frame into a dictionary to use the set_node_attributes \nnodes_attr = attributes.set_index('Id').to_dict(orient='index')\ng_nodes_attr = g_attributes.set_index('Id').to_dict(orient='index')\nd_nodes_attr= d_attributes.set_index('Id').to_dict(orient='index')\n\n\n#Made it into a list\ng_nodes= g_attributes['Id'].to_list()\nd_nodes=d_attributes['Id'].to_list()\nedges= edgelist.values.tolist()\n\n\nG = nx.Graph()\nG.add_nodes_from(g_nodes, bipartite=0)\nG.add_nodes_from(d_nodes, bipartite=1)\nnx.set_node_attributes(G, nodes_attr)\nG.add_edges_from(edges)\n\nprint(d_nodes)\n\n#bottom_nodes, top_nodes = bipartite.sets(G)\n",
   "metadata": {
    "cell_id": "00007-f21eba33-8d11-4dab-ab2d-b1d366353fba",
    "deepnote_to_be_reexecuted": false,
    "source_hash": "4f892e4",
    "execution_start": 1669293237773,
    "execution_millis": 989,
    "deepnote_cell_type": "code",
    "deepnote_cell_height": 620.53125
   },
   "execution_count": 38,
   "outputs": [
    {
     "name": "stdout",
     "text": "[55, 47, 114, 45, 87, 54, 81, 48, 70, 137, 223, 390, 220, 325, 68, 208, 213, 30, 65, 139, 185, 202, 302, 364, 634, 53, 86, 99, 117, 155, 41, 59, 130, 239, 285, 640, 63, 125, 197, 224, 236, 414, 420, 448, 822, 42, 110, 122, 140, 146, 186, 266, 324, 332, 411, 775, 37, 120, 222, 306, 367, 541, 751, 786, 44, 74, 109, 164, 187, 200, 215, 219, 245, 327, 384, 607, 661, 736, 778, 940, 80, 119, 121, 123, 133, 158, 180, 199, 203, 235, 237, 248, 277, 280, 290, 314, 340, 369, 401, 419, 423, 429, 441, 447, 474, 497, 570, 602, 782, 790, 851, 938, 968, 43, 78, 79, 101, 113, 118, 132, 165, 177, 189, 201, 216, 226, 227, 270, 282, 292, 328, 402, 464, 467, 527, 560, 574, 671, 703, 742, 744, 795, 796, 856, 880, 919, 953, 984, 985, 36, 38, 46, 100, 126, 128, 131, 154, 156, 181, 191, 192, 209, 210, 211, 217, 238, 272, 286, 287, 307, 322, 323, 331, 341, 370, 385, 408, 417, 426, 446, 454, 457, 463, 466, 470, 471, 472, 476, 483, 484, 485, 491, 493, 526, 545, 550, 559, 575, 616, 681, 682, 685, 691, 692, 765, 767, 772, 773, 779, 784, 785, 793, 797, 799, 814, 815, 838, 853, 858, 873, 930, 963, 982, 1048, 1050, 1053, 1061, 1067, 1070, 1145, 1245, 39, 62, 69, 76, 77, 98, 112, 115, 116, 124, 127, 129, 134, 136, 138, 147, 157, 166, 167, 184, 188, 198, 212, 218, 225, 228, 229, 231, 232, 249, 252, 253, 283, 284, 288, 289, 291, 293, 294, 301, 303, 304, 305, 310, 311, 312, 313, 316, 317, 334, 342, 363, 365, 366, 368, 374, 375, 376, 380, 386, 403, 404, 405, 406, 407, 409, 415, 416, 422, 424, 425, 434, 442, 453, 455, 456, 468, 473, 475, 477, 478, 479, 480, 481, 482, 486, 490, 492, 502, 503, 523, 524, 535, 536, 540, 542, 552, 553, 554, 555, 556, 557, 558, 563, 576, 577, 578, 579, 585, 605, 606, 608, 627, 633, 637, 643, 644, 645, 663, 664, 665, 667, 668, 669, 670, 680, 686, 687, 689, 693, 694, 695, 701, 702, 704, 709, 716, 743, 745, 746, 747, 748, 752, 753, 754, 766, 769, 770, 771, 774, 781, 792, 794, 798, 810, 816, 817, 818, 819, 820, 826, 828, 829, 833, 834, 835, 836, 841, 842, 852, 868, 871, 872, 874, 875, 876, 877, 878, 879, 882, 883, 884, 887, 888, 889, 897, 902, 904, 909, 911, 912, 923, 924, 925, 928, 929, 935, 939, 941, 942, 943, 944, 947, 948, 949, 954, 955, 956, 958, 959, 960, 961, 962, 965, 966, 969, 974, 975, 976, 977, 978, 979, 980, 986, 987, 991, 996, 1002, 1003, 1012, 1015, 1016, 1020, 1025, 1027, 1029, 1033, 1034, 1040, 1047, 1051, 1065, 1066, 1068, 1069, 1072, 1073, 1078, 1080, 1081, 1082, 1089, 1091, 1092, 1094, 1099, 1100, 1101, 1102, 1120, 1121, 1130, 1132, 1136, 1148, 1152, 1153, 1174, 1181, 1198, 1208, 1221, 1227, 1228, 1232, 1238, 1242, 1270, 1285, 1289, 1303, 1304, 1305, 1306, 1307]\n",
     "output_type": "stream"
    }
   ]
  },
  {
   "cell_type": "code",
   "metadata": {
    "cell_id": "00008-3b87511e-bd1c-40a9-b12f-2dc376599fb4",
    "deepnote_to_be_reexecuted": false,
    "source_hash": "6a8008ab",
    "execution_start": 1669293038782,
    "execution_millis": 111,
    "deepnote_cell_type": "code",
    "deepnote_cell_height": 220.1875,
    "deepnote_output_heights": [
     20.1875
    ]
   },
   "source": "#Checking that the code worked properly\nG.nodes()\n#G.edges()\n#G.nodes[55][\"Label\"]\n#nodes_attr\"\"\"\n\nG.nodes[117]['bipartite']",
   "execution_count": 6,
   "outputs": [
    {
     "output_type": "execute_result",
     "execution_count": 6,
     "data": {
      "text/plain": "1"
     },
     "metadata": {}
    }
   ]
  },
  {
   "cell_type": "markdown",
   "source": "In order to start working with the graph we need to make sure it is connected ",
   "metadata": {
    "cell_id": "00009-5ecfad89-e8ae-415d-960b-a277527de9a8",
    "deepnote_cell_type": "markdown",
    "deepnote_cell_height": 52.390625
   }
  },
  {
   "cell_type": "code",
   "metadata": {
    "cell_id": "00010-4dbafea6-ec3d-4f36-99e9-01fe5cab2056",
    "deepnote_to_be_reexecuted": false,
    "source_hash": "f010f9eb",
    "execution_start": 1669293038786,
    "execution_millis": 108,
    "deepnote_cell_type": "code",
    "deepnote_cell_height": 162.71875
   },
   "source": "print(nx.is_connected(G))\nprint(nx.is_bipartite(G))\n",
   "execution_count": 7,
   "outputs": [
    {
     "name": "stdout",
     "text": "True\nTrue\n",
     "output_type": "stream"
    }
   ]
  },
  {
   "cell_type": "markdown",
   "source": "### Project description\n1. Basic network description of your data (what type of network it is, what does it represent, is it real or synthetically generated, etc). In practice, the result of project phase #1 (finding data).",
   "metadata": {
    "cell_id": "00011-449400f3-9adf-44a0-baa6-4f3cbcc5e60f",
    "deepnote_cell_type": "markdown",
    "deepnote_cell_height": 159.1875
   }
  },
  {
   "cell_type": "markdown",
   "source": "It is a unipartite, undirected and unweighted network that describes the associations between human diseases and human genes, as extracted from the Morbid Map (MM) of the Online Mendelian Inheritance in Man (OMIM) in 2005.\n\nSource : https://github.com/gephi/gephi/wiki/Datasets\n",
   "metadata": {
    "cell_id": "00012-ba5a66c5-8b36-47c6-89ed-8d46220a7669",
    "deepnote_cell_type": "markdown",
    "deepnote_cell_height": 133.578125
   }
  },
  {
   "cell_type": "markdown",
   "source": "2. Basic network statistics of your data (number of nodes, edges, clustering, degree distribution, etc). In practice, the result of project phase #2 (exploratory data analysis)",
   "metadata": {
    "cell_id": "00013-70b4a63a-0dbb-4a84-98e4-db3724d169e0",
    "deepnote_cell_type": "markdown",
    "deepnote_cell_height": 91.78125
   }
  },
  {
   "cell_type": "code",
   "metadata": {
    "cell_id": "00014-68bb9ee4-308c-4545-8a92-27674bcee87b",
    "deepnote_to_be_reexecuted": false,
    "source_hash": "d7742484",
    "execution_start": 1669293038807,
    "execution_millis": 87,
    "deepnote_cell_type": "code",
    "deepnote_cell_height": 555.046875
   },
   "source": "#Graph properties \n\"\"\"\nnx.is_directed(G)\nnx.is_bipartite(G)\nns.is_weighted(G)\n\n\"\"\"\n\n#the number of nodes and egdes\nnum_nodes = len(G.nodes())\nnum_genes= len(g_nodes)\nnum_diseases= len(d_nodes) \nnum_edges= len(G.edges())\n\n#Printing the num of nodes and edges\nprint(f'The number of nodes that are genes is: {num_genes}\\nThe number of nodes that are diseases is: {num_diseases}\\n---\\nThe total number of nodes is: {num_nodes} ')\nprint(f'\\n---\\nThe number of edges is: {num_edges}')\n\n",
   "execution_count": 8,
   "outputs": [
    {
     "name": "stdout",
     "text": "The number of nodes that are genes is: 903\nThe number of nodes that are diseases is: 516\n---\nThe total number of nodes is: 1419 \n\n---\nThe number of edges is: 1550\n",
     "output_type": "stream"
    }
   ]
  },
  {
   "cell_type": "code",
   "metadata": {
    "cell_id": "00015-2fb6de9d-1013-4ee9-a482-48bc20dadb5e",
    "deepnote_to_be_reexecuted": false,
    "source_hash": "90c01921",
    "execution_start": 1669293038868,
    "execution_millis": 2812,
    "deepnote_cell_type": "code",
    "deepnote_cell_height": 315
   },
   "source": "def make_df(column2, function, graph):\n    df = pd.DataFrame(list(function(graph).items()), columns=['Id', column2])\n    df.set_index('Id', inplace=True)\n\n    return df\n\ncloseness = make_df('closeness', nx.closeness_centrality, G)\ndegree_centrality = make_df('degree', nx.degree_centrality, G)\n\ndf= degree_centrality.join(closeness, on='Id')\n#density \ndensity = nx.density(G)\n\n",
   "execution_count": 9,
   "outputs": []
  },
  {
   "cell_type": "markdown",
   "source": "#### Clustering",
   "metadata": {
    "cell_id": "00016-06105215-80cf-42f3-9fb9-82c4403b9281",
    "deepnote_cell_type": "markdown",
    "deepnote_cell_height": 54
   }
  },
  {
   "cell_type": "code",
   "metadata": {
    "cell_id": "00017-e4fa30cf-62e6-497f-8d47-4dbeea201052",
    "deepnote_to_be_reexecuted": false,
    "source_hash": "9f87be05",
    "execution_start": 1669293041703,
    "execution_millis": 42,
    "deepnote_cell_type": "code",
    "deepnote_cell_height": 252.71875
   },
   "source": "#global clustering coefficient\nprint(nx.transitivity(G))\n\n#average clustering coefficient\nprint(nx.average_clustering(G))\n\n#local clustering coefficient\n#print(nx.clustering(G))",
   "execution_count": 10,
   "outputs": [
    {
     "name": "stdout",
     "text": "0\n0.0\n",
     "output_type": "stream"
    }
   ]
  },
  {
   "cell_type": "markdown",
   "source": "#### Degree Distribution",
   "metadata": {
    "cell_id": "00018-2fcbba3d-83d3-4ff7-bb63-0cf2c2438493",
    "deepnote_cell_type": "markdown",
    "deepnote_cell_height": 54
   }
  },
  {
   "cell_type": "code",
   "metadata": {
    "cell_id": "00019-b3259891-fc2e-4af9-820a-475c9eb3f13b",
    "deepnote_to_be_reexecuted": false,
    "source_hash": "f809c949",
    "execution_start": 1669293041746,
    "execution_millis": 1397,
    "deepnote_cell_type": "code",
    "deepnote_cell_height": 692,
    "deepnote_output_heights": [
     456
    ]
   },
   "source": "degree_freq = nx.degree_histogram(G)\nfig, ax = plt.subplots()\n\nsns.set_theme(style='whitegrid')\nplt.yscale('log')\nax.hist(degree_freq);\nax.set_xlabel('Degree');\nax.set_ylabel('Frequency');\nax.set_title('Degree Distribution');",
   "execution_count": 11,
   "outputs": [
    {
     "data": {
      "text/plain": "<Figure size 640x480 with 1 Axes>",
      "image/png": "[encoded data removed]"
     },
     "metadata": {
      "image/png": {
       "width": 570,
       "height": 455
      }
     },
     "output_type": "display_data"
    }
   ]
  },
  {
   "cell_type": "code",
   "metadata": {
    "cell_id": "00020-4e636d9c-cad6-405d-b00e-ef97c6290850",
    "deepnote_to_be_reexecuted": false,
    "source_hash": "c21f9f1e",
    "execution_start": 1669293042352,
    "execution_millis": 898,
    "deepnote_cell_type": "code",
    "deepnote_cell_height": 811,
    "deepnote_output_heights": [
     408
    ]
   },
   "source": "degree_freq = [x/sum(degree_freq) for x in degree_freq] #normalized degree frequency\ndegree_range = range(len(degree_freq)) \n\nfig, ax = plt.subplots(figsize=(10, 6))\nax.set_title('Degree Distribution');\nax.set_xlabel('Degree');\nax.set_ylabel('Fraction of Nodes with Degree >= k');\n\ndeg = [0]*len(degree_freq)\nsum_of_all = sum(degree_freq)\nfor i in range(len(deg)):\n    for j in range(i,len(deg)):\n        deg[i] += degree_freq[j]\n    deg[i] = deg[i]/sum_of_all\n\nax.loglog(degree_range, deg);\n\n",
   "execution_count": 12,
   "outputs": [
    {
     "data": {
      "text/plain": "<Figure size 1000x600 with 1 Axes>",
      "image/png": "[encoded data removed]"
     },
     "metadata": {
      "image/png": {
       "width": 868,
       "height": 559
      }
     },
     "output_type": "display_data"
    }
   ]
  },
  {
   "cell_type": "markdown",
   "source": "### Graph representation",
   "metadata": {
    "cell_id": "00021-ce4b84e1-262d-489d-ad48-02e606337bf0",
    "deepnote_cell_type": "markdown",
    "deepnote_cell_height": 62
   }
  },
  {
   "cell_type": "code",
   "metadata": {
    "cell_id": "00022-4e4bba8a-9a9f-4078-b6c9-08fb18f94195",
    "deepnote_to_be_reexecuted": false,
    "source_hash": "7bb4a55",
    "execution_start": 1669293043269,
    "execution_millis": 156924,
    "deepnote_cell_type": "code",
    "deepnote_cell_height": 344.59375
   },
   "source": "print(nx.is_directed(G))\nprint(nx.is_bipartite(G))\nprint(nx.is_weighted(G))\nlabel= nx.get_node_attributes(G,'Label')\nclassification = nx.get_node_attributes(G,'0')\ntypeofclassification= nx.get_node_attributes(G,'1')\n\n#classification[1329]\n#typeofclassification[1329]\n\n#G.nodes()\n#nodes_attr",
   "execution_count": 13,
   "outputs": [
    {
     "name": "stdout",
     "text": "False\nTrue\nFalse\n",
     "output_type": "stream"
    }
   ]
  },
  {
   "cell_type": "code",
   "metadata": {
    "cell_id": "00023-595ca62a-03bd-4c3e-91c5-ff2e706cffd6",
    "deepnote_to_be_reexecuted": false,
    "source_hash": "a585290d",
    "execution_start": 1669293043270,
    "execution_millis": 2,
    "deepnote_cell_type": "code",
    "deepnote_cell_height": 189
   },
   "source": "def draw_graph(G):   \n    fig, ax = plt.subplots(figsize=(150,100))\n    color_map = ['#7c0a02' if G.nodes[node]['bipartite'] == 0 else '#f4c2c2' for node in G]\n\n    nx.draw(G, node_color = color_map, with_labels = True)\n\n    plt.title('Graph representation', fontsize = 100);",
   "execution_count": 14,
   "outputs": []
  },
  {
   "cell_type": "markdown",
   "source": "# Visualizing the network using Pyvis",
   "metadata": {
    "cell_id": "00024-39512795-e9bd-424a-88e5-44277631ddb0",
    "deepnote_cell_type": "markdown",
    "deepnote_cell_height": 134
   }
  },
  {
   "cell_type": "code",
   "metadata": {
    "cell_id": "00025-308d196f-2417-4ba8-893d-f3aef655248c",
    "deepnote_to_be_reexecuted": false,
    "source_hash": "4c7e8e32",
    "execution_start": 1669293043270,
    "execution_millis": 0,
    "deepnote_cell_type": "code",
    "deepnote_cell_height": 333
   },
   "source": "def make_interactive(attributes, edges):\n    trial = attributes.set_index('Id')\n    n = attributes['Id'].to_list()\n    t= attributes['Label'].to_list()\n    l= attributes['0'].to_list()\n    l1 = attributes['1'].to_list()\n    attributes['color'] = np.where(attributes['0']== 'disease', '#7c0a02' , '#f4c2c2')\n    c = attributes['color'].to_list()\n\n\n    net = Network('100vh', '100vw')\n\n    net.add_nodes(n, title=l, label=t, color=c)\n    net.add_edges(edges)\n    net.show('jk.html')",
   "execution_count": 15,
   "outputs": []
  },
  {
   "cell_type": "code",
   "metadata": {
    "cell_id": "00026-0e58289b-8188-45b6-9365-35979b458df8",
    "deepnote_to_be_reexecuted": false,
    "source_hash": "c5edf5d9",
    "execution_start": 1669293043273,
    "execution_millis": 156910,
    "deepnote_cell_type": "code",
    "deepnote_cell_height": 76
   },
   "source": "#draw_graph(G)",
   "execution_count": 16,
   "outputs": []
  },
  {
   "cell_type": "code",
   "metadata": {
    "cell_id": "00027-a073d174-363a-481d-a456-2b6714c3d613",
    "deepnote_to_be_reexecuted": false,
    "source_hash": "7c5a9f07",
    "execution_start": 1669293043363,
    "execution_millis": 0,
    "deepnote_cell_type": "code",
    "deepnote_cell_height": 94
   },
   "source": "Gp = bipartite.weighted_projected_graph(G, d_nodes)\n#draw_graph(Gp)",
   "execution_count": 17,
   "outputs": []
  },
  {
   "cell_type": "markdown",
   "source": "",
   "metadata": {
    "cell_id": "00028-2d20bdad-ab88-4c7b-ab1d-1227267b3161",
    "deepnote_cell_type": "markdown",
    "deepnote_cell_height": 46
   }
  },
  {
   "cell_type": "code",
   "metadata": {
    "cell_id": "00029-03901d34-c1c9-4135-a348-93235ca3fd84",
    "deepnote_to_be_reexecuted": false,
    "source_hash": "593b4cbe",
    "execution_start": 1669293043363,
    "execution_millis": 1,
    "deepnote_cell_type": "code",
    "deepnote_cell_height": 207
   },
   "source": "\nt= pd.DataFrame(list(Gp.edges(data=True)), columns=['src', 'trg', 'Weight'])\n#list(Gp.nodes(data=True))\nt['Weight'] = [int(k['weight']) for k in t['Weight']]\n\nt.to_csv(sep='\\t', path_or_buf='Data/new_file',header=True)\n\n",
   "execution_count": 18,
   "outputs": []
  },
  {
   "cell_type": "code",
   "source": "list(Gp.nodes(data=True))",
   "metadata": {
    "cell_id": "00030-db5cd303-06d4-4902-b2b3-766de6439150",
    "is_output_hidden": true,
    "deepnote_to_be_reexecuted": false,
    "source_hash": "f26f481c",
    "execution_start": 1669293043364,
    "execution_millis": 132,
    "deepnote_cell_type": "code",
    "deepnote_cell_height": 106.78125,
    "deepnote_output_heights": [
     605.328125
    ]
   },
   "execution_count": 19,
   "outputs": [
    {
     "output_type": "execute_result",
     "execution_count": 19,
     "data": {
      "text/plain": "[(55,\n  {'bipartite': 1,\n   'Label': 'Deafness',\n   'timeset': nan,\n   '0': 'disease',\n   '1': 'Ear,Nose,Throat',\n   'giantcomponent': 0}),\n (47,\n  {'bipartite': 1,\n   'Label': 'Leukemia',\n   'timeset': nan,\n   '0': 'disease',\n   '1': 'Cancer',\n   'giantcomponent': 0}),\n (114,\n  {'bipartite': 1,\n   'Label': 'Colon cancer',\n   'timeset': nan,\n   '0': 'disease',\n   '1': 'Cancer',\n   'giantcomponent': 0}),\n (45,\n  {'bipartite': 1,\n   'Label': 'Retinitis pigmentosa',\n   'timeset': nan,\n   '0': 'disease',\n   '1': 'Ophthamological',\n   'giantcomponent': 0}),\n (87,\n  {'bipartite': 1,\n   'Label': 'Diabetes mellitus',\n   'timeset': nan,\n   '0': 'disease',\n   '1': 'Endocrine',\n   'giantcomponent': 0}),\n (54,\n  {'bipartite': 1,\n   'Label': 'Cardiomyopathy',\n   'timeset': nan,\n   '0': 'disease',\n   '1': 'Cardiovascular',\n   'giantcomponent': 0}),\n (81,\n  {'bipartite': 1,\n   'Label': 'Mental retardation',\n   'timeset': nan,\n   '0': 'disease',\n   '1': 'Neurological',\n   'giantcomponent': 0}),\n (48,\n  {'bipartite': 1,\n   'Label': 'Blood group',\n   'timeset': nan,\n   '0': 'disease',\n   '1': 'Hematological',\n   'giantcomponent': 0}),\n (70,\n  {'bipartite': 1,\n   'Label': 'Obesity',\n   'timeset': nan,\n   '0': 'disease',\n   '1': 'Nutritional',\n   'giantcomponent': 0}),\n (137,\n  {'bipartite': 1,\n   'Label': 'Breast cancer',\n   'timeset': nan,\n   '0': 'disease',\n   '1': 'Cancer',\n   'giantcomponent': 0}),\n (223,\n  {'bipartite': 1,\n   'Label': 'Muscular dystrophy',\n   'timeset': nan,\n   '0': 'disease',\n   '1': 'Muscular',\n   'giantcomponent': 0}),\n (390,\n  {'bipartite': 1,\n   'Label': 'Charcot-Marie-Tooth disease',\n   'timeset': nan,\n   '0': 'disease',\n   '1': 'Neurological',\n   'giantcomponent': 0}),\n (220,\n  {'bipartite': 1,\n   'Label': 'Epilepsy',\n   'timeset': nan,\n   '0': 'disease',\n   '1': 'Neurological',\n   'giantcomponent': 0}),\n (325,\n  {'bipartite': 1,\n   'Label': 'Cataract',\n   'timeset': nan,\n   '0': 'disease',\n   '1': 'Ophthamological',\n   'giantcomponent': 0}),\n (68,\n  {'bipartite': 1,\n   'Label': 'Asthma',\n   'timeset': nan,\n   '0': 'disease',\n   '1': 'Respiratory',\n   'giantcomponent': 0}),\n (208,\n  {'bipartite': 1,\n   'Label': 'Complementary component deficiency',\n   'timeset': nan,\n   '0': 'disease',\n   '1': 'Immunological',\n   'giantcomponent': 0}),\n (213,\n  {'bipartite': 1,\n   'Label': 'Spinocereballar ataxia',\n   'timeset': nan,\n   '0': 'disease',\n   '1': 'Neurological',\n   'giantcomponent': 0}),\n (30,\n  {'bipartite': 1,\n   'Label': 'Alzheimer disease',\n   'timeset': nan,\n   '0': 'disease',\n   '1': 'Neurological',\n   'giantcomponent': 0}),\n (65,\n  {'bipartite': 1,\n   'Label': 'Hypertension',\n   'timeset': nan,\n   '0': 'disease',\n   '1': 'Cardiovascular',\n   'giantcomponent': 0}),\n (139,\n  {'bipartite': 1,\n   'Label': 'Prostate cancer',\n   'timeset': nan,\n   '0': 'disease',\n   '1': 'Cancer',\n   'giantcomponent': 0}),\n (185,\n  {'bipartite': 1,\n   'Label': 'Leigh syndrome',\n   'timeset': nan,\n   '0': 'disease',\n   '1': 'Neurological',\n   'giantcomponent': 0}),\n (202,\n  {'bipartite': 1,\n   'Label': 'Fanconi anemia',\n   'timeset': nan,\n   '0': 'disease',\n   '1': 'Multiple',\n   'giantcomponent': 0}),\n (302,\n  {'bipartite': 1,\n   'Label': 'Epidermolysis bullosa',\n   'timeset': nan,\n   '0': 'disease',\n   '1': 'Dermatological',\n   'giantcomponent': 0}),\n (364,\n  {'bipartite': 1,\n   'Label': 'Parkinson disease',\n   'timeset': nan,\n   '0': 'disease',\n   '1': 'Neurological',\n   'giantcomponent': 0}),\n (634,\n  {'bipartite': 1,\n   'Label': 'Thyroid carcinoma',\n   'timeset': nan,\n   '0': 'disease',\n   '1': 'Cancer',\n   'giantcomponent': 0}),\n (53,\n  {'bipartite': 1,\n   'Label': 'Myopathy',\n   'timeset': nan,\n   '0': 'disease',\n   '1': 'Muscular',\n   'giantcomponent': 0}),\n (86,\n  {'bipartite': 1,\n   'Label': 'Hemolytic anemia',\n   'timeset': nan,\n   '0': 'disease',\n   '1': 'Hematological',\n   'giantcomponent': 0}),\n (99,\n  {'bipartite': 1,\n   'Label': 'Myocardial infarction',\n   'timeset': nan,\n   '0': 'disease',\n   '1': 'Cardiovascular',\n   'giantcomponent': 0}),\n (117,\n  {'bipartite': 1,\n   'Label': 'Gastric cancer',\n   'timeset': nan,\n   '0': 'disease',\n   '1': 'Cancer',\n   'giantcomponent': 0}),\n (155,\n  {'bipartite': 1,\n   'Label': 'Lymphoma',\n   'timeset': nan,\n   '0': 'disease',\n   '1': 'Cancer',\n   'giantcomponent': 0}),\n (41,\n  {'bipartite': 1,\n   'Label': 'Anemia',\n   'timeset': nan,\n   '0': 'disease',\n   '1': 'Hematological',\n   'giantcomponent': 0}),\n (59,\n  {'bipartite': 1,\n   'Label': 'Pancreatic cancer',\n   'timeset': nan,\n   '0': 'disease',\n   '1': 'Cancer',\n   'giantcomponent': 0}),\n (130,\n  {'bipartite': 1,\n   'Label': 'Schizophrenia',\n   'timeset': nan,\n   '0': 'disease',\n   '1': 'Psychiatric',\n   'giantcomponent': 0}),\n (239,\n  {'bipartite': 1,\n   'Label': 'Thrombophilia',\n   'timeset': nan,\n   '0': 'disease',\n   '1': 'Hematological',\n   'giantcomponent': 0}),\n (285,\n  {'bipartite': 1,\n   'Label': 'Ehlers-Danlos syndrome',\n   'timeset': nan,\n   '0': 'disease',\n   '1': 'Connective tissue disorder',\n   'giantcomponent': 0}),\n (640,\n  {'bipartite': 1,\n   'Label': 'Spastic ataxia/paraplegia',\n   'timeset': nan,\n   '0': 'disease',\n   '1': 'Neurological',\n   'giantcomponent': 0}),\n (63,\n  {'bipartite': 1,\n   'Label': 'Severe combined immunodeciency',\n   'timeset': nan,\n   '0': 'disease',\n   '1': 'Immunological',\n   'giantcomponent': 0}),\n (125,\n  {'bipartite': 1,\n   'Label': 'Hypercholesterolemia',\n   'timeset': nan,\n   '0': 'disease',\n   '1': 'Metabolic',\n   'giantcomponent': 0}),\n (197,\n  {'bipartite': 1,\n   'Label': 'Ovarian cancer',\n   'timeset': nan,\n   '0': 'disease',\n   '1': 'Cancer',\n   'giantcomponent': 0}),\n (224,\n  {'bipartite': 1,\n   'Label': 'Hepatic adenoma',\n   'timeset': nan,\n   '0': 'disease',\n   '1': 'Cancer',\n   'giantcomponent': 0}),\n (236,\n  {'bipartite': 1,\n   'Label': 'Rheumatoid arthritis',\n   'timeset': nan,\n   '0': 'disease',\n   '1': 'Connective tissue disorder',\n   'giantcomponent': 0}),\n (414,\n  {'bipartite': 1,\n   'Label': 'Ectodermal dysplasia',\n   'timeset': nan,\n   '0': 'disease',\n   '1': 'Dermatological',\n   'giantcomponent': 0}),\n (420,\n  {'bipartite': 1,\n   'Label': 'Neuropathy',\n   'timeset': nan,\n   '0': 'disease',\n   '1': 'Neurological',\n   'giantcomponent': 0}),\n (448,\n  {'bipartite': 1,\n   'Label': 'Factor x deficiency',\n   'timeset': nan,\n   '0': 'disease',\n   '1': 'Hematological',\n   'giantcomponent': 0}),\n (822,\n  {'bipartite': 1,\n   'Label': 'Usher syndrome',\n   'timeset': nan,\n   '0': 'disease',\n   '1': 'Multiple',\n   'giantcomponent': 0}),\n (42,\n  {'bipartite': 1,\n   'Label': 'Cone dystrophy',\n   'timeset': nan,\n   '0': 'disease',\n   '1': 'Ophthamological',\n   'giantcomponent': 0}),\n (110,\n  {'bipartite': 1,\n   'Label': 'Long QT syndrome',\n   'timeset': nan,\n   '0': 'disease',\n   '1': 'Cardiovascular',\n   'giantcomponent': 0}),\n (122,\n  {'bipartite': 1,\n   'Label': 'Corneal dystrophy',\n   'timeset': nan,\n   '0': 'disease',\n   '1': 'Ophthamological',\n   'giantcomponent': 0}),\n (140,\n  {'bipartite': 1,\n   'Label': 'Spinal muscular atrophy',\n   'timeset': nan,\n   '0': 'disease',\n   '1': 'Muscular',\n   'giantcomponent': 0}),\n (146,\n  {'bipartite': 1,\n   'Label': 'Ichthyosis',\n   'timeset': nan,\n   '0': 'disease',\n   '1': 'Dermatological',\n   'giantcomponent': 0}),\n (186,\n  {'bipartite': 1,\n   'Label': 'Mitochondrial complex deciency',\n   'timeset': nan,\n   '0': 'disease',\n   '1': 'Multiple',\n   'giantcomponent': 0}),\n (266,\n  {'bipartite': 1,\n   'Label': 'Myasthenic syndrome',\n   'timeset': nan,\n   '0': 'disease',\n   '1': 'Muscular',\n   'giantcomponent': 0}),\n (324,\n  {'bipartite': 1,\n   'Label': 'Leber congenital amaurosis',\n   'timeset': nan,\n   '0': 'disease',\n   '1': 'Ophthamological',\n   'giantcomponent': 0}),\n (332,\n  {'bipartite': 1,\n   'Label': 'Hypothyroidism',\n   'timeset': nan,\n   '0': 'disease',\n   '1': 'Endocrine',\n   'giantcomponent': 0}),\n (411,\n  {'bipartite': 1,\n   'Label': 'Hirschsprung disease',\n   'timeset': nan,\n   '0': 'disease',\n   '1': 'Gastrointestinal',\n   'giantcomponent': 0}),\n (775,\n  {'bipartite': 1,\n   'Label': 'Renal cell carcinoma',\n   'timeset': nan,\n   '0': 'disease',\n   '1': 'Cancer',\n   'giantcomponent': 0}),\n (37,\n  {'bipartite': 1,\n   'Label': 'Coronary artery disease',\n   'timeset': nan,\n   '0': 'disease',\n   '1': 'Cardiovascular',\n   'giantcomponent': 0}),\n (120,\n  {'bipartite': 1,\n   'Label': 'Amyloidosis',\n   'timeset': nan,\n   '0': 'disease',\n   '1': 'Neurological',\n   'giantcomponent': 0}),\n (222,\n  {'bipartite': 1,\n   'Label': 'Osteoporosis',\n   'timeset': nan,\n   '0': 'disease',\n   '1': 'Bone',\n   'giantcomponent': 0}),\n (306,\n  {'bipartite': 1,\n   'Label': 'Epiphyseal dysplasia',\n   'timeset': nan,\n   '0': 'disease',\n   '1': 'Bone',\n   'giantcomponent': 0}),\n (367,\n  {'bipartite': 1,\n   'Label': 'Amyotrophic lateral sclerosis',\n   'timeset': nan,\n   '0': 'disease',\n   '1': 'Neurological',\n   'giantcomponent': 0}),\n (541,\n  {'bipartite': 1,\n   'Label': 'MODY',\n   'timeset': nan,\n   '0': 'disease',\n   '1': 'Endocrine',\n   'giantcomponent': 0}),\n (751,\n  {'bipartite': 1,\n   'Label': 'Dementia',\n   'timeset': nan,\n   '0': 'disease',\n   '1': 'Neurological',\n   'giantcomponent': 0}),\n (786,\n  {'bipartite': 1,\n   'Label': 'Pseudohypoaldosteronism',\n   'timeset': nan,\n   '0': 'disease',\n   '1': 'Endocrine',\n   'giantcomponent': 0}),\n (44,\n  {'bipartite': 1,\n   'Label': 'Macular dystrophy',\n   'timeset': nan,\n   '0': 'disease',\n   '1': 'Ophthamological',\n   'giantcomponent': 0}),\n (74,\n  {'bipartite': 1,\n   'Label': 'Spondyloepiphyseal dysplasia',\n   'timeset': nan,\n   '0': 'disease',\n   '1': 'Skeletal',\n   'giantcomponent': 0}),\n (109,\n  {'bipartite': 1,\n   'Label': 'Spherocytosis',\n   'timeset': nan,\n   '0': 'disease',\n   '1': 'Hematological',\n   'giantcomponent': 0}),\n (164,\n  {'bipartite': 1,\n   'Label': 'Renal tubular acidosis',\n   'timeset': nan,\n   '0': 'disease',\n   '1': 'Renal',\n   'giantcomponent': 0}),\n (187,\n  {'bipartite': 1,\n   'Label': 'Central hypoventilation syndrome',\n   'timeset': nan,\n   '0': 'disease',\n   '1': 'Respiratory',\n   'giantcomponent': 0}),\n (200,\n  {'bipartite': 1,\n   'Label': 'Melanoma',\n   'timeset': nan,\n   '0': 'disease',\n   '1': 'Cancer',\n   'giantcomponent': 0}),\n (215,\n  {'bipartite': 1,\n   'Label': 'Night blindness',\n   'timeset': nan,\n   '0': 'disease',\n   '1': 'Ophthamological',\n   'giantcomponent': 0}),\n (219,\n  {'bipartite': 1,\n   'Label': 'Ataxia',\n   'timeset': nan,\n   '0': 'disease',\n   '1': 'Neurological',\n   'giantcomponent': 0}),\n (245,\n  {'bipartite': 1,\n   'Label': 'Malaria',\n   'timeset': nan,\n   '0': 'disease',\n   '1': 'Immunological',\n   'giantcomponent': 0}),\n (327,\n  {'bipartite': 1,\n   'Label': 'Atrial fibrillation',\n   'timeset': nan,\n   '0': 'disease',\n   '1': 'Cardiovascular',\n   'giantcomponent': 0}),\n (384,\n  {'bipartite': 1,\n   'Label': 'Glioblastoma',\n   'timeset': nan,\n   '0': 'disease',\n   '1': 'Cancer',\n   'giantcomponent': 0}),\n (607,\n  {'bipartite': 1,\n   'Label': 'Macular degeneration',\n   'timeset': nan,\n   '0': 'disease',\n   '1': 'Ophthamological',\n   'giantcomponent': 0}),\n (661,\n  {'bipartite': 1,\n   'Label': 'Atopy',\n   'timeset': nan,\n   '0': 'disease',\n   '1': 'Immunological',\n   'giantcomponent': 0}),\n (736,\n  {'bipartite': 1,\n   'Label': 'Lipodystrophy',\n   'timeset': nan,\n   '0': 'disease',\n   '1': 'Metabolic',\n   'giantcomponent': 0}),\n (778,\n  {'bipartite': 1,\n   'Label': 'Bare lymphocyte syndrome',\n   'timeset': nan,\n   '0': 'disease',\n   '1': 'Immunological',\n   'giantcomponent': 0}),\n (940,\n  {'bipartite': 1,\n   'Label': 'Holoprosencephaly',\n   'timeset': nan,\n   '0': 'disease',\n   '1': 'Developmental',\n   'giantcomponent': 0}),\n (80,\n  {'bipartite': 1,\n   'Label': 'Renal tubular dysgenesis',\n   'timeset': nan,\n   '0': 'disease',\n   '1': 'Renal',\n   'giantcomponent': 0}),\n (119,\n  {'bipartite': 1,\n   'Label': 'Autoimmune disease',\n   'timeset': nan,\n   '0': 'disease',\n   '1': 'Immunological',\n   'giantcomponent': 0}),\n (121,\n  {'bipartite': 1,\n   'Label': 'Apolipoprotein deficiency',\n   'timeset': nan,\n   '0': 'disease',\n   '1': 'Metabolic',\n   'giantcomponent': 0}),\n (123,\n  {'bipartite': 1,\n   'Label': 'Hypertriglyceridemia',\n   'timeset': nan,\n   '0': 'disease',\n   '1': 'Metabolic',\n   'giantcomponent': 0}),\n (133,\n  {'bipartite': 1,\n   'Label': 'Systemic lupus erythematosus',\n   'timeset': nan,\n   '0': 'disease',\n   '1': 'Immunological',\n   'giantcomponent': 0}),\n (158,\n  {'bipartite': 1,\n   'Label': 'Migraine',\n   'timeset': nan,\n   '0': 'disease',\n   '1': 'Neurological',\n   'giantcomponent': 0}),\n (180,\n  {'bipartite': 1,\n   'Label': 'Maple syrup urine disease',\n   'timeset': nan,\n   '0': 'disease',\n   '1': 'Metabolic',\n   'giantcomponent': 0}),\n (199,\n  {'bipartite': 1,\n   'Label': 'Adenocarcinoma',\n   'timeset': nan,\n   '0': 'disease',\n   '1': 'Cancer',\n   'giantcomponent': 0}),\n (203,\n  {'bipartite': 1,\n   'Label': 'Wilms tumor',\n   'timeset': nan,\n   '0': 'disease',\n   '1': 'Cancer',\n   'giantcomponent': 0}),\n (235,\n  {'bipartite': 1,\n   'Label': 'Platelet defect/deficiency',\n   'timeset': nan,\n   '0': 'disease',\n   '1': 'Hematological',\n   'giantcomponent': 0}),\n (237,\n  {'bipartite': 1,\n   'Label': 'Myelogenous leukemia',\n   'timeset': nan,\n   '0': 'disease',\n   '1': 'Cancer',\n   'giantcomponent': 0}),\n (248,\n  {'bipartite': 1,\n   'Label': 'Endometrial carcinoma',\n   'timeset': nan,\n   '0': 'disease',\n   '1': 'Cancer',\n   'giantcomponent': 0}),\n (277,\n  {'bipartite': 1,\n   'Label': 'Osteopetrosis',\n   'timeset': nan,\n   '0': 'disease',\n   '1': 'Bone',\n   'giantcomponent': 0}),\n (280,\n  {'bipartite': 1,\n   'Label': 'HIV',\n   'timeset': nan,\n   '0': 'disease',\n   '1': 'Immunological',\n   'giantcomponent': 0}),\n (290,\n  {'bipartite': 1,\n   'Label': 'Osteoarthritis',\n   'timeset': nan,\n   '0': 'disease',\n   '1': 'Connective tissue disorder',\n   'giantcomponent': 0}),\n (314,\n  {'bipartite': 1,\n   'Label': 'Lung cancer',\n   'timeset': nan,\n   '0': 'disease',\n   '1': 'Cancer',\n   'giantcomponent': 0}),\n (340,\n  {'bipartite': 1,\n   'Label': 'Glaucoma',\n   'timeset': nan,\n   '0': 'disease',\n   '1': 'Ophthamological',\n   'giantcomponent': 0}),\n (369,\n  {'bipartite': 1,\n   'Label': 'Lissencephaly',\n   'timeset': nan,\n   '0': 'disease',\n   '1': 'Neurological',\n   'giantcomponent': 0}),\n (401,\n  {'bipartite': 1,\n   'Label': 'Keratosis palmoplantaria striata',\n   'timeset': nan,\n   '0': 'disease',\n   '1': 'Dermatological',\n   'giantcomponent': 0}),\n (419,\n  {'bipartite': 1,\n   'Label': 'Dejerine-Sottas disease',\n   'timeset': nan,\n   '0': 'disease',\n   '1': 'Multiple',\n   'giantcomponent': 0}),\n (423,\n  {'bipartite': 1,\n   'Label': 'Neutropenia',\n   'timeset': nan,\n   '0': 'disease',\n   '1': 'Hematological',\n   'giantcomponent': 0}),\n (429,\n  {'bipartite': 1,\n   'Label': 'Elliptocytosis',\n   'timeset': nan,\n   '0': 'disease',\n   '1': 'Hematological',\n   'giantcomponent': 0}),\n (441,\n  {'bipartite': 1,\n   'Label': 'Anterior segment anomalies and cataract',\n   'timeset': nan,\n   '0': 'disease',\n   '1': 'Ophthamological',\n   'giantcomponent': 0}),\n (447,\n  {'bipartite': 1,\n   'Label': 'Thrombocytopenia',\n   'timeset': nan,\n   '0': 'disease',\n   '1': 'Hematological',\n   'giantcomponent': 0}),\n (474,\n  {'bipartite': 1,\n   'Label': 'Bladder cancer',\n   'timeset': nan,\n   '0': 'disease',\n   '1': 'Cancer',\n   'giantcomponent': 0}),\n (497,\n  {'bipartite': 1,\n   'Label': 'Rhabdomyosarcoma',\n   'timeset': nan,\n   '0': 'disease',\n   '1': 'Cancer',\n   'giantcomponent': 0}),\n (570,\n  {'bipartite': 1,\n   'Label': 'Autism',\n   'timeset': nan,\n   '0': 'disease',\n   '1': 'Psychiatric',\n   'giantcomponent': 0}),\n (602,\n  {'bipartite': 1,\n   'Label': 'Huntington disease',\n   'timeset': nan,\n   '0': 'disease',\n   '1': 'Neurological',\n   'giantcomponent': 0}),\n (782,\n  {'bipartite': 1,\n   'Label': 'Waardenburg syndrome',\n   'timeset': nan,\n   '0': 'disease',\n   '1': 'Multiple',\n   'giantcomponent': 0}),\n (790,\n  {'bipartite': 1,\n   'Label': 'Meningioma',\n   'timeset': nan,\n   '0': 'disease',\n   '1': 'Cancer',\n   'giantcomponent': 0}),\n (851,\n  {'bipartite': 1,\n   'Label': 'Retinal cone dsytrophy',\n   'timeset': nan,\n   '0': 'disease',\n   '1': 'Ophthamological',\n   'giantcomponent': 0}),\n (938,\n  {'bipartite': 1,\n   'Label': 'Basal cell carcinoma',\n   'timeset': nan,\n   '0': 'disease',\n   '1': 'Cancer',\n   'giantcomponent': 0}),\n (968,\n  {'bipartite': 1,\n   'Label': 'Esophageal cancer',\n   'timeset': nan,\n   '0': 'disease',\n   '1': 'Cancer',\n   'giantcomponent': 0}),\n (43,\n  {'bipartite': 1,\n   'Label': 'Fundus albipunctatus',\n   'timeset': nan,\n   '0': 'disease',\n   '1': 'Ophthamological',\n   'giantcomponent': 0}),\n (78,\n  {'bipartite': 1,\n   'Label': 'Tetralogy of Fallot',\n   'timeset': nan,\n   '0': 'disease',\n   '1': 'Cardiovascular',\n   'giantcomponent': 0}),\n (79,\n  {'bipartite': 1,\n   'Label': 'Preeclampsia',\n   'timeset': nan,\n   '0': 'disease',\n   '1': 'Cardiovascular',\n   'giantcomponent': 0}),\n (101,\n  {'bipartite': 1,\n   'Label': 'Ichthyosiform erythroderma',\n   'timeset': nan,\n   '0': 'disease',\n   '1': 'Dermatological',\n   'giantcomponent': 0}),\n (113,\n  {'bipartite': 1,\n   'Label': 'Adenomas',\n   'timeset': nan,\n   '0': 'disease',\n   '1': 'Cancer',\n   'giantcomponent': 0}),\n (118,\n  {'bipartite': 1,\n   'Label': 'Turcot syndrome',\n   'timeset': nan,\n   '0': 'disease',\n   '1': 'Cancer',\n   'giantcomponent': 0}),\n (132,\n  {'bipartite': 1,\n   'Label': 'Squamous cell carcinoma',\n   'timeset': nan,\n   '0': 'disease',\n   '1': 'Cancer',\n   'giantcomponent': 0}),\n (165,\n  {'bipartite': 1,\n   'Label': 'Cutis laxa',\n   'timeset': nan,\n   '0': 'disease',\n   '1': 'Connective tissue disorder',\n   'giantcomponent': 0}),\n (177,\n  {'bipartite': 1,\n   'Label': 'Hypercholanemia',\n   'timeset': nan,\n   '0': 'disease',\n   '1': 'Gastrointestinal',\n   'giantcomponent': 0}),\n (189,\n  {'bipartite': 1,\n   'Label': 'Obsessive-compulsive disorder',\n   'timeset': nan,\n   '0': 'disease',\n   '1': 'Psychiatric',\n   'giantcomponent': 0}),\n (201,\n  {'bipartite': 1,\n   'Label': 'Nonsmall cell lung cancer',\n   'timeset': nan,\n   '0': 'disease',\n   '1': 'Cancer',\n   'giantcomponent': 0}),\n (216,\n  {'bipartite': 1,\n   'Label': 'Hypokalemic periodic paralysis',\n   'timeset': nan,\n   '0': 'disease',\n   '1': 'Renal',\n   'giantcomponent': 0}),\n (226,\n  {'bipartite': 1,\n   'Label': 'Ventricular tachycardia',\n   'timeset': nan,\n   '0': 'disease',\n   '1': 'Cardiovascular',\n   'giantcomponent': 0}),\n (227,\n  {'bipartite': 1,\n   'Label': 'Hyperparathyroidism',\n   'timeset': nan,\n   '0': 'disease',\n   '1': 'Endocrine',\n   'giantcomponent': 0}),\n (270,\n  {'bipartite': 1,\n   'Label': 'Nicotine addiction',\n   'timeset': nan,\n   '0': 'disease',\n   '1': 'Psychiatric',\n   'giantcomponent': 0}),\n (282,\n  {'bipartite': 1,\n   'Label': 'Achromatopsia',\n   'timeset': nan,\n   '0': 'disease',\n   '1': 'Ophthamological',\n   'giantcomponent': 0}),\n (292,\n  {'bipartite': 1,\n   'Label': 'Stickler syndrome',\n   'timeset': nan,\n   '0': 'disease',\n   '1': 'Multiple',\n   'giantcomponent': 0}),\n (328,\n  {'bipartite': 1,\n   'Label': 'Atrioventricular block',\n   'timeset': nan,\n   '0': 'disease',\n   '1': 'Cardiovascular',\n   'giantcomponent': 0}),\n (402,\n  {'bipartite': 1,\n   'Label': 'Arrhythmogenic right ventricular dysplasia',\n   'timeset': nan,\n   '0': 'disease',\n   '1': 'Cardiovascular',\n   'giantcomponent': 0}),\n (464,\n  {'bipartite': 1,\n   'Label': 'Walker-Warburg syndrome',\n   'timeset': nan,\n   '0': 'disease',\n   '1': 'Multiple',\n   'giantcomponent': 0}),\n (467,\n  {'bipartite': 1,\n   'Label': 'Dysfibrinogenemia',\n   'timeset': nan,\n   '0': 'disease',\n   '1': 'Hematological',\n   'giantcomponent': 0}),\n (527,\n  {'bipartite': 1,\n   'Label': 'Myoclonic epilepsy',\n   'timeset': nan,\n   '0': 'disease',\n   '1': 'Neurological',\n   'giantcomponent': 0}),\n (560,\n  {'bipartite': 1,\n   'Label': 'Erythrokeratoderma',\n   'timeset': nan,\n   '0': 'disease',\n   '1': 'Dermatological',\n   'giantcomponent': 0}),\n (574,\n  {'bipartite': 1,\n   'Label': 'Pituitary ACTH-secreting adenoma',\n   'timeset': nan,\n   '0': 'disease',\n   '1': 'Cancer',\n   'giantcomponent': 0}),\n (671,\n  {'bipartite': 1,\n   'Label': 'Myelodysplastic syndrome',\n   'timeset': nan,\n   '0': 'disease',\n   '1': 'Muscular',\n   'giantcomponent': 0}),\n (703,\n  {'bipartite': 1,\n   'Label': 'Epidermolytic hyperkeratosis',\n   'timeset': nan,\n   '0': 'disease',\n   '1': 'Dermatological',\n   'giantcomponent': 0}),\n (742,\n  {'bipartite': 1,\n   'Label': 'Lipoma',\n   'timeset': nan,\n   '0': 'disease',\n   '1': 'Cancer',\n   'giantcomponent': 0}),\n (744,\n  {'bipartite': 1,\n   'Label': 'Exudative vitreoretinopathy',\n   'timeset': nan,\n   '0': 'disease',\n   '1': 'Ophthamological',\n   'giantcomponent': 0}),\n (795,\n  {'bipartite': 1,\n   'Label': 'Neurofibromatosis',\n   'timeset': nan,\n   '0': 'disease',\n   '1': 'Cancer',\n   'giantcomponent': 0}),\n (796,\n  {'bipartite': 1,\n   'Label': 'Cleft palate',\n   'timeset': nan,\n   '0': 'disease',\n   '1': 'Developmental',\n   'giantcomponent': 0}),\n (856,\n  {'bipartite': 1,\n   'Label': 'Albinism',\n   'timeset': nan,\n   '0': 'disease',\n   '1': 'Dermatological',\n   'giantcomponent': 0}),\n (880,\n  {'bipartite': 1,\n   'Label': 'Pyruvate dehydrogenase deciency',\n   'timeset': nan,\n   '0': 'disease',\n   '1': 'Metabolic',\n   'giantcomponent': 0}),\n (919,\n  {'bipartite': 1,\n   'Label': 'Insulin resistance',\n   'timeset': nan,\n   '0': 'disease',\n   '1': 'Metabolic',\n   'giantcomponent': 0}),\n (953,\n  {'bipartite': 1,\n   'Label': 'Omenn syndrome',\n   'timeset': nan,\n   '0': 'disease',\n   '1': 'Immunological',\n   'giantcomponent': 0}),\n (984,\n  {'bipartite': 1,\n   'Label': 'Paragangliomas',\n   'timeset': nan,\n   '0': 'disease',\n   '1': 'Cancer',\n   'giantcomponent': 0}),\n (985,\n  {'bipartite': 1,\n   'Label': 'Pheochromocytoma',\n   'timeset': nan,\n   '0': 'disease',\n   '1': 'Cancer',\n   'giantcomponent': 0}),\n (36,\n  {'bipartite': 1,\n   'Label': 'Cerebral amyloid angiopathy',\n   'timeset': nan,\n   '0': 'disease',\n   '1': 'Neurological',\n   'giantcomponent': 0}),\n (38,\n  {'bipartite': 1,\n   'Label': 'HDL cholesterol level QTL',\n   'timeset': nan,\n   '0': 'disease',\n   '1': 'Metabolic',\n   'giantcomponent': 0}),\n (46,\n  {'bipartite': 1,\n   'Label': 'Stargardt disease',\n   'timeset': nan,\n   '0': 'disease',\n   '1': 'Ophthamological',\n   'giantcomponent': 0}),\n (100,\n  {'bipartite': 1,\n   'Label': 'Stroke',\n   'timeset': nan,\n   '0': 'disease',\n   '1': 'Cardiovascular',\n   'giantcomponent': 0}),\n (126,\n  {'bipartite': 1,\n   'Label': 'Abetalipoproteinemia',\n   'timeset': nan,\n   '0': 'disease',\n   '1': 'Metabolic',\n   'giantcomponent': 0}),\n (128,\n  {'bipartite': 1,\n   'Label': 'Hyperlipoproteinemia',\n   'timeset': nan,\n   '0': 'disease',\n   '1': 'Metabolic',\n   'giantcomponent': 0}),\n (131,\n  {'bipartite': 1,\n   'Label': 'Urolithiasise',\n   'timeset': nan,\n   '0': 'disease',\n   '1': 'Metabolic',\n   'giantcomponent': 0}),\n (154,\n  {'bipartite': 1,\n   'Label': 'Ataxia-telangiectasia',\n   'timeset': nan,\n   '0': 'disease',\n   '1': 'Immunological',\n   'giantcomponent': 0}),\n (156,\n  {'bipartite': 1,\n   'Label': 'T-cell lymphoblastic leukemia',\n   'timeset': nan,\n   '0': 'disease',\n   '1': 'Cancer',\n   'giantcomponent': 0}),\n (181,\n  {'bipartite': 1,\n   'Label': 'von Hippel-Lindau syndrome',\n   'timeset': nan,\n   '0': 'disease',\n   '1': 'Cancer',\n   'giantcomponent': 0}),\n (191,\n  {'bipartite': 1,\n   'Label': 'Cowden disease',\n   'timeset': nan,\n   '0': 'disease',\n   '1': 'Cancer',\n   'giantcomponent': 0}),\n (192,\n  {'bipartite': 1,\n   'Label': 'Polyposis',\n   'timeset': nan,\n   '0': 'disease',\n   '1': 'Cancer',\n   'giantcomponent': 0}),\n (209,\n  {'bipartite': 1,\n   'Label': 'Combined immunodeficiency',\n   'timeset': nan,\n   '0': 'disease',\n   '1': 'Immunological',\n   'giantcomponent': 0}),\n (210,\n  {'bipartite': 1,\n   'Label': 'Cerebellar ataxia',\n   'timeset': nan,\n   '0': 'disease',\n   '1': 'Neurological',\n   'giantcomponent': 0}),\n (211,\n  {'bipartite': 1,\n   'Label': 'Episodic ataxia',\n   'timeset': nan,\n   '0': 'disease',\n   '1': 'Neurological',\n   'giantcomponent': 0}),\n (217,\n  {'bipartite': 1,\n   'Label': 'Malignant hyperthermia susceptibility',\n   'timeset': nan,\n   '0': 'disease',\n   '1': 'Neurological',\n   'giantcomponent': 0}),\n (238,\n  {'bipartite': 1,\n   'Label': 'Homocystinuria',\n   'timeset': nan,\n   '0': 'disease',\n   '1': 'Metabolic',\n   'giantcomponent': 0}),\n (272,\n  {'bipartite': 1,\n   'Label': 'Myotonia congenita',\n   'timeset': nan,\n   '0': 'disease',\n   '1': 'Muscular',\n   'giantcomponent': 0}),\n (286,\n  {'bipartite': 1,\n   'Label': 'Osteogenesis imperfecta',\n   'timeset': nan,\n   '0': 'disease',\n   '1': 'Bone',\n   'giantcomponent': 0}),\n (287,\n  {'bipartite': 1,\n   'Label': 'Marfan syndrome',\n   'timeset': nan,\n   '0': 'disease',\n   '1': 'Connective tissue disorder',\n   'giantcomponent': 0}),\n (307,\n  {'bipartite': 1,\n   'Label': 'Intervertebral disc disease',\n   'timeset': nan,\n   '0': 'disease',\n   '1': 'Neurological',\n   'giantcomponent': 0}),\n (322,\n  {'bipartite': 1,\n   'Label': 'CPT deficiency, hepatic',\n   'timeset': nan,\n   '0': 'disease',\n   '1': 'Metabolic',\n   'giantcomponent': 0}),\n (323,\n  {'bipartite': 1,\n   'Label': 'Rubenstein-Taybi syndrome',\n   'timeset': nan,\n   '0': 'disease',\n   '1': 'Multiple',\n   'giantcomponent': 0}),\n (331,\n  {'bipartite': 1,\n   'Label': 'Graves disease',\n   'timeset': nan,\n   '0': 'disease',\n   '1': 'Endocrine',\n   'giantcomponent': 0}),\n (341,\n  {'bipartite': 1,\n   'Label': 'Peters anomaly',\n   'timeset': nan,\n   '0': 'disease',\n   '1': 'Developmental',\n   'giantcomponent': 0}),\n (370,\n  {'bipartite': 1,\n   'Label': 'Subcortical laminar heterotopia',\n   'timeset': nan,\n   '0': 'disease',\n   '1': 'Neurological',\n   'giantcomponent': 0}),\n (385,\n  {'bipartite': 1,\n   'Label': 'Becker muscular dystrophy',\n   'timeset': nan,\n   '0': 'disease',\n   '1': 'Muscular',\n   'giantcomponent': 0}),\n (408,\n  {'bipartite': 1,\n   'Label': 'Atelosteogenesis',\n   'timeset': nan,\n   '0': 'disease',\n   '1': 'Connective tissue disorder',\n   'giantcomponent': 0}),\n (417,\n  {'bipartite': 1,\n   'Label': 'Waardenburg-Shah syndrome',\n   'timeset': nan,\n   '0': 'disease',\n   '1': 'Multiple',\n   'giantcomponent': 0}),\n (426,\n  {'bipartite': 1,\n   'Label': 'Emery-Dreifuss muscular dystrophy',\n   'timeset': nan,\n   '0': 'disease',\n   '1': 'Muscular',\n   'giantcomponent': 0}),\n (446,\n  {'bipartite': 1,\n   'Label': 'Hemorrhagic diathesis',\n   'timeset': nan,\n   '0': 'disease',\n   '1': 'Hematological',\n   'giantcomponent': 0}),\n (454,\n  {'bipartite': 1,\n   'Label': 'Ectopia',\n   'timeset': nan,\n   '0': 'disease',\n   '1': 'Ophthamological',\n   'giantcomponent': 0}),\n (457,\n  {'bipartite': 1,\n   'Label': 'Weill-Marchesani syndrome',\n   'timeset': nan,\n   '0': 'disease',\n   '1': 'Connective tissue disorder',\n   'giantcomponent': 0}),\n (463,\n  {'bipartite': 1,\n   'Label': 'Viral infection',\n   'timeset': nan,\n   '0': 'disease',\n   '1': 'Immunological',\n   'giantcomponent': 0}),\n (466,\n  {'bipartite': 1,\n   'Label': 'Afibrinogenemia',\n   'timeset': nan,\n   '0': 'disease',\n   '1': 'Hematological',\n   'giantcomponent': 0}),\n (470,\n  {'bipartite': 1,\n   'Label': 'Jackson-Weiss syndrome',\n   'timeset': nan,\n   '0': 'disease',\n   '1': 'Skeletal',\n   'giantcomponent': 0}),\n (471,\n  {'bipartite': 1,\n   'Label': 'Kallmann syndrome',\n   'timeset': nan,\n   '0': 'disease',\n   '1': 'Multiple',\n   'giantcomponent': 0}),\n (472,\n  {'bipartite': 1,\n   'Label': 'Pfeiffer syndrome',\n   'timeset': nan,\n   '0': 'disease',\n   '1': 'Skeletal',\n   'giantcomponent': 0}),\n (476,\n  {'bipartite': 1,\n   'Label': 'Crouzon syndrome',\n   'timeset': nan,\n   '0': 'disease',\n   '1': 'Skeletal',\n   'giantcomponent': 0}),\n (483,\n  {'bipartite': 1,\n   'Label': 'Craniosynostosis',\n   'timeset': nan,\n   '0': 'disease',\n   '1': 'Skeletal',\n   'giantcomponent': 0}),\n (484,\n  {'bipartite': 1,\n   'Label': 'Saethre-Chotzen syndrome',\n   'timeset': nan,\n   '0': 'disease',\n   '1': 'Developmental',\n   'giantcomponent': 0}),\n (485,\n  {'bipartite': 1,\n   'Label': 'Cancer susceptibility',\n   'timeset': nan,\n   '0': 'disease',\n   '1': 'Cancer',\n   'giantcomponent': 0}),\n (491,\n  {'bipartite': 1,\n   'Label': 'Iridogoniodysgenesis',\n   'timeset': nan,\n   '0': 'disease',\n   '1': 'Ophthamological',\n   'giantcomponent': 0}),\n (493,\n  {'bipartite': 1,\n   'Label': 'Rieger syndrome',\n   'timeset': nan,\n   '0': 'disease',\n   '1': 'Multiple',\n   'giantcomponent': 0}),\n (526,\n  {'bipartite': 1,\n   'Label': 'Insomnia',\n   'timeset': nan,\n   '0': 'disease',\n   '1': 'Psychiatric',\n   'giantcomponent': 0}),\n (545,\n  {'bipartite': 1,\n   'Label': 'Alexander disease',\n   'timeset': nan,\n   '0': 'disease',\n   '1': 'Multiple',\n   'giantcomponent': 0}),\n (550,\n  {'bipartite': 1,\n   'Label': 'Growth hormone',\n   'timeset': nan,\n   '0': 'disease',\n   '1': 'Endocrine',\n   'giantcomponent': 0}),\n (559,\n  {'bipartite': 1,\n   'Label': 'Vohwinkel syndrome',\n   'timeset': nan,\n   '0': 'disease',\n   '1': 'Multiple',\n   'giantcomponent': 0}),\n (575,\n  {'bipartite': 1,\n   'Label': 'Acromegaly',\n   'timeset': nan,\n   '0': 'disease',\n   '1': 'Endocrine',\n   'giantcomponent': 0}),\n (616,\n  {'bipartite': 1,\n   'Label': 'Creutzfeldt-Jakob disease',\n   'timeset': nan,\n   '0': 'disease',\n   '1': 'Neurological',\n   'giantcomponent': 0}),\n (681,\n  {'bipartite': 1,\n   'Label': 'Polycythemia',\n   'timeset': nan,\n   '0': 'disease',\n   '1': 'Hematological',\n   'giantcomponent': 0}),\n (682,\n  {'bipartite': 1,\n   'Label': 'Thrombocythemia',\n   'timeset': nan,\n   '0': 'disease',\n   '1': 'Hematological',\n   'giantcomponent': 0}),\n (685,\n  {'bipartite': 1,\n   'Label': 'Jervell and Lange-Nielsen syndrome',\n   'timeset': nan,\n   '0': 'disease',\n   '1': 'Multiple',\n   'giantcomponent': 0}),\n (691,\n  {'bipartite': 1,\n   'Label': 'Gastrointestinal stromal tumor',\n   'timeset': nan,\n   '0': 'disease',\n   '1': 'Cancer',\n   'giantcomponent': 0}),\n (692,\n  {'bipartite': 1,\n   'Label': 'Germ cell tumor',\n   'timeset': nan,\n   '0': 'disease',\n   '1': 'Cancer',\n   'giantcomponent': 0}),\n (765,\n  {'bipartite': 1,\n   'Label': 'Angelman syndrome',\n   'timeset': nan,\n   '0': 'disease',\n   '1': 'Developmental',\n   'giantcomponent': 0}),\n (767,\n  {'bipartite': 1,\n   'Label': 'Rett syndrome',\n   'timeset': nan,\n   '0': 'disease',\n   '1': 'Neurological',\n   'giantcomponent': 0}),\n (772,\n  {'bipartite': 1,\n   'Label': 'Multiple endocrine neoplasia',\n   'timeset': nan,\n   '0': 'disease',\n   '1': 'Cancer',\n   'giantcomponent': 0}),\n (773,\n  {'bipartite': 1,\n   'Label': 'Parathyroid adenoma',\n   'timeset': nan,\n   '0': 'disease',\n   '1': 'Cancer',\n   'giantcomponent': 0}),\n (779,\n  {'bipartite': 1,\n   'Label': 'Multiple sclerosis',\n   'timeset': nan,\n   '0': 'disease',\n   '1': 'Neurological',\n   'giantcomponent': 0}),\n (784,\n  {'bipartite': 1,\n   'Label': 'Cafe-au-lait spots',\n   'timeset': nan,\n   '0': 'disease',\n   '1': 'Cancer',\n   'giantcomponent': 0}),\n (785,\n  {'bipartite': 1,\n   'Label': 'Muir-Torre syndrome',\n   'timeset': nan,\n   '0': 'disease',\n   '1': 'Cancer',\n   'giantcomponent': 0}),\n (793,\n  {'bipartite': 1,\n   'Label': 'Roussy-Levy syndrome',\n   'timeset': nan,\n   '0': 'disease',\n   '1': 'Multiple',\n   'giantcomponent': 0}),\n (797,\n  {'bipartite': 1,\n   'Label': 'Hypodontia',\n   'timeset': nan,\n   '0': 'disease',\n   '1': 'Skeletal',\n   'giantcomponent': 0}),\n (799,\n  {'bipartite': 1,\n   'Label': 'Parietal foramina',\n   'timeset': nan,\n   '0': 'disease',\n   '1': 'Skeletal',\n   'giantcomponent': 0}),\n (814,\n  {'bipartite': 1,\n   'Label': 'Central core disease',\n   'timeset': nan,\n   '0': 'disease',\n   '1': 'Muscular',\n   'giantcomponent': 0}),\n (815,\n  {'bipartite': 1,\n   'Label': 'Carney complex',\n   'timeset': nan,\n   '0': 'disease',\n   '1': 'Multiple',\n   'giantcomponent': 0}),\n (838,\n  {'bipartite': 1,\n   'Label': 'Neuroblastoma',\n   'timeset': nan,\n   '0': 'disease',\n   '1': 'Cancer',\n   'giantcomponent': 0}),\n (853,\n  {'bipartite': 1,\n   'Label': 'Medullary thyroid carcinoma',\n   'timeset': nan,\n   '0': 'disease',\n   '1': 'Cancer',\n   'giantcomponent': 0}),\n (858,\n  {'bipartite': 1,\n   'Label': 'Optic atrophy',\n   'timeset': nan,\n   '0': 'disease',\n   '1': 'Ophthamological',\n   'giantcomponent': 0}),\n (873,\n  {'bipartite': 1,\n   'Label': 'Coloboma, ocular',\n   'timeset': nan,\n   '0': 'disease',\n   '1': 'Ophthamological',\n   'giantcomponent': 0}),\n (930,\n  {'bipartite': 1,\n   'Label': 'Hyperprolinemia',\n   'timeset': nan,\n   '0': 'disease',\n   '1': 'Metabolic',\n   'giantcomponent': 0}),\n (963,\n  {'bipartite': 1,\n   'Label': 'Rh-negative blood type',\n   'timeset': nan,\n   '0': 'disease',\n   '1': 'Hematological',\n   'giantcomponent': 0}),\n (982,\n  {'bipartite': 1,\n   'Label': 'Liddle syndrome',\n   'timeset': nan,\n   '0': 'disease',\n   '1': 'Renal',\n   'giantcomponent': 0}),\n (1048,\n  {'bipartite': 1,\n   'Label': 'Goiter',\n   'timeset': nan,\n   '0': 'disease',\n   '1': 'Endocrine',\n   'giantcomponent': 0}),\n (1050,\n  {'bipartite': 1,\n   'Label': 'Loeys-Dietz syndrome',\n   'timeset': nan,\n   '0': 'disease',\n   '1': 'Connective tissue disorder',\n   'giantcomponent': 0}),\n (1053,\n  {'bipartite': 1,\n   'Label': 'Thyroid hormone resistance',\n   'timeset': nan,\n   '0': 'disease',\n   '1': 'Endocrine',\n   'giantcomponent': 0}),\n (1061,\n  {'bipartite': 1,\n   'Label': 'Sepsis',\n   'timeset': nan,\n   '0': 'disease',\n   '1': 'Immunological',\n   'giantcomponent': 0}),\n (1067,\n  {'bipartite': 1,\n   'Label': 'Li-Fraumeni syndrome',\n   'timeset': nan,\n   '0': 'disease',\n   '1': 'Cancer',\n   'giantcomponent': 0}),\n (1070,\n  {'bipartite': 1,\n   'Label': 'Osteosarcoma',\n   'timeset': nan,\n   '0': 'disease',\n   '1': 'Cancer',\n   'giantcomponent': 0}),\n (1145,\n  {'bipartite': 1,\n   'Label': 'Medulloblastoma',\n   'timeset': nan,\n   '0': 'disease',\n   '1': 'Cancer',\n   'giantcomponent': 0}),\n (1245,\n  {'bipartite': 1,\n   'Label': 'Asperger syndrome',\n   'timeset': nan,\n   '0': 'disease',\n   '1': 'Psychiatric',\n   'giantcomponent': 0}),\n (39,\n  {'bipartite': 1,\n   'Label': 'Tangier disease',\n   'timeset': nan,\n   '0': 'disease',\n   '1': 'Metabolic',\n   'giantcomponent': 0}),\n (62,\n  {'bipartite': 1,\n   'Label': 'Adenosine deaminase deficiency',\n   'timeset': nan,\n   '0': 'disease',\n   '1': 'Immunological',\n   'giantcomponent': 0}),\n (69,\n  {'bipartite': 1,\n   'Label': 'Beta-2-adrenoreceptor agonist, reduced response to',\n   'timeset': nan,\n   '0': 'disease',\n   '1': 'Unclassified',\n   'giantcomponent': 0}),\n (76,\n  {'bipartite': 1,\n   'Label': 'Leanness, inherited',\n   'timeset': nan,\n   '0': 'disease',\n   '1': 'Nutritional',\n   'giantcomponent': 0}),\n (77,\n  {'bipartite': 1,\n   'Label': 'Alagille syndrome',\n   'timeset': nan,\n   '0': 'disease',\n   '1': 'Multiple',\n   'giantcomponent': 0}),\n (98,\n  {'bipartite': 1,\n   'Label': 'Atherosclerosis',\n   'timeset': nan,\n   '0': 'disease',\n   '1': 'Cardiovascular',\n   'giantcomponent': 0}),\n (112,\n  {'bipartite': 1,\n   'Label': 'Adenoma, periampullary',\n   'timeset': nan,\n   '0': 'disease',\n   '1': 'Cancer',\n   'giantcomponent': 0}),\n (115,\n  {'bipartite': 1,\n   'Label': 'Desmoid disease, hereditary',\n   'timeset': nan,\n   '0': 'disease',\n   '1': 'Cancer',\n   'giantcomponent': 0}),\n (116,\n  {'bipartite': 1,\n   'Label': 'Gardner syndrome',\n   'timeset': nan,\n   '0': 'disease',\n   '1': 'Cancer',\n   'giantcomponent': 0}),\n (124,\n  {'bipartite': 1,\n   'Label': 'Hypoalphalipoproteinemia',\n   'timeset': nan,\n   '0': 'disease',\n   '1': 'Metabolic',\n   'giantcomponent': 0}),\n (127,\n  {'bipartite': 1,\n   'Label': 'Hypobetalipoproteinemia',\n   'timeset': nan,\n   '0': 'disease',\n   '1': 'Metabolic',\n   'giantcomponent': 0}),\n (129,\n  {'bipartite': 1,\n   'Label': 'Sea-blue histiocyte disease',\n   'timeset': nan,\n   '0': 'disease',\n   '1': 'Hematological',\n   'giantcomponent': 0}),\n (134,\n  {'bipartite': 1,\n   'Label': 'Aquaporin-1 deficiency',\n   'timeset': nan,\n   '0': 'disease',\n   '1': 'Unclassified',\n   'giantcomponent': 0}),\n (136,\n  {'bipartite': 1,\n   'Label': 'Androgen insensitivity',\n   'timeset': nan,\n   '0': 'disease',\n   '1': 'Endocrine',\n   'giantcomponent': 0}),\n (138,\n  {'bipartite': 1,\n   'Label': 'Perineal hypospadias',\n   'timeset': nan,\n   '0': 'disease',\n   '1': 'Endocrine',\n   'giantcomponent': 0}),\n (147,\n  {'bipartite': 1,\n   'Label': 'Placental steroid sulfatase deciency',\n   'timeset': nan,\n   '0': 'disease',\n   '1': 'Metabolic',\n   'giantcomponent': 0}),\n (157,\n  {'bipartite': 1,\n   'Label': 'Alternating hemiplegia of childhood',\n   'timeset': nan,\n   '0': 'disease',\n   '1': 'Neurological',\n   'giantcomponent': 0}),\n (166,\n  {'bipartite': 1,\n   'Label': 'Menkes disease',\n   'timeset': nan,\n   '0': 'disease',\n   '1': 'Neurological',\n   'giantcomponent': 0}),\n (167,\n  {'bipartite': 1,\n   'Label': 'Occipital horn syndrome',\n   'timeset': nan,\n   '0': 'disease',\n   '1': 'Multiple',\n   'giantcomponent': 0}),\n (184,\n  {'bipartite': 1,\n   'Label': 'GRACILE syndrome',\n   'timeset': nan,\n   '0': 'disease',\n   '1': 'Metabolic',\n   'giantcomponent': 0}),\n (188,\n  {'bipartite': 1,\n   'Label': 'Memory impairment',\n   'timeset': nan,\n   '0': 'disease',\n   '1': 'Neurological',\n   'giantcomponent': 0}),\n (198,\n  {'bipartite': 1,\n   'Label': 'Papillary serous carcinoma of the peritoneum',\n   'timeset': nan,\n   '0': 'disease',\n   '1': 'Cancer',\n   'giantcomponent': 0}),\n (212,\n  {'bipartite': 1,\n   'Label': 'Hemiplegic migraine, familial',\n   'timeset': nan,\n   '0': 'disease',\n   '1': 'Neurological',\n   'giantcomponent': 0}),\n (218,\n  {'bipartite': 1,\n   'Label': 'Thyrotoxic periodic paralysis',\n   'timeset': nan,\n   '0': 'disease',\n   '1': 'Endocrine',\n   'giantcomponent': 0}),\n (225,\n  {'bipartite': 1,\n   'Label': 'Non-Hodgkin lymphoma',\n   'timeset': nan,\n   '0': 'disease',\n   '1': 'Cancer',\n   'giantcomponent': 0}),\n (228,\n  {'bipartite': 1,\n   'Label': 'Hypocalcemia',\n   'timeset': nan,\n   '0': 'disease',\n   '1': 'Endocrine',\n   'giantcomponent': 0}),\n (229,\n  {'bipartite': 1,\n   'Label': 'Hypocalciuric hypercalcemia',\n   'timeset': nan,\n   '0': 'disease',\n   '1': 'Endocrine',\n   'giantcomponent': 0}),\n (231,\n  {'bipartite': 1,\n   'Label': 'Creatine phosphokinase',\n   'timeset': nan,\n   '0': 'disease',\n   '1': 'Metabolic',\n   'giantcomponent': 0}),\n (232,\n  {'bipartite': 1,\n   'Label': 'Rippling muscle disease',\n   'timeset': nan,\n   '0': 'disease',\n   '1': 'Muscular',\n   'giantcomponent': 0}),\n (249,\n  {'bipartite': 1,\n   'Label': 'Listeria monocytogenes',\n   'timeset': nan,\n   '0': 'disease',\n   '1': 'Immunological',\n   'giantcomponent': 0}),\n (252,\n  {'bipartite': 1,\n   'Label': 'Li Fraumeni syndrome',\n   'timeset': nan,\n   '0': 'disease',\n   '1': 'Cancer',\n   'giantcomponent': 0}),\n (253,\n  {'bipartite': 1,\n   'Label': 'Orolaryngeal cancer',\n   'timeset': nan,\n   '0': 'disease',\n   '1': 'Cancer',\n   'giantcomponent': 0}),\n (283,\n  {'bipartite': 1,\n   'Label': 'Caffey disease',\n   'timeset': nan,\n   '0': 'disease',\n   '1': 'Connective tissue disorder',\n   'giantcomponent': 0}),\n (284,\n  {'bipartite': 1,\n   'Label': 'Dissection of cervical arteries',\n   'timeset': nan,\n   '0': 'disease',\n   '1': 'Connective tissue disorder',\n   'giantcomponent': 0}),\n (288,\n  {'bipartite': 1,\n   'Label': 'Achondrogenesis-hypochondrogenesis, type II',\n   'timeset': nan,\n   '0': 'disease',\n   '1': 'Bone',\n   'giantcomponent': 0}),\n (289,\n  {'bipartite': 1,\n   'Label': 'Kniest dysplasia',\n   'timeset': nan,\n   '0': 'disease',\n   '1': 'Skeletal',\n   'giantcomponent': 0}),\n (291,\n  {'bipartite': 1,\n   'Label': 'SMED Strudwick type',\n   'timeset': nan,\n   '0': 'disease',\n   '1': 'Skeletal',\n   'giantcomponent': 0}),\n (293,\n  {'bipartite': 1,\n   'Label': 'Wagner syndrome',\n   'timeset': nan,\n   '0': 'disease',\n   '1': 'Ophthamological',\n   'giantcomponent': 0}),\n (294,\n  {'bipartite': 1,\n   'Label': 'Aneurysm, familial arterial',\n   'timeset': nan,\n   '0': 'disease',\n   '1': 'Unclassified',\n   'giantcomponent': 0}),\n (301,\n  {'bipartite': 1,\n   'Label': 'EBD',\n   'timeset': nan,\n   '0': 'disease',\n   '1': 'Dermatological',\n   'giantcomponent': 0}),\n (303,\n  {'bipartite': 1,\n   'Label': 'Toenail dystrophy, isolated',\n   'timeset': nan,\n   '0': 'disease',\n   '1': 'Dermatological',\n   'giantcomponent': 0}),\n (304,\n  {'bipartite': 1,\n   'Label': 'Transient bullous of the newborn',\n   'timeset': nan,\n   '0': 'disease',\n   '1': 'Dermatological',\n   'giantcomponent': 0}),\n (305,\n  {'bipartite': 1,\n   'Label': 'Fuchs endothelial corneal dystrophy',\n   'timeset': nan,\n   '0': 'disease',\n   '1': 'Ophthamological',\n   'giantcomponent': 0}),\n (310,\n  {'bipartite': 1,\n   'Label': 'Marshall syndrome',\n   'timeset': nan,\n   '0': 'disease',\n   '1': 'Multiple',\n   'giantcomponent': 0}),\n (311,\n  {'bipartite': 1,\n   'Label': 'OSMED syndrome',\n   'timeset': nan,\n   '0': 'disease',\n   '1': 'Bone',\n   'giantcomponent': 0}),\n (312,\n  {'bipartite': 1,\n   'Label': 'Weissenbacher-Zweymuller syndrome',\n   'timeset': nan,\n   '0': 'disease',\n   '1': 'Connective tissue disorder',\n   'giantcomponent': 0}),\n (313,\n  {'bipartite': 1,\n   'Label': 'Pseudoachondroplasia',\n   'timeset': nan,\n   '0': 'disease',\n   '1': 'Skeletal',\n   'giantcomponent': 0}),\n (316,\n  {'bipartite': 1,\n   'Label': 'Hemosiderosis, systemic, due to aceruloplasminemia',\n   'timeset': nan,\n   '0': 'disease',\n   '1': 'Hematological',\n   'giantcomponent': 0}),\n (317,\n  {'bipartite': 1,\n   'Label': 'Hypoceruloplasminemia',\n   'timeset': nan,\n   '0': 'disease',\n   '1': 'Metabolic',\n   'giantcomponent': 0}),\n (334,\n  {'bipartite': 1,\n   'Label': 'Pilomatricoma',\n   'timeset': nan,\n   '0': 'disease',\n   '1': 'Cancer',\n   'giantcomponent': 0}),\n (342,\n  {'bipartite': 1,\n   'Label': 'Coumarin resistance',\n   'timeset': nan,\n   '0': 'disease',\n   '1': 'Hematological',\n   'giantcomponent': 0}),\n (363,\n  {'bipartite': 1,\n   'Label': 'Dopamine beta-hydroxylase deciency',\n   'timeset': nan,\n   '0': 'disease',\n   '1': 'Metabolic',\n   'giantcomponent': 0}),\n (365,\n  {'bipartite': 1,\n   'Label': 'Angiotensin I-converting enzyme',\n   'timeset': nan,\n   '0': 'disease',\n   '1': 'Endocrine',\n   'giantcomponent': 0}),\n (366,\n  {'bipartite': 1,\n   'Label': 'SARS, progression of',\n   'timeset': nan,\n   '0': 'disease',\n   '1': 'Immunological',\n   'giantcomponent': 0}),\n (368,\n  {'bipartite': 1,\n   'Label': 'Lower motor neuron disease, progressive, without sensory symptoms',\n   'timeset': nan,\n   '0': 'disease',\n   '1': 'Neurological',\n   'giantcomponent': 0}),\n (374,\n  {'bipartite': 1,\n   'Label': 'Jensen syndrome',\n   'timeset': nan,\n   '0': 'disease',\n   '1': 'Neurological',\n   'giantcomponent': 0}),\n (375,\n  {'bipartite': 1,\n   'Label': 'Mohr-Tranebjaerg syndrome',\n   'timeset': nan,\n   '0': 'disease',\n   '1': 'Neurological',\n   'giantcomponent': 0}),\n (376,\n  {'bipartite': 1,\n   'Label': 'Meniere disease',\n   'timeset': nan,\n   '0': 'disease',\n   '1': 'Neurological',\n   'giantcomponent': 0}),\n (380,\n  {'bipartite': 1,\n   'Label': 'Benzene toxicity',\n   'timeset': nan,\n   '0': 'disease',\n   '1': 'Unclassified',\n   'giantcomponent': 0}),\n (386,\n  {'bipartite': 1,\n   'Label': 'Duchenne muscular dystrophy',\n   'timeset': nan,\n   '0': 'disease',\n   '1': 'Muscular',\n   'giantcomponent': 0}),\n (403,\n  {'bipartite': 1,\n   'Label': 'Dilated cardiomyopathy with woolly hair and keratoderma',\n   'timeset': nan,\n   '0': 'disease',\n   '1': 'Multiple',\n   'giantcomponent': 0}),\n (404,\n  {'bipartite': 1,\n   'Label': 'Skin fragility-woolly hair syndrome',\n   'timeset': nan,\n   '0': 'disease',\n   '1': 'Dermatological',\n   'giantcomponent': 0}),\n (405,\n  {'bipartite': 1,\n   'Label': 'Dentin dysplasia, type II',\n   'timeset': nan,\n   '0': 'disease',\n   '1': 'Bone',\n   'giantcomponent': 0}),\n (406,\n  {'bipartite': 1,\n   'Label': 'Dentinogenesis imperfecta, Shields type',\n   'timeset': nan,\n   '0': 'disease',\n   '1': 'Bone',\n   'giantcomponent': 0}),\n (407,\n  {'bipartite': 1,\n   'Label': 'Achondrogenesis Ib',\n   'timeset': nan,\n   '0': 'disease',\n   '1': 'Bone',\n   'giantcomponent': 0}),\n (409,\n  {'bipartite': 1,\n   'Label': 'Diastrophic dysplasia',\n   'timeset': nan,\n   '0': 'disease',\n   '1': 'Skeletal',\n   'giantcomponent': 0}),\n (415,\n  {'bipartite': 1,\n   'Label': 'Shah-Waardenburg syndrome',\n   'timeset': nan,\n   '0': 'disease',\n   '1': 'Multiple',\n   'giantcomponent': 0}),\n (416,\n  {'bipartite': 1,\n   'Label': 'ABCD syndrome',\n   'timeset': nan,\n   '0': 'disease',\n   '1': 'Multiple',\n   'giantcomponent': 0}),\n (422,\n  {'bipartite': 1,\n   'Label': 'Hematopoiesis, cyclic',\n   'timeset': nan,\n   '0': 'disease',\n   '1': 'Hematological',\n   'giantcomponent': 0}),\n (424,\n  {'bipartite': 1,\n   'Label': 'Supravalvar aortic stenosis',\n   'timeset': nan,\n   '0': 'disease',\n   '1': 'Cardiovascular',\n   'giantcomponent': 0}),\n (425,\n  {'bipartite': 1,\n   'Label': 'Williams-Beuren syndrome',\n   'timeset': nan,\n   '0': 'disease',\n   '1': 'Multiple',\n   'giantcomponent': 0}),\n (434,\n  {'bipartite': 1,\n   'Label': 'Estrogen resistance',\n   'timeset': nan,\n   '0': 'disease',\n   '1': 'Endocrine',\n   'giantcomponent': 0}),\n (442,\n  {'bipartite': 1,\n   'Label': 'Branchiootic syndrome',\n   'timeset': nan,\n   '0': 'disease',\n   '1': 'Neurological',\n   'giantcomponent': 0}),\n (453,\n  {'bipartite': 1,\n   'Label': 'Aortic aneurysm',\n   'timeset': nan,\n   '0': 'disease',\n   '1': 'Cardiovascular',\n   'giantcomponent': 0}),\n (455,\n  {'bipartite': 1,\n   'Label': 'MASS syndrome',\n   'timeset': nan,\n   '0': 'disease',\n   '1': 'Connective tissue disorder',\n   'giantcomponent': 0}),\n (456,\n  {'bipartite': 1,\n   'Label': 'Shprintzen-Goldberg syndrome',\n   'timeset': nan,\n   '0': 'disease',\n   '1': 'Multiple',\n   'giantcomponent': 0}),\n (468,\n  {'bipartite': 1,\n   'Label': 'Aarskog-Scott syndrome',\n   'timeset': nan,\n   '0': 'disease',\n   '1': 'Multiple',\n   'giantcomponent': 0}),\n (473,\n  {'bipartite': 1,\n   'Label': 'Achondroplasia',\n   'timeset': nan,\n   '0': 'disease',\n   '1': 'Skeletal',\n   'giantcomponent': 0}),\n (475,\n  {'bipartite': 1,\n   'Label': 'Cervical carcinoma',\n   'timeset': nan,\n   '0': 'disease',\n   '1': 'Cancer',\n   'giantcomponent': 0}),\n (477,\n  {'bipartite': 1,\n   'Label': 'Hypochondroplasia',\n   'timeset': nan,\n   '0': 'disease',\n   '1': 'Skeletal',\n   'giantcomponent': 0}),\n (478,\n  {'bipartite': 1,\n   'Label': 'Muenke syndrome',\n   'timeset': nan,\n   '0': 'disease',\n   '1': 'Skeletal',\n   'giantcomponent': 0}),\n (479,\n  {'bipartite': 1,\n   'Label': 'Thanatophoric dysplasia, types I and II',\n   'timeset': nan,\n   '0': 'disease',\n   '1': 'Skeletal',\n   'giantcomponent': 0}),\n (480,\n  {'bipartite': 1,\n   'Label': 'Apert syndrome',\n   'timeset': nan,\n   '0': 'disease',\n   '1': 'Connective tissue disorder',\n   'giantcomponent': 0}),\n (481,\n  {'bipartite': 1,\n   'Label': 'Beare-Stevenson cutis gyrata syndrome',\n   'timeset': nan,\n   '0': 'disease',\n   '1': 'Multiple',\n   'giantcomponent': 0}),\n (482,\n  {'bipartite': 1,\n   'Label': 'Craniofacial-skeletal-dermatologic dysplasia',\n   'timeset': nan,\n   '0': 'disease',\n   '1': 'Multiple',\n   'giantcomponent': 0}),\n (486,\n  {'bipartite': 1,\n   'Label': 'Hypofibrinogenemia',\n   'timeset': nan,\n   '0': 'disease',\n   '1': 'Hematological',\n   'giantcomponent': 0}),\n (490,\n  {'bipartite': 1,\n   'Label': 'Axenfeld anomaly',\n   'timeset': nan,\n   '0': 'disease',\n   '1': 'Ophthamological',\n   'giantcomponent': 0}),\n (492,\n  {'bipartite': 1,\n   'Label': 'Iris hypoplasia and glaucoma',\n   'timeset': nan,\n   '0': 'disease',\n   '1': 'Ophthamological',\n   'giantcomponent': 0}),\n (502,\n  {'bipartite': 1,\n   'Label': 'Larson syndrome',\n   'timeset': nan,\n   '0': 'disease',\n   '1': 'Skeletal',\n   'giantcomponent': 0}),\n (503,\n  {'bipartite': 1,\n   'Label': 'Spondylocarpotarsal synostosis syndrome',\n   'timeset': nan,\n   '0': 'disease',\n   '1': 'Skeletal',\n   'giantcomponent': 0}),\n (523,\n  {'bipartite': 1,\n   'Label': 'Favism',\n   'timeset': nan,\n   '0': 'disease',\n   '1': 'Metabolic',\n   'giantcomponent': 0}),\n (524,\n  {'bipartite': 1,\n   'Label': 'G6PD deficiency',\n   'timeset': nan,\n   '0': 'disease',\n   '1': 'Metabolic',\n   'giantcomponent': 0}),\n (535,\n  {'bipartite': 1,\n   'Label': 'Dyserythropoietic anemia',\n   'timeset': nan,\n   '0': 'disease',\n   '1': 'Hematological',\n   'giantcomponent': 0}),\n (536,\n  {'bipartite': 1,\n   'Label': 'Macrothrombocytopenia',\n   'timeset': nan,\n   '0': 'disease',\n   '1': 'Hematological',\n   'giantcomponent': 0}),\n (540,\n  {'bipartite': 1,\n   'Label': 'Hyperinsulinism',\n   'timeset': nan,\n   '0': 'disease',\n   '1': 'Metabolic',\n   'giantcomponent': 0}),\n (542,\n  {'bipartite': 1,\n   'Label': 'Adult i phenotype',\n   'timeset': nan,\n   '0': 'disease',\n   '1': 'Hematological',\n   'giantcomponent': 0}),\n (552,\n  {'bipartite': 1,\n   'Label': 'Hypoplastic left heart syndrome',\n   'timeset': nan,\n   '0': 'disease',\n   '1': 'Cardiovascular',\n   'giantcomponent': 0}),\n (553,\n  {'bipartite': 1,\n   'Label': 'Oculodentodigital dysplasia',\n   'timeset': nan,\n   '0': 'disease',\n   '1': 'Skeletal',\n   'giantcomponent': 0}),\n (554,\n  {'bipartite': 1,\n   'Label': 'Syndactyly',\n   'timeset': nan,\n   '0': 'disease',\n   '1': 'Skeletal',\n   'giantcomponent': 0}),\n (555,\n  {'bipartite': 1,\n   'Label': 'Bart-Pumphrey syndrome',\n   'timeset': nan,\n   '0': 'disease',\n   '1': 'Multiple',\n   'giantcomponent': 0}),\n (556,\n  {'bipartite': 1,\n   'Label': 'Hystrix-like ichthyosis with deafness',\n   'timeset': nan,\n   '0': 'disease',\n   '1': 'Multiple',\n   'giantcomponent': 0}),\n (557,\n  {'bipartite': 1,\n   'Label': 'Keratitis-ichthyosis-deafness syndrome',\n   'timeset': nan,\n   '0': 'disease',\n   '1': 'Multiple',\n   'giantcomponent': 0}),\n (558,\n  {'bipartite': 1,\n   'Label': 'Keratoderma, palmoplantar, with deafness',\n   'timeset': nan,\n   '0': 'disease',\n   '1': 'Dermatological',\n   'giantcomponent': 0}),\n (563,\n  {'bipartite': 1,\n   'Label': 'Simpson-Golabi-Behmel syndrome',\n   'timeset': nan,\n   '0': 'disease',\n   '1': 'Multiple',\n   'giantcomponent': 0}),\n (576,\n  {'bipartite': 1,\n   'Label': 'McCune-Albright syndrome',\n   'timeset': nan,\n   '0': 'disease',\n   '1': 'Multiple',\n   'giantcomponent': 0}),\n (577,\n  {'bipartite': 1,\n   'Label': 'Osseous heteroplasia',\n   'timeset': nan,\n   '0': 'disease',\n   '1': 'Bone',\n   'giantcomponent': 0}),\n (578,\n  {'bipartite': 1,\n   'Label': 'Pseudohypoparathyroidism',\n   'timeset': nan,\n   '0': 'disease',\n   '1': 'Endocrine',\n   'giantcomponent': 0}),\n (579,\n  {'bipartite': 1,\n   'Label': 'Somatotrophinoma',\n   'timeset': nan,\n   '0': 'disease',\n   '1': 'Endocrine',\n   'giantcomponent': 0}),\n (585,\n  {'bipartite': 1,\n   'Label': 'Glutathione synthetase deciency',\n   'timeset': nan,\n   '0': 'disease',\n   '1': 'Metabolic',\n   'giantcomponent': 0}),\n (605,\n  {'bipartite': 1,\n   'Label': 'Sandho disease, infantile, juvenile, and adult forms',\n   'timeset': nan,\n   '0': 'disease',\n   '1': 'Metabolic',\n   'giantcomponent': 0}),\n (606,\n  {'bipartite': 1,\n   'Label': 'Hemolytic-uremic syndrome',\n   'timeset': nan,\n   '0': 'disease',\n   '1': 'Hematological',\n   'giantcomponent': 0}),\n (608,\n  {'bipartite': 1,\n   'Label': 'Nephropathy-hypertension',\n   'timeset': nan,\n   '0': 'disease',\n   '1': 'Renal',\n   'giantcomponent': 0}),\n (627,\n  {'bipartite': 1,\n   'Label': 'Vertical talus',\n   'timeset': nan,\n   '0': 'disease',\n   '1': 'Skeletal',\n   'giantcomponent': 0}),\n (633,\n  {'bipartite': 1,\n   'Label': 'Costello syndrome',\n   'timeset': nan,\n   '0': 'disease',\n   '1': 'Multiple',\n   'giantcomponent': 0}),\n (637,\n  {'bipartite': 1,\n   'Label': 'Apparent mineralocorticoid excess, hypertension due to',\n   'timeset': nan,\n   '0': 'disease',\n   '1': 'Bone',\n   'giantcomponent': 0}),\n (643,\n  {'bipartite': 1,\n   'Label': 'Alcohol dependence',\n   'timeset': nan,\n   '0': 'disease',\n   '1': 'Unclassified',\n   'giantcomponent': 0}),\n (644,\n  {'bipartite': 1,\n   'Label': 'Anorexia nervosa',\n   'timeset': nan,\n   '0': 'disease',\n   '1': 'Nutritional',\n   'giantcomponent': 0}),\n (645,\n  {'bipartite': 1,\n   'Label': 'Seasonal affective disorder',\n   'timeset': nan,\n   '0': 'disease',\n   '1': 'Psychiatric',\n   'giantcomponent': 0}),\n (663,\n  {'bipartite': 1,\n   'Label': 'Graft-versus-host disease',\n   'timeset': nan,\n   '0': 'disease',\n   '1': 'Immunological',\n   'giantcomponent': 0}),\n (664,\n  {'bipartite': 1,\n   'Label': 'Allergic rhinitis',\n   'timeset': nan,\n   '0': 'disease',\n   '1': 'Immunological',\n   'giantcomponent': 0}),\n (665,\n  {'bipartite': 1,\n   'Label': 'Hyperproinsulinemia',\n   'timeset': nan,\n   '0': 'disease',\n   '1': 'Endocrine',\n   'giantcomponent': 0}),\n (667,\n  {'bipartite': 1,\n   'Label': 'Leprechaunism',\n   'timeset': nan,\n   '0': 'disease',\n   '1': 'Developmental',\n   'giantcomponent': 0}),\n (668,\n  {'bipartite': 1,\n   'Label': 'Rabson-Mendenhall syndrome',\n   'timeset': nan,\n   '0': 'disease',\n   '1': 'Multiple',\n   'giantcomponent': 0}),\n (669,\n  {'bipartite': 1,\n   'Label': 'Pancreatic agenesis',\n   'timeset': nan,\n   '0': 'disease',\n   '1': 'Gastrointestinal',\n   'giantcomponent': 0}),\n (670,\n  {'bipartite': 1,\n   'Label': 'Macrocytic anemia',\n   'timeset': nan,\n   '0': 'disease',\n   '1': 'Hematological',\n   'giantcomponent': 0}),\n (680,\n  {'bipartite': 1,\n   'Label': 'Myelofibrosis, idiopathic',\n   'timeset': nan,\n   '0': 'disease',\n   '1': 'Hematological',\n   'giantcomponent': 0}),\n (686,\n  {'bipartite': 1,\n   'Label': 'Acquired long QT syndrome',\n   'timeset': nan,\n   '0': 'disease',\n   '1': 'Cardiovascular',\n   'giantcomponent': 0}),\n (687,\n  {'bipartite': 1,\n   'Label': 'Persistent hyperinsulinemic hypoglycemia of infancy',\n   'timeset': nan,\n   '0': 'disease',\n   '1': 'Metabolic',\n   'giantcomponent': 0}),\n (689,\n  {'bipartite': 1,\n   'Label': 'Myokymia with neonatal epilepsy',\n   'timeset': nan,\n   '0': 'disease',\n   '1': 'Neurological',\n   'giantcomponent': 0}),\n (693,\n  {'bipartite': 1,\n   'Label': 'Mast cell leukemia',\n   'timeset': nan,\n   '0': 'disease',\n   '1': 'Cancer',\n   'giantcomponent': 0}),\n (694,\n  {'bipartite': 1,\n   'Label': 'Mastocytosis with associated hematologic disorder',\n   'timeset': nan,\n   '0': 'disease',\n   '1': 'Immunological',\n   'giantcomponent': 0}),\n (695,\n  {'bipartite': 1,\n   'Label': 'Piebaldism',\n   'timeset': nan,\n   '0': 'disease',\n   '1': 'Dermatological',\n   'giantcomponent': 0}),\n (701,\n  {'bipartite': 1,\n   'Label': 'Stomach cancer',\n   'timeset': nan,\n   '0': 'disease',\n   '1': 'Cancer',\n   'giantcomponent': 0}),\n (702,\n  {'bipartite': 1,\n   'Label': 'Cyclic ichthyosis with epidermolytic hyperkeratosis',\n   'timeset': nan,\n   '0': 'disease',\n   '1': 'Dermatological',\n   'giantcomponent': 0}),\n (704,\n  {'bipartite': 1,\n   'Label': 'Unna-Thost disease, nonepidermolytic',\n   'timeset': nan,\n   '0': 'disease',\n   '1': 'Dermatological',\n   'giantcomponent': 0}),\n (709,\n  {'bipartite': 1,\n   'Label': 'Nevus, epidermal, epidermolytic hyperkeratotic type',\n   'timeset': nan,\n   '0': 'disease',\n   '1': 'Dermatological',\n   'giantcomponent': 0}),\n (716,\n  {'bipartite': 1,\n   'Label': 'Laryngoonychocutaneous syndrome',\n   'timeset': nan,\n   '0': 'disease',\n   '1': 'Multiple',\n   'giantcomponent': 0}),\n (743,\n  {'bipartite': 1,\n   'Label': 'Bone mineral density variability',\n   'timeset': nan,\n   '0': 'disease',\n   '1': 'Bone',\n   'giantcomponent': 0}),\n (745,\n  {'bipartite': 1,\n   'Label': 'Hyperostosis, endosteal',\n   'timeset': nan,\n   '0': 'disease',\n   '1': 'Bone',\n   'giantcomponent': 0}),\n (746,\n  {'bipartite': 1,\n   'Label': 'Osteoporosis-pseudoglioma syndrome',\n   'timeset': nan,\n   '0': 'disease',\n   '1': 'Bone',\n   'giantcomponent': 0}),\n (747,\n  {'bipartite': 1,\n   'Label': 'van Buchem disease',\n   'timeset': nan,\n   '0': 'disease',\n   '1': 'Unclassified',\n   'giantcomponent': 0}),\n (748,\n  {'bipartite': 1,\n   'Label': 'Juvenile polyposis/hereditary hemorrhagic telangiectasia syndrome',\n   'timeset': nan,\n   '0': 'disease',\n   '1': 'Cancer',\n   'giantcomponent': 0}),\n (752,\n  {'bipartite': 1,\n   'Label': 'Pallidopontonigral degeneration',\n   'timeset': nan,\n   '0': 'disease',\n   '1': 'Neurological',\n   'giantcomponent': 0}),\n (753,\n  {'bipartite': 1,\n   'Label': 'Supranuclear palsy',\n   'timeset': nan,\n   '0': 'disease',\n   '1': 'Neurological',\n   'giantcomponent': 0}),\n (754,\n  {'bipartite': 1,\n   'Label': 'Tauopathy and respiratory failure',\n   'timeset': nan,\n   '0': 'disease',\n   '1': 'Neurological',\n   'giantcomponent': 0}),\n (766,\n  {'bipartite': 1,\n   'Label': 'PPM-X syndrome',\n   'timeset': nan,\n   '0': 'disease',\n   '1': 'Neurological',\n   'giantcomponent': 0}),\n (769,\n  {'bipartite': 1,\n   'Label': 'Adrenal adenoma',\n   'timeset': nan,\n   '0': 'disease',\n   '1': 'Cancer',\n   'giantcomponent': 0}),\n (770,\n  {'bipartite': 1,\n   'Label': 'Angiofibroma, sporadic',\n   'timeset': nan,\n   '0': 'disease',\n   '1': 'Endocrine',\n   'giantcomponent': 0}),\n (771,\n  {'bipartite': 1,\n   'Label': 'Carcinoid tumor of lung',\n   'timeset': nan,\n   '0': 'disease',\n   '1': 'Cancer',\n   'giantcomponent': 0}),\n (774,\n  {'bipartite': 1,\n   'Label': 'Prolactinoma, hyperparathyroidism, carcinoid syndrome',\n   'timeset': nan,\n   '0': 'disease',\n   '1': 'Endocrine',\n   'giantcomponent': 0}),\n (781,\n  {'bipartite': 1,\n   'Label': 'Tietz syndrome',\n   'timeset': nan,\n   '0': 'disease',\n   '1': 'Multiple',\n   'giantcomponent': 0}),\n (792,\n  {'bipartite': 1,\n   'Label': 'Myeloperoxidase deficiency',\n   'timeset': nan,\n   '0': 'disease',\n   '1': 'Immunological',\n   'giantcomponent': 0}),\n (794,\n  {'bipartite': 1,\n   'Label': 'Lynch cancer family syndrome II',\n   'timeset': nan,\n   '0': 'disease',\n   '1': 'Cancer',\n   'giantcomponent': 0}),\n (798,\n  {'bipartite': 1,\n   'Label': 'Witkop syndrome',\n   'timeset': nan,\n   '0': 'disease',\n   '1': 'Developmental',\n   'giantcomponent': 0}),\n (810,\n  {'bipartite': 1,\n   'Label': 'Neurofibrosarcoma',\n   'timeset': nan,\n   '0': 'disease',\n   '1': 'Cancer',\n   'giantcomponent': 0}),\n (816,\n  {'bipartite': 1,\n   'Label': 'Trismus-pseudocomptodactyly syndrome',\n   'timeset': nan,\n   '0': 'disease',\n   '1': 'Multiple',\n   'giantcomponent': 0}),\n (817,\n  {'bipartite': 1,\n   'Label': 'Epstein syndrome',\n   'timeset': nan,\n   '0': 'disease',\n   '1': 'Hematological',\n   'giantcomponent': 0}),\n (818,\n  {'bipartite': 1,\n   'Label': 'Fechtner syndrome',\n   'timeset': nan,\n   '0': 'disease',\n   '1': 'Multiple',\n   'giantcomponent': 0}),\n (819,\n  {'bipartite': 1,\n   'Label': 'May-Hegglin anomaly',\n   'timeset': nan,\n   '0': 'disease',\n   '1': 'Hematological',\n   'giantcomponent': 0}),\n (820,\n  {'bipartite': 1,\n   'Label': 'Sebastian syndrome',\n   'timeset': nan,\n   '0': 'disease',\n   '1': 'Hematological',\n   'giantcomponent': 0}),\n (826,\n  {'bipartite': 1,\n   'Label': 'Nijmegen breakage syndrome',\n   'timeset': nan,\n   '0': 'disease',\n   '1': 'Multiple',\n   'giantcomponent': 0}),\n (828,\n  {'bipartite': 1,\n   'Label': 'Coats disease',\n   'timeset': nan,\n   '0': 'disease',\n   '1': 'Ophthamological',\n   'giantcomponent': 0}),\n (829,\n  {'bipartite': 1,\n   'Label': 'Norrie disease',\n   'timeset': nan,\n   '0': 'disease',\n   '1': 'Neurological',\n   'giantcomponent': 0}),\n (833,\n  {'bipartite': 1,\n   'Label': 'Neurofibromatosis',\n   'timeset': nan,\n   '0': 'disease',\n   '1': 'Cancer',\n   'giantcomponent': 0}),\n (834,\n  {'bipartite': 1,\n   'Label': 'Neurobromatosis-Noonan syndrome',\n   'timeset': nan,\n   '0': 'disease',\n   '1': 'Cancer',\n   'giantcomponent': 0}),\n (835,\n  {'bipartite': 1,\n   'Label': 'Watson syndrome',\n   'timeset': nan,\n   '0': 'disease',\n   '1': 'Cancer',\n   'giantcomponent': 0}),\n (836,\n  {'bipartite': 1,\n   'Label': 'Schwannomatosis',\n   'timeset': nan,\n   '0': 'disease',\n   '1': 'Cancer',\n   'giantcomponent': 0}),\n (841,\n  {'bipartite': 1,\n   'Label': 'Coronary spasms',\n   'timeset': nan,\n   '0': 'disease',\n   '1': 'Cardiovascular',\n   'giantcomponent': 0}),\n (842,\n  {'bipartite': 1,\n   'Label': 'Placental abruption',\n   'timeset': nan,\n   '0': 'disease',\n   '1': 'Unclassified',\n   'giantcomponent': 0}),\n (852,\n  {'bipartite': 1,\n   'Label': 'Insensitivity to pain',\n   'timeset': nan,\n   '0': 'disease',\n   '1': 'Neurological',\n   'giantcomponent': 0}),\n (868,\n  {'bipartite': 1,\n   'Label': 'Leprosy',\n   'timeset': nan,\n   '0': 'disease',\n   '1': 'Immunological',\n   'giantcomponent': 0}),\n (871,\n  {'bipartite': 1,\n   'Label': 'Craniofacial-deafness-hand syndrome',\n   'timeset': nan,\n   '0': 'disease',\n   '1': 'Multiple',\n   'giantcomponent': 0}),\n (872,\n  {'bipartite': 1,\n   'Label': 'Aniridia, type II',\n   'timeset': nan,\n   '0': 'disease',\n   '1': 'Ophthamological',\n   'giantcomponent': 0}),\n (874,\n  {'bipartite': 1,\n   'Label': 'Eye anomalies',\n   'timeset': nan,\n   '0': 'disease',\n   '1': 'Ophthamological',\n   'giantcomponent': 0}),\n (875,\n  {'bipartite': 1,\n   'Label': 'Foveal hypoplasia',\n   'timeset': nan,\n   '0': 'disease',\n   '1': 'Ophthamological',\n   'giantcomponent': 0}),\n (876,\n  {'bipartite': 1,\n   'Label': 'Keratitis',\n   'timeset': nan,\n   '0': 'disease',\n   '1': 'Ophthamological',\n   'giantcomponent': 0}),\n (877,\n  {'bipartite': 1,\n   'Label': 'Morning glory disc anomaly',\n   'timeset': nan,\n   '0': 'disease',\n   '1': 'Skeletal',\n   'giantcomponent': 0}),\n (878,\n  {'bipartite': 1,\n   'Label': 'Optic nerve hypoplasia/aplasia',\n   'timeset': nan,\n   '0': 'disease',\n   '1': 'Ophthamological',\n   'giantcomponent': 0}),\n (879,\n  {'bipartite': 1,\n   'Label': 'Oligodontia',\n   'timeset': nan,\n   '0': 'disease',\n   '1': 'Skeletal',\n   'giantcomponent': 0}),\n (882,\n  {'bipartite': 1,\n   'Label': 'Dermatobrosarcoma protuberans',\n   'timeset': nan,\n   '0': 'disease',\n   '1': 'Cancer',\n   'giantcomponent': 0}),\n (883,\n  {'bipartite': 1,\n   'Label': 'Giant-cell fibroblastoma',\n   'timeset': nan,\n   '0': 'disease',\n   '1': 'Cancer',\n   'giantcomponent': 0}),\n (884,\n  {'bipartite': 1,\n   'Label': 'Hypereosinophilic syndrome',\n   'timeset': nan,\n   '0': 'disease',\n   '1': 'Hematological',\n   'giantcomponent': 0}),\n (887,\n  {'bipartite': 1,\n   'Label': 'Ossication of the posterior longitudinal spinal ligaments',\n   'timeset': nan,\n   '0': 'disease',\n   '1': 'Connective tissue disorder',\n   'giantcomponent': 0}),\n (888,\n  {'bipartite': 1,\n   'Label': 'Enlarged vestibular aqueduct',\n   'timeset': nan,\n   '0': 'disease',\n   '1': 'Ear,Nose,Throat',\n   'giantcomponent': 0}),\n (889,\n  {'bipartite': 1,\n   'Label': 'Pendred syndrome',\n   'timeset': nan,\n   '0': 'disease',\n   '1': 'Ear,Nose,Throat',\n   'giantcomponent': 0}),\n (897,\n  {'bipartite': 1,\n   'Label': 'Myoglobinuria/hemolysis due to PGK deciency',\n   'timeset': nan,\n   '0': 'disease',\n   '1': 'Metabolic',\n   'giantcomponent': 0}),\n (902,\n  {'bipartite': 1,\n   'Label': 'Emphysema',\n   'timeset': nan,\n   '0': 'disease',\n   '1': 'Respiratory',\n   'giantcomponent': 0}),\n (904,\n  {'bipartite': 1,\n   'Label': 'Ring dermoid of cornea',\n   'timeset': nan,\n   '0': 'disease',\n   '1': 'Ophthamological',\n   'giantcomponent': 0}),\n (909,\n  {'bipartite': 1,\n   'Label': 'Nevo syndrome',\n   'timeset': nan,\n   '0': 'disease',\n   '1': 'Connective tissue disorder',\n   'giantcomponent': 0}),\n (911,\n  {'bipartite': 1,\n   'Label': 'Pelizaeus-Merzbacher disease',\n   'timeset': nan,\n   '0': 'disease',\n   '1': 'Neurological',\n   'giantcomponent': 0}),\n (912,\n  {'bipartite': 1,\n   'Label': 'Neuroectodermal tumors',\n   'timeset': nan,\n   '0': 'disease',\n   '1': 'Multiple',\n   'giantcomponent': 0}),\n (923,\n  {'bipartite': 1,\n   'Label': 'Adrenocortical carcinoma',\n   'timeset': nan,\n   '0': 'disease',\n   '1': 'Cancer',\n   'giantcomponent': 0}),\n (924,\n  {'bipartite': 1,\n   'Label': 'Myxoma, intracardiac',\n   'timeset': nan,\n   '0': 'disease',\n   '1': 'Cardiovascular',\n   'giantcomponent': 0}),\n (925,\n  {'bipartite': 1,\n   'Label': 'Pigmented adrenocortical disease, primary isolated',\n   'timeset': nan,\n   '0': 'disease',\n   '1': 'Cancer',\n   'giantcomponent': 0}),\n (928,\n  {'bipartite': 1,\n   'Label': 'Gerstmann-Straussler disease',\n   'timeset': nan,\n   '0': 'disease',\n   '1': 'Neurological',\n   'giantcomponent': 0}),\n (929,\n  {'bipartite': 1,\n   'Label': 'Prion disease with protracted course',\n   'timeset': nan,\n   '0': 'disease',\n   '1': 'Neurological',\n   'giantcomponent': 0}),\n (935,\n  {'bipartite': 1,\n   'Label': 'Pick disease',\n   'timeset': nan,\n   '0': 'disease',\n   '1': 'Neurological',\n   'giantcomponent': 0}),\n (939,\n  {'bipartite': 1,\n   'Label': 'Basal cell nevus syndrome',\n   'timeset': nan,\n   '0': 'disease',\n   '1': 'Multiple',\n   'giantcomponent': 0}),\n (941,\n  {'bipartite': 1,\n   'Label': 'Bannayan-Riley-Ruvalcaba syndrome',\n   'timeset': nan,\n   '0': 'disease',\n   '1': 'Unclassified',\n   'giantcomponent': 0}),\n (942,\n  {'bipartite': 1,\n   'Label': 'Lhermitte-Duclos syndrome',\n   'timeset': nan,\n   '0': 'disease',\n   '1': 'Cancer',\n   'giantcomponent': 0}),\n (943,\n  {'bipartite': 1,\n   'Label': 'Oligodendroglioma',\n   'timeset': nan,\n   '0': 'disease',\n   '1': 'Cancer',\n   'giantcomponent': 0}),\n (944,\n  {'bipartite': 1,\n   'Label': 'VATER association with hydrocephalus',\n   'timeset': nan,\n   '0': 'disease',\n   '1': 'Multiple',\n   'giantcomponent': 0}),\n (947,\n  {'bipartite': 1,\n   'Label': 'Leopard syndrome',\n   'timeset': nan,\n   '0': 'disease',\n   '1': 'Multiple',\n   'giantcomponent': 0}),\n (948,\n  {'bipartite': 1,\n   'Label': 'Noonan syndrome',\n   'timeset': nan,\n   '0': 'disease',\n   '1': 'Developmental',\n   'giantcomponent': 0}),\n (949,\n  {'bipartite': 1,\n   'Label': 'Zlotogora-Ogur syndrome',\n   'timeset': nan,\n   '0': 'disease',\n   '1': 'Multiple',\n   'giantcomponent': 0}),\n (954,\n  {'bipartite': 1,\n   'Label': 'Capillary malformations',\n   'timeset': nan,\n   '0': 'disease',\n   '1': 'Cardiovascular',\n   'giantcomponent': 0}),\n (955,\n  {'bipartite': 1,\n   'Label': 'Parkes Weber syndrome',\n   'timeset': nan,\n   '0': 'disease',\n   '1': 'Multiple',\n   'giantcomponent': 0}),\n (956,\n  {'bipartite': 1,\n   'Label': 'Retinoblastoma',\n   'timeset': nan,\n   '0': 'disease',\n   '1': 'Cancer',\n   'giantcomponent': 0}),\n (958,\n  {'bipartite': 1,\n   'Label': 'Butterfly dystrophy, retinal',\n   'timeset': nan,\n   '0': 'disease',\n   '1': 'Ophthamological',\n   'giantcomponent': 0}),\n (959,\n  {'bipartite': 1,\n   'Label': 'Foveomacular dystrophy, adult-onset, with choroidal neovascularization',\n   'timeset': nan,\n   '0': 'disease',\n   '1': 'Ophthamological',\n   'giantcomponent': 0}),\n (960,\n  {'bipartite': 1,\n   'Label': 'Hyperproreninemia',\n   'timeset': nan,\n   '0': 'disease',\n   '1': 'Cardiovascular',\n   'giantcomponent': 0}),\n (961,\n  {'bipartite': 1,\n   'Label': 'Colonic aganglionosis, total, with small bowel involvement',\n   'timeset': nan,\n   '0': 'disease',\n   '1': 'Gastrointestinal',\n   'giantcomponent': 0}),\n (962,\n  {'bipartite': 1,\n   'Label': 'Rh-mod syndrome',\n   'timeset': nan,\n   '0': 'disease',\n   '1': 'Hematological',\n   'giantcomponent': 0}),\n (965,\n  {'bipartite': 1,\n   'Label': 'Bothnia retinal dystrophy',\n   'timeset': nan,\n   '0': 'disease',\n   '1': 'Ophthamological',\n   'giantcomponent': 0}),\n (966,\n  {'bipartite': 1,\n   'Label': 'Newfoundland rod-cone dystrophy',\n   'timeset': nan,\n   '0': 'disease',\n   '1': 'Ophthamological',\n   'giantcomponent': 0}),\n (969,\n  {'bipartite': 1,\n   'Label': 'Coffin-Lowry syndrome',\n   'timeset': nan,\n   '0': 'disease',\n   '1': 'Multiple',\n   'giantcomponent': 0}),\n (974,\n  {'bipartite': 1,\n   'Label': 'Cramps, potassium-aggravated',\n   'timeset': nan,\n   '0': 'disease',\n   '1': 'Muscular',\n   'giantcomponent': 0}),\n (975,\n  {'bipartite': 1,\n   'Label': 'Hyperkalemic periodic paralysis',\n   'timeset': nan,\n   '0': 'disease',\n   '1': 'Neurological',\n   'giantcomponent': 0}),\n (976,\n  {'bipartite': 1,\n   'Label': 'Paramyotonia congenita',\n   'timeset': nan,\n   '0': 'disease',\n   '1': 'Muscular',\n   'giantcomponent': 0}),\n (977,\n  {'bipartite': 1,\n   'Label': 'Brugada syndrome',\n   'timeset': nan,\n   '0': 'disease',\n   '1': 'Cardiovascular',\n   'giantcomponent': 0}),\n (978,\n  {'bipartite': 1,\n   'Label': 'Heart block',\n   'timeset': nan,\n   '0': 'disease',\n   '1': 'Cardiovascular',\n   'giantcomponent': 0}),\n (979,\n  {'bipartite': 1,\n   'Label': 'Sick sinus syndrome',\n   'timeset': nan,\n   '0': 'disease',\n   '1': 'Cardiovascular',\n   'giantcomponent': 0}),\n (980,\n  {'bipartite': 1,\n   'Label': 'Ventricular brillation, idiopathic',\n   'timeset': nan,\n   '0': 'disease',\n   '1': 'Cardiovascular',\n   'giantcomponent': 0}),\n (986,\n  {'bipartite': 1,\n   'Label': 'Carcinoid tumors, intestinal',\n   'timeset': nan,\n   '0': 'disease',\n   '1': 'Cancer',\n   'giantcomponent': 0}),\n (987,\n  {'bipartite': 1,\n   'Label': 'Merkel cell carcinoma',\n   'timeset': nan,\n   '0': 'disease',\n   '1': 'Cancer',\n   'giantcomponent': 0}),\n (991,\n  {'bipartite': 1,\n   'Label': 'Solitary median maxillary central incisor',\n   'timeset': nan,\n   '0': 'disease',\n   '1': 'Skeletal',\n   'giantcomponent': 0}),\n (996,\n  {'bipartite': 1,\n   'Label': 'Fanconi-Bickel syndrome',\n   'timeset': nan,\n   '0': 'disease',\n   '1': 'Metabolic',\n   'giantcomponent': 0}),\n (1002,\n  {'bipartite': 1,\n   'Label': 'Anxiety-related personality traits',\n   'timeset': nan,\n   '0': 'disease',\n   '1': 'Psychiatric',\n   'giantcomponent': 0}),\n (1003,\n  {'bipartite': 1,\n   'Label': 'Creatine deciency syndrome, X-linked',\n   'timeset': nan,\n   '0': 'disease',\n   '1': 'Neurological',\n   'giantcomponent': 0}),\n (1012,\n  {'bipartite': 1,\n   'Label': 'Infundibular hypoplasia and hypopituitarism',\n   'timeset': nan,\n   '0': 'disease',\n   '1': 'Endocrine',\n   'giantcomponent': 0}),\n (1015,\n  {'bipartite': 1,\n   'Label': 'PCWH',\n   'timeset': nan,\n   '0': 'disease',\n   '1': 'Neurological',\n   'giantcomponent': 0}),\n (1016,\n  {'bipartite': 1,\n   'Label': 'Yemenite deaf-blind hypopigmentation syndrome',\n   'timeset': nan,\n   '0': 'disease',\n   '1': 'Multiple',\n   'giantcomponent': 0}),\n (1020,\n  {'bipartite': 1,\n   'Label': 'Pyropoikilocytosis',\n   'timeset': nan,\n   '0': 'disease',\n   '1': 'Hematological',\n   'giantcomponent': 0}),\n (1025,\n  {'bipartite': 1,\n   'Label': 'Peutz-Jeghers syndrome',\n   'timeset': nan,\n   '0': 'disease',\n   '1': 'Cancer',\n   'giantcomponent': 0}),\n (1027,\n  {'bipartite': 1,\n   'Label': 'Hypoglycemia',\n   'timeset': nan,\n   '0': 'disease',\n   '1': 'Metabolic',\n   'giantcomponent': 0}),\n (1029,\n  {'bipartite': 1,\n   'Label': 'Wegener granulomatosis',\n   'timeset': nan,\n   '0': 'disease',\n   '1': 'Immunological',\n   'giantcomponent': 0}),\n (1033,\n  {'bipartite': 1,\n   'Label': 'Barth syndrome',\n   'timeset': nan,\n   '0': 'disease',\n   '1': 'Multiple',\n   'giantcomponent': 0}),\n (1034,\n  {'bipartite': 1,\n   'Label': 'Noncompaction of left ventricular myocardium',\n   'timeset': nan,\n   '0': 'disease',\n   '1': 'Cardiovascular',\n   'giantcomponent': 0}),\n (1040,\n  {'bipartite': 1,\n   'Label': 'Glomerulocystic kidney disease, hypoplastic',\n   'timeset': nan,\n   '0': 'disease',\n   '1': 'Renal',\n   'giantcomponent': 0}),\n (1047,\n  {'bipartite': 1,\n   'Label': 'Autoimmune thyroid disease',\n   'timeset': nan,\n   '0': 'disease',\n   '1': 'Endocrine',\n   'giantcomponent': 0}),\n (1051,\n  {'bipartite': 1,\n   'Label': 'Self-healing collodion baby',\n   'timeset': nan,\n   '0': 'disease',\n   '1': 'Dermatological',\n   'giantcomponent': 0}),\n (1065,\n  {'bipartite': 1,\n   'Label': 'Adrenal cortical carcinoma',\n   'timeset': nan,\n   '0': 'disease',\n   '1': 'Cancer',\n   'giantcomponent': 0}),\n (1066,\n  {'bipartite': 1,\n   'Label': 'Histiocytoma',\n   'timeset': nan,\n   '0': 'disease',\n   '1': 'Cancer',\n   'giantcomponent': 0}),\n (1068,\n  {'bipartite': 1,\n   'Label': 'Multiple malignancy syndrome',\n   'timeset': nan,\n   '0': 'disease',\n   '1': 'Cancer',\n   'giantcomponent': 0}),\n (1069,\n  {'bipartite': 1,\n   'Label': 'Nasopharyngeal carcinoma',\n   'timeset': nan,\n   '0': 'disease',\n   '1': 'Cancer',\n   'giantcomponent': 0}),\n (1072,\n  {'bipartite': 1,\n   'Label': 'Hyperthyroidism',\n   'timeset': nan,\n   '0': 'disease',\n   '1': 'Endocrine',\n   'giantcomponent': 0}),\n (1073,\n  {'bipartite': 1,\n   'Label': 'Total iodide organication defect',\n   'timeset': nan,\n   '0': 'disease',\n   '1': 'Endocrine',\n   'giantcomponent': 0}),\n (1078,\n  {'bipartite': 1,\n   'Label': 'Hyperthroidism',\n   'timeset': nan,\n   '0': 'disease',\n   '1': 'Endocrine',\n   'giantcomponent': 0}),\n (1080,\n  {'bipartite': 1,\n   'Label': 'Amyloid neuropathy',\n   'timeset': nan,\n   '0': 'disease',\n   '1': 'Neurological',\n   'giantcomponent': 0}),\n (1081,\n  {'bipartite': 1,\n   'Label': 'Carpal tunnel syndrome, familial',\n   'timeset': nan,\n   '0': 'disease',\n   '1': 'Unclassified',\n   'giantcomponent': 0}),\n (1082,\n  {'bipartite': 1,\n   'Label': 'Dystransthyretinemic hyperthyroxinemia',\n   'timeset': nan,\n   '0': 'disease',\n   '1': 'Hematological',\n   'giantcomponent': 0}),\n (1089,\n  {'bipartite': 1,\n   'Label': 'Hemangioblastoma, cerebellar',\n   'timeset': nan,\n   '0': 'disease',\n   '1': 'Cancer',\n   'giantcomponent': 0}),\n (1091,\n  {'bipartite': 1,\n   'Label': \"Maculopathy, bull's-eye\",\n   'timeset': nan,\n   '0': 'disease',\n   '1': 'Ophthamological',\n   'giantcomponent': 0}),\n (1092,\n  {'bipartite': 1,\n   'Label': 'Vitelliform macular dystrophy',\n   'timeset': nan,\n   '0': 'disease',\n   '1': 'Ophthamological',\n   'giantcomponent': 0}),\n (1094,\n  {'bipartite': 1,\n   'Label': 'Wiskott-Aldrich syndrome',\n   'timeset': nan,\n   '0': 'disease',\n   '1': 'Immunological',\n   'giantcomponent': 0}),\n (1099,\n  {'bipartite': 1,\n   'Label': 'Denys-Drash syndrome',\n   'timeset': nan,\n   '0': 'disease',\n   '1': 'Renal',\n   'giantcomponent': 0}),\n (1100,\n  {'bipartite': 1,\n   'Label': 'Frasier syndrome',\n   'timeset': nan,\n   '0': 'disease',\n   '1': 'Multiple',\n   'giantcomponent': 0}),\n (1101,\n  {'bipartite': 1,\n   'Label': 'Mesangial sclerosis',\n   'timeset': nan,\n   '0': 'disease',\n   '1': 'Renal',\n   'giantcomponent': 0}),\n (1102,\n  {'bipartite': 1,\n   'Label': 'WAGR syndrome',\n   'timeset': nan,\n   '0': 'disease',\n   '1': 'Multiple',\n   'giantcomponent': 0}),\n (1120,\n  {'bipartite': 1,\n   'Label': 'Salivary adenoma',\n   'timeset': nan,\n   '0': 'disease',\n   '1': 'Cancer',\n   'giantcomponent': 0}),\n (1121,\n  {'bipartite': 1,\n   'Label': 'Uterine leiomyoma',\n   'timeset': nan,\n   '0': 'disease',\n   '1': 'Cancer',\n   'giantcomponent': 0}),\n (1130,\n  {'bipartite': 1,\n   'Label': 'Miyoshi myopathy',\n   'timeset': nan,\n   '0': 'disease',\n   '1': 'Muscular',\n   'giantcomponent': 0}),\n (1132,\n  {'bipartite': 1,\n   'Label': 'Oligodontia-colorectal cancer syndrome',\n   'timeset': nan,\n   '0': 'disease',\n   '1': 'Cancer',\n   'giantcomponent': 0}),\n (1136,\n  {'bipartite': 1,\n   'Label': 'Incontinentia pigmenti',\n   'timeset': nan,\n   '0': 'disease',\n   '1': 'Dermatological',\n   'giantcomponent': 0}),\n (1148,\n  {'bipartite': 1,\n   'Label': 'Arthropathy',\n   'timeset': nan,\n   '0': 'disease',\n   '1': 'Bone',\n   'giantcomponent': 0}),\n (1152,\n  {'bipartite': 1,\n   'Label': 'Mesothelioma',\n   'timeset': nan,\n   '0': 'disease',\n   '1': 'Cancer',\n   'giantcomponent': 0}),\n (1153,\n  {'bipartite': 1,\n   'Label': 'Sezary syndrome',\n   'timeset': nan,\n   '0': 'disease',\n   '1': 'Cancer',\n   'giantcomponent': 0}),\n (1174,\n  {'bipartite': 1,\n   'Label': 'Myotilinopathy',\n   'timeset': nan,\n   '0': 'disease',\n   '1': 'Muscular',\n   'giantcomponent': 0}),\n (1181,\n  {'bipartite': 1,\n   'Label': 'Enhanced S-cone syndrome',\n   'timeset': nan,\n   '0': 'disease',\n   '1': 'Ophthamological',\n   'giantcomponent': 0}),\n (1198,\n  {'bipartite': 1,\n   'Label': 'Netherton syndrome',\n   'timeset': nan,\n   '0': 'disease',\n   '1': 'Dermatological',\n   'giantcomponent': 0}),\n (1208,\n  {'bipartite': 1,\n   'Label': 'Pigmented paravenous chorioretinal atrophy',\n   'timeset': nan,\n   '0': 'disease',\n   '1': 'Ophthamological',\n   'giantcomponent': 0}),\n (1221,\n  {'bipartite': 1,\n   'Label': 'Silver spastic paraplegia syndrome',\n   'timeset': nan,\n   '0': 'disease',\n   '1': 'Neurological',\n   'giantcomponent': 0}),\n (1227,\n  {'bipartite': 1,\n   'Label': 'Craniofacial anomalies, empty sella turcica, corneal endothelial changes',\n   'timeset': nan,\n   '0': 'disease',\n   '1': 'Multiple',\n   'giantcomponent': 0}),\n (1228,\n  {'bipartite': 1,\n   'Label': 'Keratoconus',\n   'timeset': nan,\n   '0': 'disease',\n   '1': 'Ophthamological',\n   'giantcomponent': 0}),\n (1232,\n  {'bipartite': 1,\n   'Label': 'Immunodysregulation, polyendocrinopathy, and enteropathy, X-linked',\n   'timeset': nan,\n   '0': 'disease',\n   '1': 'Multiple',\n   'giantcomponent': 0}),\n (1238,\n  {'bipartite': 1,\n   'Label': 'IgE levels QTL',\n   'timeset': nan,\n   '0': 'disease',\n   '1': 'Immunological',\n   'giantcomponent': 0}),\n (1242,\n  {'bipartite': 1,\n   'Label': 'Wolff-Parkinson-White syndrome',\n   'timeset': nan,\n   '0': 'disease',\n   '1': 'Cardiovascular',\n   'giantcomponent': 0}),\n (1270,\n  {'bipartite': 1,\n   'Label': 'Primary lateral sclerosis',\n   'timeset': nan,\n   '0': 'disease',\n   '1': 'Neurological',\n   'giantcomponent': 0}),\n (1285,\n  {'bipartite': 1,\n   'Label': '3-methylglutaconicaciduria',\n   'timeset': nan,\n   '0': 'disease',\n   '1': 'Metabolic',\n   'giantcomponent': 0}),\n (1289,\n  {'bipartite': 1,\n   'Label': 'Convulsions',\n   'timeset': nan,\n   '0': 'disease',\n   '1': 'Neurological',\n   'giantcomponent': 0}),\n (1303,\n  {'bipartite': 1,\n   'Label': 'Infantile spasm syndrome',\n   'timeset': nan,\n   '0': 'disease',\n   '1': 'Neurological',\n   'giantcomponent': 0}),\n (1304,\n  {'bipartite': 1,\n   'Label': 'Partington syndrome',\n   'timeset': nan,\n   '0': 'disease',\n   '1': 'Neurological',\n   'giantcomponent': 0}),\n (1305,\n  {'bipartite': 1,\n   'Label': 'Proud syndrome',\n   'timeset': nan,\n   '0': 'disease',\n   '1': 'Multiple',\n   'giantcomponent': 0}),\n (1306,\n  {'bipartite': 1,\n   'Label': 'Birt-Hogg-Dube syndrome',\n   'timeset': nan,\n   '0': 'disease',\n   '1': 'Dermatological',\n   'giantcomponent': 0}),\n (1307,\n  {'bipartite': 1,\n   'Label': 'Pneumothorax, primary spontaneous',\n   'timeset': nan,\n   '0': 'disease',\n   '1': 'Respiratory',\n   'giantcomponent': 0})]"
     },
     "metadata": {}
    }
   ]
  },
  {
   "cell_type": "code",
   "metadata": {
    "cell_id": "00031-18947ec1-0065-40ec-8c17-63b5e61b4ccc",
    "deepnote_to_be_reexecuted": false,
    "source_hash": "a22e0ed7",
    "execution_start": 1669293043505,
    "execution_millis": 1,
    "deepnote_cell_type": "code",
    "deepnote_cell_height": 585
   },
   "source": "def visualize_bipar():\n    temp = d_attributes\n    categories = np.unique(d_attributes['1'])\n    temp['1'] = pd.Categorical(temp['1'])\n\n    pos = nx.spring_layout(Gp)\n    colorlegend = {a:b  for b,a in enumerate(categories)}\n\n    colours = ['#800000', '#FF0000', '#FF7F50', '#FF8C00', '#FFD700',\n    '#EEE8AA', '#BDB76B', '#808000', '#7CFC00', '#006400', \n    '#98FB98', '#20B2AA', '#2F4F4F', '#00FFFF', '#AFEEEE',\n    '#6495ED','#191970','#8A2BE2','#4B0082','#DDA0DD',\n    '#A0522D','#DEB887']\n    colours = ListedColormap(colours)\n\n    val_map = temp['1'].cat.codes.to_dict()\n    values = [val_map.get(node, 0) for node in Gp.nodes()]\n    cNorm  = colors.Normalize(vmin=0, vmax=max(values))\n    scalarMap = cmx.ScalarMappable(norm=cNorm, cmap=colours)\n\n    f = plt.figure(1, figsize=(30, 30))\n    ax = f.add_subplot(1,1,1)\n    for label in colorlegend:\n        ax.plot([0],[0],color=scalarMap.to_rgba(colorlegend[label]),label=label)\n\n    nx.draw(Gp, pos,  with_labels = True, node_color = temp['1'].cat.codes, cmap = colours, vmin = 0, vmax = max(values))\n\n    plt.legend();\n",
   "execution_count": 20,
   "outputs": []
  },
  {
   "cell_type": "markdown",
   "source": "## Assortativity of the projected network\nWe use the function $trace(M)-sum(M^2))/(1-sum(M^2))$, where M is the joint probability distribution (mixing matrix) of the specified attribute.\nor in easier to understand math\n$$r = \\dfrac{\\sum_ie_{ii} - \\sum_ia_ib_i}{1-\\sum_ia_ib_i}$$",
   "metadata": {
    "cell_id": "00032-4bdb6eb5-3d28-4f90-a3a4-73538fcf0f87",
    "deepnote_cell_type": "markdown",
    "deepnote_cell_height": 194.265625
   }
  },
  {
   "cell_type": "code",
   "metadata": {
    "cell_id": "00033-38cc72ae-c534-49a0-9890-16feb58342af",
    "deepnote_to_be_reexecuted": false,
    "source_hash": "7eac139b",
    "execution_start": 1669293043519,
    "execution_millis": 12,
    "deepnote_cell_type": "code",
    "deepnote_cell_height": 112.1875,
    "deepnote_output_heights": [
     20.1875,
     20.1875
    ]
   },
   "source": "nx.attribute_assortativity_coefficient(Gp, \"1\")",
   "execution_count": 21,
   "outputs": [
    {
     "output_type": "execute_result",
     "execution_count": 21,
     "data": {
      "text/plain": "0.4412095585382886"
     },
     "metadata": {}
    }
   ]
  },
  {
   "cell_type": "markdown",
   "source": "A score of 0.44 means we can say it is moderately assortative since it is above 0 on a [-1;1] scale. ",
   "metadata": {
    "cell_id": "00034-6ed18c40-81e2-4e7b-9261-5f6dfd060b4f",
    "deepnote_cell_type": "markdown",
    "deepnote_cell_height": 74.78125
   }
  },
  {
   "cell_type": "markdown",
   "source": "## Clustering",
   "metadata": {
    "cell_id": "00035-2d226bc4-1b38-4318-85ec-85a16801e84a",
    "deepnote_cell_type": "markdown",
    "deepnote_cell_height": 70
   }
  },
  {
   "cell_type": "code",
   "metadata": {
    "cell_id": "00036-bbaac6ed-b66b-4865-8c65-265ba1c50a3c",
    "deepnote_to_be_reexecuted": false,
    "source_hash": "86ea5df7",
    "execution_start": 1669293043557,
    "execution_millis": 157177,
    "deepnote_cell_type": "code",
    "deepnote_cell_height": 277.25
   },
   "source": "#global clustering coefficient\nprint(nx.transitivity(Gp))\n\n#average clustering coefficient\nprint(nx.average_clustering(Gp))\n\n#local clustering coefficient\nprint(nx.clustering(Gp))",
   "execution_count": 22,
   "outputs": [
    {
     "name": "stdout",
     "text": "0.4304705634100021\n0.6358304997771198\n{55: 0.08, 47: 0.1076923076923077, 114: 0.12408163265306123, 45: 0.125, 87: 0.09057971014492754, 54: 0.10476190476190476, 81: 0.18681318681318682, 48: 0.21428571428571427, 70: 0.2857142857142857, 137: 0.22298850574712645, 223: 0.25, 390: 0.3, 220: 0, 325: 0.6545454545454545, 68: 0.16363636363636364, 208: 0, 213: 0.4, 30: 0.19047619047619047, 65: 0.19444444444444445, 139: 0.2789473684210526, 185: 0.13333333333333333, 202: 1.0, 302: 0.25, 364: 0.13333333333333333, 634: 0.27692307692307694, 53: 0.25, 86: 0.25, 99: 0.28888888888888886, 117: 0.19658119658119658, 155: 0.37362637362637363, 41: 0.3333333333333333, 59: 0.2924901185770751, 130: 0.3333333333333333, 239: 0.14285714285714285, 285: 0.38095238095238093, 640: 0.3333333333333333, 63: 0, 125: 0.3333333333333333, 197: 0.35, 224: 0.425, 236: 0.14285714285714285, 414: 0.16666666666666666, 420: 1.0, 448: 0.5, 822: 0, 42: 0.5333333333333333, 110: 0.3333333333333333, 122: 0.3333333333333333, 140: 0.19444444444444445, 146: 0.2857142857142857, 186: 0.6666666666666666, 266: 1.0, 324: 0.6666666666666666, 332: 0.2, 411: 0.25, 775: 0.39285714285714285, 37: 1.0, 120: 0.2, 222: 0.3484848484848485, 306: 0.19047619047619047, 367: 0.16666666666666666, 541: 0.26666666666666666, 751: 0.2222222222222222, 786: 0, 44: 0.35714285714285715, 74: 0.3333333333333333, 109: 0.5333333333333333, 164: 1.0, 187: 0.32142857142857145, 200: 0.35714285714285715, 215: 0, 219: 0, 245: 0.4666666666666667, 327: 0.2, 384: 0.3516483516483517, 607: 0.19047619047619047, 661: 0.3333333333333333, 736: 0.2857142857142857, 778: 0.3333333333333333, 940: 0.3333333333333333, 80: 0.4642857142857143, 119: 0.16666666666666666, 121: 0.6, 123: 0.6, 133: 1.0, 158: 0.3333333333333333, 180: 0, 199: 0.39285714285714285, 203: 0.3333333333333333, 235: 0.3, 237: 1.0, 248: 0.4725274725274725, 277: 1.0, 280: 1.0, 290: 0.5238095238095238, 314: 0.7333333333333333, 340: 0, 369: 0.6666666666666666, 401: 0.42857142857142855, 419: 1.0, 423: 0.16666666666666666, 429: 0.5333333333333333, 441: 0.4, 447: 0.3333333333333333, 474: 0.3619047619047619, 497: 0.3333333333333333, 570: 0.7, 602: 0.4666666666666667, 782: 0.16666666666666666, 790: 0.45454545454545453, 851: 0, 938: 0.2, 968: 1.0, 43: 0.6, 78: 0.3333333333333333, 79: 0.3333333333333333, 101: 1.0, 113: 1.0, 118: 0.5277777777777778, 132: 0, 165: 0.2, 177: 0, 189: 0.3333333333333333, 201: 0.5238095238095238, 216: 0.5238095238095238, 226: 0, 227: 0.6111111111111112, 270: 0, 282: 0, 292: 0.3611111111111111, 328: 0.4, 402: 0.6, 464: 0, 467: 0.5, 527: 0.6666666666666666, 560: 1.0, 574: 0.6666666666666666, 671: 1.0, 703: 0.7, 742: 0.4888888888888889, 744: 0.5714285714285714, 795: 0.3717948717948718, 796: 0.3333333333333333, 856: 0, 880: 0, 919: 1.0, 953: 0, 984: 1.0, 985: 0.42857142857142855, 36: 1.0, 38: 0.4, 46: 1.0, 100: 0, 126: 1.0, 128: 1.0, 131: 0, 154: 1.0, 156: 0.8333333333333334, 181: 0.5333333333333333, 191: 0.7777777777777778, 192: 0.3333333333333333, 209: 0, 210: 0.4, 211: 1.0, 217: 0.3333333333333333, 238: 0, 272: 1.0, 286: 0.8, 287: 0.4642857142857143, 307: 0, 322: 0, 323: 0, 331: 0, 341: 0.8, 370: 0, 385: 0.6666666666666666, 408: 0.4, 417: 0.3333333333333333, 426: 1.0, 446: 0.3333333333333333, 454: 0.5054945054945055, 457: 1.0, 463: 0, 466: 0.6666666666666666, 470: 0.8055555555555556, 471: 1.0, 472: 0.8055555555555556, 476: 0.47619047619047616, 483: 0.7777777777777778, 484: 1.0, 485: 1.0, 491: 0.7, 493: 0.7, 526: 1.0, 545: 1.0, 550: 0, 559: 0.7333333333333333, 575: 1.0, 616: 1.0, 681: 0.4666666666666667, 682: 1.0, 685: 1.0, 691: 0.6666666666666666, 692: 0.4722222222222222, 765: 1.0, 767: 1.0, 772: 0.4909090909090909, 773: 1.0, 779: 0.3333333333333333, 784: 0.8214285714285714, 785: 0.8214285714285714, 793: 1.0, 797: 0.3333333333333333, 799: 0, 814: 0.3333333333333333, 815: 0.6, 838: 1.0, 853: 0.6, 858: 0, 873: 0.6727272727272727, 930: 0, 963: 0, 982: 0, 1048: 0.4, 1050: 1.0, 1053: 1.0, 1061: 1.0, 1067: 0.8909090909090909, 1070: 0.8909090909090909, 1145: 0, 1245: 1.0, 39: 1.0, 62: 0, 69: 1.0, 76: 0, 77: 1.0, 98: 0, 112: 1.0, 115: 1.0, 116: 1.0, 124: 1.0, 127: 1.0, 129: 1.0, 134: 0, 136: 1.0, 138: 1.0, 147: 0, 157: 0, 166: 1.0, 167: 1.0, 184: 1.0, 188: 1.0, 198: 1.0, 212: 1.0, 218: 1.0, 225: 1.0, 228: 1.0, 229: 1.0, 231: 1.0, 232: 1.0, 249: 1.0, 252: 1.0, 253: 1.0, 283: 1.0, 284: 1.0, 288: 1.0, 289: 1.0, 291: 1.0, 293: 1.0, 294: 0, 301: 1.0, 303: 1.0, 304: 1.0, 305: 0, 310: 0, 311: 1.0, 312: 1.0, 313: 0, 316: 1.0, 317: 1.0, 334: 1.0, 342: 0, 363: 0, 365: 1.0, 366: 1.0, 368: 0, 374: 1.0, 375: 1.0, 376: 0, 380: 0, 386: 1.0, 403: 1.0, 404: 1.0, 405: 1.0, 406: 1.0, 407: 1.0, 409: 1.0, 415: 1.0, 416: 1.0, 422: 0, 424: 1.0, 425: 1.0, 434: 1.0, 442: 0, 453: 1.0, 455: 1.0, 456: 1.0, 468: 0, 473: 1.0, 475: 1.0, 477: 1.0, 478: 1.0, 479: 1.0, 480: 1.0, 481: 1.0, 482: 1.0, 486: 1.0, 490: 1.0, 492: 1.0, 502: 1.0, 503: 1.0, 523: 1.0, 524: 1.0, 535: 1.0, 536: 1.0, 540: 1.0, 542: 0, 552: 1.0, 553: 1.0, 554: 1.0, 555: 1.0, 556: 1.0, 557: 1.0, 558: 1.0, 563: 0, 576: 1.0, 577: 1.0, 578: 1.0, 579: 1.0, 585: 0, 605: 0, 606: 1.0, 608: 1.0, 627: 0, 633: 1.0, 637: 0, 643: 1.0, 644: 1.0, 645: 1.0, 663: 1.0, 664: 0, 665: 0, 667: 1.0, 668: 1.0, 669: 1.0, 670: 1.0, 680: 1.0, 686: 0, 687: 0, 689: 0, 693: 1.0, 694: 1.0, 695: 1.0, 701: 1.0, 702: 1.0, 704: 1.0, 709: 1.0, 716: 0, 743: 1.0, 745: 1.0, 746: 1.0, 747: 1.0, 748: 1.0, 752: 1.0, 753: 1.0, 754: 1.0, 766: 1.0, 769: 1.0, 770: 1.0, 771: 1.0, 774: 1.0, 781: 0, 792: 0, 794: 1.0, 798: 1.0, 810: 0, 816: 0, 817: 1.0, 818: 1.0, 819: 1.0, 820: 1.0, 826: 0, 828: 1.0, 829: 1.0, 833: 1.0, 834: 1.0, 835: 1.0, 836: 1.0, 841: 1.0, 842: 1.0, 852: 0, 868: 1.0, 871: 1.0, 872: 1.0, 874: 1.0, 875: 1.0, 876: 1.0, 877: 1.0, 878: 1.0, 879: 0, 882: 1.0, 883: 1.0, 884: 0, 887: 1.0, 888: 1.0, 889: 1.0, 897: 0, 902: 0, 904: 1.0, 909: 0, 911: 0, 912: 1.0, 923: 1.0, 924: 1.0, 925: 1.0, 928: 1.0, 929: 1.0, 935: 1.0, 939: 1.0, 941: 1.0, 942: 1.0, 943: 1.0, 944: 1.0, 947: 1.0, 948: 1.0, 949: 1.0, 954: 1.0, 955: 1.0, 956: 0, 958: 1.0, 959: 1.0, 960: 0, 961: 1.0, 962: 0, 965: 1.0, 966: 1.0, 969: 0, 974: 1.0, 975: 1.0, 976: 1.0, 977: 1.0, 978: 1.0, 979: 1.0, 980: 1.0, 986: 1.0, 987: 1.0, 991: 1.0, 996: 0, 1002: 0, 1003: 0, 1012: 0, 1015: 1.0, 1016: 1.0, 1020: 1.0, 1025: 1.0, 1027: 0, 1029: 0, 1033: 1.0, 1034: 1.0, 1040: 1.0, 1047: 1.0, 1051: 1.0, 1065: 1.0, 1066: 1.0, 1068: 1.0, 1069: 1.0, 1072: 1.0, 1073: 1.0, 1078: 1.0, 1080: 1.0, 1081: 1.0, 1082: 1.0, 1089: 1.0, 1091: 1.0, 1092: 1.0, 1094: 1.0, 1099: 1.0, 1100: 1.0, 1101: 1.0, 1102: 1.0, 1120: 1.0, 1121: 1.0, 1130: 1.0, 1132: 0, 1136: 0, 1148: 0, 1152: 1.0, 1153: 1.0, 1174: 0, 1181: 0, 1198: 0, 1208: 1.0, 1221: 1.0, 1227: 1.0, 1228: 1.0, 1232: 0, 1238: 0, 1242: 0, 1270: 1.0, 1285: 0, 1289: 0, 1303: 1.0, 1304: 1.0, 1305: 1.0, 1306: 1.0, 1307: 1.0}\n",
     "output_type": "stream"
    }
   ]
  },
  {
   "cell_type": "code",
   "source": "from collections import defaultdict\n\ndef homophily_per_group(graph):\n    types_diseases = defaultdict(list)\n    for node in graph.nodes():\n        group = graph.nodes[node]['1']\n        count = 0 \n        num_neighbors= len(list(graph.neighbors(node)))\n        for n_node in list(graph.neighbors(node)):\n            n_group= graph.nodes[n_node]['1']\n            \n            if group == n_group: \n                count +=1\n                \n        types_diseases[group].append(count/num_neighbors)\n   \n    for key,val in types_diseases.items():\n        value = np.round(sum(val) / len(val), decimals=3)\n        types_diseases.update({key: [value]})\n        \n    df = pd.DataFrame.from_dict(types_diseases, orient='columns')\n    return df \n\n\n#homophily_per_group(bipar_weighted).items()\n\n\n\ndef list_degrees(graph): \n    l = list(graph.degree())\n    l_sorted= sorted(l, key=lambda t: t[1], reverse=True)\n    \n    return l_sorted\n\ndegrees = pd.DataFrame(list_degrees(Gp), columns=['NodeID', 'Degree'])\n\nplt.figure(1, figsize=(25, 25))\nsns.histplot(data=degrees,  x='Degree')\nplt.title('Degree Distribution', fontsize=50)\nplt.xlabel('Nodes', size=20)\nplt.ylabel('Degrees', size=20)\n\n",
   "metadata": {
    "cell_id": "00037-8ff81c03-8272-4478-b03b-cc0b874520b9",
    "deepnote_to_be_reexecuted": false,
    "source_hash": "f9d10cf7",
    "execution_start": 1669293043565,
    "execution_millis": 815,
    "deepnote_cell_type": "code",
    "deepnote_cell_height": 1509.1875,
    "deepnote_output_heights": [
     20.1875,
     610,
     20.1875,
     610
    ]
   },
   "execution_count": 23,
   "outputs": [
    {
     "output_type": "execute_result",
     "execution_count": 23,
     "data": {
      "text/plain": "Text(0, 0.5, 'Degrees')"
     },
     "metadata": {}
    },
    {
     "data": {
      "text/plain": "<Figure size 2500x2500 with 1 Axes>",
      "image/png": "[encoded data removed]"
     },
     "metadata": {
      "image/png": {
       "width": 2033,
       "height": 2068
      }
     },
     "output_type": "display_data"
    }
   ]
  },
  {
   "cell_type": "code",
   "metadata": {
    "cell_id": "00038-a943df5e-c753-4118-b29e-3171cba89642",
    "deepnote_to_be_reexecuted": false,
    "source_hash": "4d8394fe",
    "execution_start": 1669293044391,
    "execution_millis": 9,
    "deepnote_cell_type": "code",
    "deepnote_cell_height": 586.1875,
    "deepnote_output_heights": [
     116.1875,
     116.1875
    ]
   },
   "source": "degrees.head(200)\nGp.nodes[45]['1']\nhomophily_per_group(Gp)\nlist(Gp.neighbors(68))\ndef group(graph):\n    dict_nodes=defaultdict(list)\n    num_nodes = defaultdict(int)\n    for node in graph.nodes():\n        group = graph.nodes[node]['1']\n        dict_nodes[group].append(node)\n        num_nodes[group] += 1\n    \n    return dict_nodes, num_diseases\n\n\ngroup(Gp)\n\n#barplot of nodes above th\n#th at least 5% of the data -> 26\n#68, 187, 902, 1307\n\nGp.nodes[1307]",
   "execution_count": 24,
   "outputs": [
    {
     "output_type": "execute_result",
     "execution_count": 24,
     "data": {
      "text/plain": "{'bipartite': 1,\n 'Label': 'Pneumothorax, primary spontaneous',\n 'timeset': nan,\n '0': 'disease',\n '1': 'Respiratory',\n 'giantcomponent': 0}"
     },
     "metadata": {}
    }
   ]
  },
  {
   "cell_type": "code",
   "source": "from networkx.algorithms.community import greedy_modularity_communities\nhomophily_per_group(Gp)",
   "metadata": {
    "cell_id": "00039-52162682-ecb2-423e-bb91-9699d7bf2bdf",
    "deepnote_to_be_reexecuted": false,
    "source_hash": "a9318283",
    "execution_start": 1669293044429,
    "execution_millis": 178,
    "deepnote_cell_type": "code",
    "deepnote_cell_height": 260.65625,
    "deepnote_output_heights": [
     91.1875
    ]
   },
   "execution_count": 25,
   "outputs": [
    {
     "output_type": "execute_result",
     "execution_count": 25,
     "data": {
      "application/vnd.deepnote.dataframe.v3+json": {
       "column_count": 22,
       "row_count": 1,
       "columns": [
        {
         "name": "Ear,Nose,Throat",
         "dtype": "float64",
         "stats": {
          "unique_count": 1,
          "nan_count": 0,
          "min": "0.693",
          "max": "0.693",
          "histogram": [
           {
            "bin_start": 0.19299999999999995,
            "bin_end": 0.2929999999999999,
            "count": 0
           },
           {
            "bin_start": 0.2929999999999999,
            "bin_end": 0.39299999999999996,
            "count": 0
           },
           {
            "bin_start": 0.39299999999999996,
            "bin_end": 0.493,
            "count": 0
           },
           {
            "bin_start": 0.493,
            "bin_end": 0.593,
            "count": 0
           },
           {
            "bin_start": 0.593,
            "bin_end": 0.693,
            "count": 0
           },
           {
            "bin_start": 0.693,
            "bin_end": 0.793,
            "count": 1
           },
           {
            "bin_start": 0.793,
            "bin_end": 0.893,
            "count": 0
           },
           {
            "bin_start": 0.893,
            "bin_end": 0.993,
            "count": 0
           },
           {
            "bin_start": 0.993,
            "bin_end": 1.093,
            "count": 0
           },
           {
            "bin_start": 1.093,
            "bin_end": 1.193,
            "count": 0
           }
          ]
         }
        },
        {
         "name": "Cancer",
         "dtype": "float64",
         "stats": {
          "unique_count": 1,
          "nan_count": 0,
          "min": "0.794",
          "max": "0.794",
          "histogram": [
           {
            "bin_start": 0.29400000000000004,
            "bin_end": 0.394,
            "count": 0
           },
           {
            "bin_start": 0.394,
            "bin_end": 0.49400000000000005,
            "count": 0
           },
           {
            "bin_start": 0.49400000000000005,
            "bin_end": 0.5940000000000001,
            "count": 0
           },
           {
            "bin_start": 0.5940000000000001,
            "bin_end": 0.6940000000000001,
            "count": 0
           },
           {
            "bin_start": 0.6940000000000001,
            "bin_end": 0.794,
            "count": 0
           },
           {
            "bin_start": 0.794,
            "bin_end": 0.8940000000000001,
            "count": 1
           },
           {
            "bin_start": 0.8940000000000001,
            "bin_end": 0.9940000000000001,
            "count": 0
           },
           {
            "bin_start": 0.9940000000000001,
            "bin_end": 1.094,
            "count": 0
           },
           {
            "bin_start": 1.094,
            "bin_end": 1.194,
            "count": 0
           },
           {
            "bin_start": 1.194,
            "bin_end": 1.294,
            "count": 0
           }
          ]
         }
        },
        {
         "name": "Ophthamological",
         "dtype": "float64",
         "stats": {
          "unique_count": 1,
          "nan_count": 0,
          "min": "0.768",
          "max": "0.768",
          "histogram": [
           {
            "bin_start": 0.268,
            "bin_end": 0.368,
            "count": 0
           },
           {
            "bin_start": 0.368,
            "bin_end": 0.468,
            "count": 0
           },
           {
            "bin_start": 0.468,
            "bin_end": 0.5680000000000001,
            "count": 0
           },
           {
            "bin_start": 0.5680000000000001,
            "bin_end": 0.668,
            "count": 0
           },
           {
            "bin_start": 0.668,
            "bin_end": 0.768,
            "count": 0
           },
           {
            "bin_start": 0.768,
            "bin_end": 0.8680000000000001,
            "count": 1
           },
           {
            "bin_start": 0.8680000000000001,
            "bin_end": 0.9680000000000001,
            "count": 0
           },
           {
            "bin_start": 0.9680000000000001,
            "bin_end": 1.068,
            "count": 0
           },
           {
            "bin_start": 1.068,
            "bin_end": 1.1680000000000001,
            "count": 0
           },
           {
            "bin_start": 1.1680000000000001,
            "bin_end": 1.268,
            "count": 0
           }
          ]
         }
        },
        {
         "name": "Endocrine",
         "dtype": "float64",
         "stats": {
          "unique_count": 1,
          "nan_count": 0,
          "min": "0.505",
          "max": "0.505",
          "histogram": [
           {
            "bin_start": 0.0050000000000000044,
            "bin_end": 0.105,
            "count": 0
           },
           {
            "bin_start": 0.105,
            "bin_end": 0.205,
            "count": 0
           },
           {
            "bin_start": 0.205,
            "bin_end": 0.305,
            "count": 0
           },
           {
            "bin_start": 0.305,
            "bin_end": 0.40499999999999997,
            "count": 0
           },
           {
            "bin_start": 0.40499999999999997,
            "bin_end": 0.5049999999999999,
            "count": 0
           },
           {
            "bin_start": 0.5049999999999999,
            "bin_end": 0.605,
            "count": 1
           },
           {
            "bin_start": 0.605,
            "bin_end": 0.705,
            "count": 0
           },
           {
            "bin_start": 0.705,
            "bin_end": 0.8049999999999999,
            "count": 0
           },
           {
            "bin_start": 0.8049999999999999,
            "bin_end": 0.9049999999999999,
            "count": 0
           },
           {
            "bin_start": 0.9049999999999999,
            "bin_end": 1.005,
            "count": 0
           }
          ]
         }
        },
        {
         "name": "Cardiovascular",
         "dtype": "float64",
         "stats": {
          "unique_count": 1,
          "nan_count": 0,
          "min": "0.462",
          "max": "0.462",
          "histogram": [
           {
            "bin_start": -0.03799999999999998,
            "bin_end": 0.06200000000000003,
            "count": 0
           },
           {
            "bin_start": 0.06200000000000003,
            "bin_end": 0.16200000000000003,
            "count": 0
           },
           {
            "bin_start": 0.16200000000000003,
            "bin_end": 0.26200000000000007,
            "count": 0
           },
           {
            "bin_start": 0.26200000000000007,
            "bin_end": 0.36200000000000004,
            "count": 0
           },
           {
            "bin_start": 0.36200000000000004,
            "bin_end": 0.462,
            "count": 0
           },
           {
            "bin_start": 0.462,
            "bin_end": 0.562,
            "count": 1
           },
           {
            "bin_start": 0.562,
            "bin_end": 0.6620000000000001,
            "count": 0
           },
           {
            "bin_start": 0.6620000000000001,
            "bin_end": 0.762,
            "count": 0
           },
           {
            "bin_start": 0.762,
            "bin_end": 0.8620000000000001,
            "count": 0
           },
           {
            "bin_start": 0.8620000000000001,
            "bin_end": 0.962,
            "count": 0
           }
          ]
         }
        },
        {
         "name": "Neurological",
         "dtype": "float64",
         "stats": {
          "unique_count": 1,
          "nan_count": 0,
          "min": "0.537",
          "max": "0.537",
          "histogram": [
           {
            "bin_start": 0.03700000000000003,
            "bin_end": 0.137,
            "count": 0
           },
           {
            "bin_start": 0.137,
            "bin_end": 0.23700000000000002,
            "count": 0
           },
           {
            "bin_start": 0.23700000000000002,
            "bin_end": 0.337,
            "count": 0
           },
           {
            "bin_start": 0.337,
            "bin_end": 0.437,
            "count": 0
           },
           {
            "bin_start": 0.437,
            "bin_end": 0.5369999999999999,
            "count": 0
           },
           {
            "bin_start": 0.5369999999999999,
            "bin_end": 0.637,
            "count": 1
           },
           {
            "bin_start": 0.637,
            "bin_end": 0.737,
            "count": 0
           },
           {
            "bin_start": 0.737,
            "bin_end": 0.837,
            "count": 0
           },
           {
            "bin_start": 0.837,
            "bin_end": 0.9369999999999999,
            "count": 0
           },
           {
            "bin_start": 0.9369999999999999,
            "bin_end": 1.037,
            "count": 0
           }
          ]
         }
        },
        {
         "name": "Hematological",
         "dtype": "float64",
         "stats": {
          "unique_count": 1,
          "nan_count": 0,
          "min": "0.563",
          "max": "0.563",
          "histogram": [
           {
            "bin_start": 0.06299999999999994,
            "bin_end": 0.16299999999999995,
            "count": 0
           },
           {
            "bin_start": 0.16299999999999995,
            "bin_end": 0.26299999999999996,
            "count": 0
           },
           {
            "bin_start": 0.26299999999999996,
            "bin_end": 0.363,
            "count": 0
           },
           {
            "bin_start": 0.363,
            "bin_end": 0.46299999999999997,
            "count": 0
           },
           {
            "bin_start": 0.46299999999999997,
            "bin_end": 0.563,
            "count": 0
           },
           {
            "bin_start": 0.563,
            "bin_end": 0.663,
            "count": 1
           },
           {
            "bin_start": 0.663,
            "bin_end": 0.763,
            "count": 0
           },
           {
            "bin_start": 0.763,
            "bin_end": 0.863,
            "count": 0
           },
           {
            "bin_start": 0.863,
            "bin_end": 0.963,
            "count": 0
           },
           {
            "bin_start": 0.963,
            "bin_end": 1.063,
            "count": 0
           }
          ]
         }
        },
        {
         "name": "Nutritional",
         "dtype": "float64",
         "stats": {
          "unique_count": 1,
          "nan_count": 0,
          "min": "0.375",
          "max": "0.375",
          "histogram": [
           {
            "bin_start": -0.125,
            "bin_end": -0.024999999999999994,
            "count": 0
           },
           {
            "bin_start": -0.024999999999999994,
            "bin_end": 0.07500000000000001,
            "count": 0
           },
           {
            "bin_start": 0.07500000000000001,
            "bin_end": 0.17500000000000004,
            "count": 0
           },
           {
            "bin_start": 0.17500000000000004,
            "bin_end": 0.275,
            "count": 0
           },
           {
            "bin_start": 0.275,
            "bin_end": 0.375,
            "count": 0
           },
           {
            "bin_start": 0.375,
            "bin_end": 0.4750000000000001,
            "count": 1
           },
           {
            "bin_start": 0.4750000000000001,
            "bin_end": 0.5750000000000001,
            "count": 0
           },
           {
            "bin_start": 0.5750000000000001,
            "bin_end": 0.675,
            "count": 0
           },
           {
            "bin_start": 0.675,
            "bin_end": 0.775,
            "count": 0
           },
           {
            "bin_start": 0.775,
            "bin_end": 0.875,
            "count": 0
           }
          ]
         }
        },
        {
         "name": "Muscular",
         "dtype": "float64",
         "stats": {
          "unique_count": 1,
          "nan_count": 0,
          "min": "0.497",
          "max": "0.497",
          "histogram": [
           {
            "bin_start": -0.0030000000000000027,
            "bin_end": 0.097,
            "count": 0
           },
           {
            "bin_start": 0.097,
            "bin_end": 0.197,
            "count": 0
           },
           {
            "bin_start": 0.197,
            "bin_end": 0.29700000000000004,
            "count": 0
           },
           {
            "bin_start": 0.29700000000000004,
            "bin_end": 0.397,
            "count": 0
           },
           {
            "bin_start": 0.397,
            "bin_end": 0.497,
            "count": 0
           },
           {
            "bin_start": 0.497,
            "bin_end": 0.5970000000000001,
            "count": 1
           },
           {
            "bin_start": 0.5970000000000001,
            "bin_end": 0.6970000000000001,
            "count": 0
           },
           {
            "bin_start": 0.6970000000000001,
            "bin_end": 0.797,
            "count": 0
           },
           {
            "bin_start": 0.797,
            "bin_end": 0.897,
            "count": 0
           },
           {
            "bin_start": 0.897,
            "bin_end": 0.997,
            "count": 0
           }
          ]
         }
        },
        {
         "name": "Respiratory",
         "dtype": "float64",
         "stats": {
          "unique_count": 1,
          "nan_count": 0,
          "min": "0.0",
          "max": "0.0",
          "histogram": [
           {
            "bin_start": -0.5,
            "bin_end": -0.4,
            "count": 0
           },
           {
            "bin_start": -0.4,
            "bin_end": -0.3,
            "count": 0
           },
           {
            "bin_start": -0.3,
            "bin_end": -0.19999999999999996,
            "count": 0
           },
           {
            "bin_start": -0.19999999999999996,
            "bin_end": -0.09999999999999998,
            "count": 0
           },
           {
            "bin_start": -0.09999999999999998,
            "bin_end": 0,
            "count": 0
           },
           {
            "bin_start": 0,
            "bin_end": 0.10000000000000009,
            "count": 1
           },
           {
            "bin_start": 0.10000000000000009,
            "bin_end": 0.20000000000000007,
            "count": 0
           },
           {
            "bin_start": 0.20000000000000007,
            "bin_end": 0.30000000000000004,
            "count": 0
           },
           {
            "bin_start": 0.30000000000000004,
            "bin_end": 0.4,
            "count": 0
           },
           {
            "bin_start": 0.4,
            "bin_end": 0.5,
            "count": 0
           }
          ]
         }
        },
        {
         "name": "Immunological",
         "dtype": "float64",
         "stats": {
          "unique_count": 1,
          "nan_count": 0,
          "min": "0.312",
          "max": "0.312",
          "histogram": [
           {
            "bin_start": -0.188,
            "bin_end": -0.088,
            "count": 0
           },
           {
            "bin_start": -0.088,
            "bin_end": 0.01200000000000001,
            "count": 0
           },
           {
            "bin_start": 0.01200000000000001,
            "bin_end": 0.11200000000000004,
            "count": 0
           },
           {
            "bin_start": 0.11200000000000004,
            "bin_end": 0.21200000000000002,
            "count": 0
           },
           {
            "bin_start": 0.21200000000000002,
            "bin_end": 0.312,
            "count": 0
           },
           {
            "bin_start": 0.312,
            "bin_end": 0.4120000000000001,
            "count": 1
           },
           {
            "bin_start": 0.4120000000000001,
            "bin_end": 0.512,
            "count": 0
           },
           {
            "bin_start": 0.512,
            "bin_end": 0.6120000000000001,
            "count": 0
           },
           {
            "bin_start": 0.6120000000000001,
            "bin_end": 0.712,
            "count": 0
           },
           {
            "bin_start": 0.712,
            "bin_end": 0.812,
            "count": 0
           }
          ]
         }
        },
        {
         "name": "Multiple",
         "dtype": "float64",
         "stats": {
          "unique_count": 1,
          "nan_count": 0,
          "min": "0.192",
          "max": "0.192",
          "histogram": [
           {
            "bin_start": -0.308,
            "bin_end": -0.208,
            "count": 0
           },
           {
            "bin_start": -0.208,
            "bin_end": -0.10799999999999998,
            "count": 0
           },
           {
            "bin_start": -0.10799999999999998,
            "bin_end": -0.007999999999999952,
            "count": 0
           },
           {
            "bin_start": -0.007999999999999952,
            "bin_end": 0.09200000000000003,
            "count": 0
           },
           {
            "bin_start": 0.09200000000000003,
            "bin_end": 0.192,
            "count": 0
           },
           {
            "bin_start": 0.192,
            "bin_end": 0.2920000000000001,
            "count": 1
           },
           {
            "bin_start": 0.2920000000000001,
            "bin_end": 0.39200000000000007,
            "count": 0
           },
           {
            "bin_start": 0.39200000000000007,
            "bin_end": 0.49200000000000005,
            "count": 0
           },
           {
            "bin_start": 0.49200000000000005,
            "bin_end": 0.5920000000000001,
            "count": 0
           },
           {
            "bin_start": 0.5920000000000001,
            "bin_end": 0.692,
            "count": 0
           }
          ]
         }
        },
        {
         "name": "Dermatological",
         "dtype": "float64",
         "stats": {
          "unique_count": 1,
          "nan_count": 0,
          "min": "0.616",
          "max": "0.616",
          "histogram": [
           {
            "bin_start": 0.11599999999999999,
            "bin_end": 0.216,
            "count": 0
           },
           {
            "bin_start": 0.216,
            "bin_end": 0.316,
            "count": 0
           },
           {
            "bin_start": 0.316,
            "bin_end": 0.41600000000000004,
            "count": 0
           },
           {
            "bin_start": 0.41600000000000004,
            "bin_end": 0.516,
            "count": 0
           },
           {
            "bin_start": 0.516,
            "bin_end": 0.616,
            "count": 0
           },
           {
            "bin_start": 0.616,
            "bin_end": 0.7160000000000001,
            "count": 1
           },
           {
            "bin_start": 0.7160000000000001,
            "bin_end": 0.8160000000000001,
            "count": 0
           },
           {
            "bin_start": 0.8160000000000001,
            "bin_end": 0.916,
            "count": 0
           },
           {
            "bin_start": 0.916,
            "bin_end": 1.016,
            "count": 0
           },
           {
            "bin_start": 1.016,
            "bin_end": 1.116,
            "count": 0
           }
          ]
         }
        },
        {
         "name": "Psychiatric",
         "dtype": "float64",
         "stats": {
          "unique_count": 1,
          "nan_count": 0,
          "min": "0.364",
          "max": "0.364",
          "histogram": [
           {
            "bin_start": -0.136,
            "bin_end": -0.036000000000000004,
            "count": 0
           },
           {
            "bin_start": -0.036000000000000004,
            "bin_end": 0.064,
            "count": 0
           },
           {
            "bin_start": 0.064,
            "bin_end": 0.16400000000000003,
            "count": 0
           },
           {
            "bin_start": 0.16400000000000003,
            "bin_end": 0.264,
            "count": 0
           },
           {
            "bin_start": 0.264,
            "bin_end": 0.364,
            "count": 0
           },
           {
            "bin_start": 0.364,
            "bin_end": 0.4640000000000001,
            "count": 1
           },
           {
            "bin_start": 0.4640000000000001,
            "bin_end": 0.5640000000000001,
            "count": 0
           },
           {
            "bin_start": 0.5640000000000001,
            "bin_end": 0.664,
            "count": 0
           },
           {
            "bin_start": 0.664,
            "bin_end": 0.764,
            "count": 0
           },
           {
            "bin_start": 0.764,
            "bin_end": 0.864,
            "count": 0
           }
          ]
         }
        },
        {
         "name": "Connective tissue disorder",
         "dtype": "float64",
         "stats": {
          "unique_count": 1,
          "nan_count": 0,
          "min": "0.25",
          "max": "0.25",
          "histogram": [
           {
            "bin_start": -0.25,
            "bin_end": -0.15,
            "count": 0
           },
           {
            "bin_start": -0.15,
            "bin_end": -0.04999999999999999,
            "count": 0
           },
           {
            "bin_start": -0.04999999999999999,
            "bin_end": 0.050000000000000044,
            "count": 0
           },
           {
            "bin_start": 0.050000000000000044,
            "bin_end": 0.15000000000000002,
            "count": 0
           },
           {
            "bin_start": 0.15000000000000002,
            "bin_end": 0.25,
            "count": 0
           },
           {
            "bin_start": 0.25,
            "bin_end": 0.3500000000000001,
            "count": 1
           },
           {
            "bin_start": 0.3500000000000001,
            "bin_end": 0.45000000000000007,
            "count": 0
           },
           {
            "bin_start": 0.45000000000000007,
            "bin_end": 0.55,
            "count": 0
           },
           {
            "bin_start": 0.55,
            "bin_end": 0.65,
            "count": 0
           },
           {
            "bin_start": 0.65,
            "bin_end": 0.75,
            "count": 0
           }
          ]
         }
        },
        {
         "name": "Metabolic",
         "dtype": "float64",
         "stats": {
          "unique_count": 1,
          "nan_count": 0,
          "min": "0.2",
          "max": "0.2",
          "histogram": [
           {
            "bin_start": -0.3,
            "bin_end": -0.19999999999999998,
            "count": 0
           },
           {
            "bin_start": -0.19999999999999998,
            "bin_end": -0.09999999999999998,
            "count": 0
           },
           {
            "bin_start": -0.09999999999999998,
            "bin_end": 5.551115123125783e-17,
            "count": 0
           },
           {
            "bin_start": 5.551115123125783e-17,
            "bin_end": 0.10000000000000003,
            "count": 0
           },
           {
            "bin_start": 0.10000000000000003,
            "bin_end": 0.2,
            "count": 0
           },
           {
            "bin_start": 0.2,
            "bin_end": 0.3000000000000001,
            "count": 1
           },
           {
            "bin_start": 0.3000000000000001,
            "bin_end": 0.4000000000000001,
            "count": 0
           },
           {
            "bin_start": 0.4000000000000001,
            "bin_end": 0.5,
            "count": 0
           },
           {
            "bin_start": 0.5,
            "bin_end": 0.6000000000000001,
            "count": 0
           },
           {
            "bin_start": 0.6000000000000001,
            "bin_end": 0.7,
            "count": 0
           }
          ]
         }
        },
        {
         "name": "Gastrointestinal",
         "dtype": "float64",
         "stats": {
          "unique_count": 1,
          "nan_count": 0,
          "min": "0.09",
          "max": "0.09",
          "histogram": [
           {
            "bin_start": -0.41000000000000003,
            "bin_end": -0.31000000000000005,
            "count": 0
           },
           {
            "bin_start": -0.31000000000000005,
            "bin_end": -0.21000000000000002,
            "count": 0
           },
           {
            "bin_start": -0.21000000000000002,
            "bin_end": -0.10999999999999999,
            "count": 0
           },
           {
            "bin_start": -0.10999999999999999,
            "bin_end": -0.010000000000000009,
            "count": 0
           },
           {
            "bin_start": -0.010000000000000009,
            "bin_end": 0.08999999999999997,
            "count": 0
           },
           {
            "bin_start": 0.08999999999999997,
            "bin_end": 0.19000000000000006,
            "count": 1
           },
           {
            "bin_start": 0.19000000000000006,
            "bin_end": 0.29000000000000004,
            "count": 0
           },
           {
            "bin_start": 0.29000000000000004,
            "bin_end": 0.39,
            "count": 0
           },
           {
            "bin_start": 0.39,
            "bin_end": 0.49,
            "count": 0
           },
           {
            "bin_start": 0.49,
            "bin_end": 0.59,
            "count": 0
           }
          ]
         }
        },
        {
         "name": "Bone",
         "dtype": "float64",
         "stats": {
          "unique_count": 1,
          "nan_count": 0,
          "min": "0.317",
          "max": "0.317",
          "histogram": [
           {
            "bin_start": -0.183,
            "bin_end": -0.08299999999999999,
            "count": 0
           },
           {
            "bin_start": -0.08299999999999999,
            "bin_end": 0.017000000000000015,
            "count": 0
           },
           {
            "bin_start": 0.017000000000000015,
            "bin_end": 0.11700000000000005,
            "count": 0
           },
           {
            "bin_start": 0.11700000000000005,
            "bin_end": 0.21700000000000003,
            "count": 0
           },
           {
            "bin_start": 0.21700000000000003,
            "bin_end": 0.317,
            "count": 0
           },
           {
            "bin_start": 0.317,
            "bin_end": 0.4170000000000001,
            "count": 1
           },
           {
            "bin_start": 0.4170000000000001,
            "bin_end": 0.5170000000000001,
            "count": 0
           },
           {
            "bin_start": 0.5170000000000001,
            "bin_end": 0.617,
            "count": 0
           },
           {
            "bin_start": 0.617,
            "bin_end": 0.7170000000000001,
            "count": 0
           },
           {
            "bin_start": 0.7170000000000001,
            "bin_end": 0.817,
            "count": 0
           }
          ]
         }
        },
        {
         "name": "Skeletal",
         "dtype": "float64",
         "stats": {
          "unique_count": 1,
          "nan_count": 0,
          "min": "0.359",
          "max": "0.359",
          "histogram": [
           {
            "bin_start": -0.14100000000000001,
            "bin_end": -0.04100000000000001,
            "count": 0
           },
           {
            "bin_start": -0.04100000000000001,
            "bin_end": 0.059,
            "count": 0
           },
           {
            "bin_start": 0.059,
            "bin_end": 0.15900000000000003,
            "count": 0
           },
           {
            "bin_start": 0.15900000000000003,
            "bin_end": 0.259,
            "count": 0
           },
           {
            "bin_start": 0.259,
            "bin_end": 0.359,
            "count": 0
           },
           {
            "bin_start": 0.359,
            "bin_end": 0.4590000000000001,
            "count": 1
           },
           {
            "bin_start": 0.4590000000000001,
            "bin_end": 0.559,
            "count": 0
           },
           {
            "bin_start": 0.559,
            "bin_end": 0.659,
            "count": 0
           },
           {
            "bin_start": 0.659,
            "bin_end": 0.759,
            "count": 0
           },
           {
            "bin_start": 0.759,
            "bin_end": 0.859,
            "count": 0
           }
          ]
         }
        },
        {
         "name": "Renal",
         "dtype": "float64",
         "stats": {
          "unique_count": 1,
          "nan_count": 0,
          "min": "0.062",
          "max": "0.062",
          "histogram": [
           {
            "bin_start": -0.438,
            "bin_end": -0.33799999999999997,
            "count": 0
           },
           {
            "bin_start": -0.33799999999999997,
            "bin_end": -0.238,
            "count": 0
           },
           {
            "bin_start": -0.238,
            "bin_end": -0.13799999999999996,
            "count": 0
           },
           {
            "bin_start": -0.13799999999999996,
            "bin_end": -0.03799999999999998,
            "count": 0
           },
           {
            "bin_start": -0.03799999999999998,
            "bin_end": 0.062,
            "count": 0
           },
           {
            "bin_start": 0.062,
            "bin_end": 0.1620000000000001,
            "count": 1
           },
           {
            "bin_start": 0.1620000000000001,
            "bin_end": 0.26200000000000007,
            "count": 0
           },
           {
            "bin_start": 0.26200000000000007,
            "bin_end": 0.36200000000000004,
            "count": 0
           },
           {
            "bin_start": 0.36200000000000004,
            "bin_end": 0.462,
            "count": 0
           },
           {
            "bin_start": 0.462,
            "bin_end": 0.562,
            "count": 0
           }
          ]
         }
        },
        {
         "name": "Developmental",
         "dtype": "float64",
         "stats": {
          "unique_count": 1,
          "nan_count": 0,
          "min": "0.094",
          "max": "0.094",
          "histogram": [
           {
            "bin_start": -0.406,
            "bin_end": -0.30600000000000005,
            "count": 0
           },
           {
            "bin_start": -0.30600000000000005,
            "bin_end": -0.20600000000000002,
            "count": 0
           },
           {
            "bin_start": -0.20600000000000002,
            "bin_end": -0.10599999999999998,
            "count": 0
           },
           {
            "bin_start": -0.10599999999999998,
            "bin_end": -0.006000000000000005,
            "count": 0
           },
           {
            "bin_start": -0.006000000000000005,
            "bin_end": 0.09399999999999997,
            "count": 0
           },
           {
            "bin_start": 0.09399999999999997,
            "bin_end": 0.19400000000000006,
            "count": 1
           },
           {
            "bin_start": 0.19400000000000006,
            "bin_end": 0.29400000000000004,
            "count": 0
           },
           {
            "bin_start": 0.29400000000000004,
            "bin_end": 0.394,
            "count": 0
           },
           {
            "bin_start": 0.394,
            "bin_end": 0.494,
            "count": 0
           },
           {
            "bin_start": 0.494,
            "bin_end": 0.594,
            "count": 0
           }
          ]
         }
        },
        {
         "name": "Unclassified",
         "dtype": "float64",
         "stats": {
          "unique_count": 1,
          "nan_count": 0,
          "min": "0.0",
          "max": "0.0",
          "histogram": [
           {
            "bin_start": -0.5,
            "bin_end": -0.4,
            "count": 0
           },
           {
            "bin_start": -0.4,
            "bin_end": -0.3,
            "count": 0
           },
           {
            "bin_start": -0.3,
            "bin_end": -0.19999999999999996,
            "count": 0
           },
           {
            "bin_start": -0.19999999999999996,
            "bin_end": -0.09999999999999998,
            "count": 0
           },
           {
            "bin_start": -0.09999999999999998,
            "bin_end": 0,
            "count": 0
           },
           {
            "bin_start": 0,
            "bin_end": 0.10000000000000009,
            "count": 1
           },
           {
            "bin_start": 0.10000000000000009,
            "bin_end": 0.20000000000000007,
            "count": 0
           },
           {
            "bin_start": 0.20000000000000007,
            "bin_end": 0.30000000000000004,
            "count": 0
           },
           {
            "bin_start": 0.30000000000000004,
            "bin_end": 0.4,
            "count": 0
           },
           {
            "bin_start": 0.4,
            "bin_end": 0.5,
            "count": 0
           }
          ]
         }
        },
        {
         "name": "_deepnote_index_column",
         "dtype": "int64"
        }
       ],
       "rows": [
        {
         "Ear,Nose,Throat": "0.693",
         "Cancer": "0.794",
         "Ophthamological": "0.768",
         "Endocrine": "0.505",
         "Cardiovascular": "0.462",
         "Neurological": "0.537",
         "Hematological": "0.563",
         "Nutritional": "0.375",
         "Muscular": "0.497",
         "Respiratory": "0.0",
         "Immunological": "0.312",
         "Multiple": "0.192",
         "Dermatological": "0.616",
         "Psychiatric": "0.364",
         "Connective tissue disorder": "0.25",
         "Metabolic": "0.2",
         "Gastrointestinal": "0.09",
         "Bone": "0.317",
         "Skeletal": "0.359",
         "Renal": "0.062",
         "Developmental": "0.094",
         "Unclassified": "0.0",
         "_deepnote_index_column": "0"
        }
       ]
      },
      "text/plain": "   Ear,Nose,Throat  Cancer  Ophthamological  Endocrine  Cardiovascular  \\\n0            0.693   0.794            0.768      0.505           0.462   \n\n   Neurological  Hematological  Nutritional  Muscular  Respiratory  ...  \\\n0         0.537          0.563        0.375     0.497          0.0  ...   \n\n   Dermatological  Psychiatric  Connective tissue disorder  Metabolic  \\\n0           0.616        0.364                        0.25        0.2   \n\n   Gastrointestinal   Bone  Skeletal  Renal  Developmental  Unclassified  \n0              0.09  0.317     0.359  0.062          0.094           0.0  \n\n[1 rows x 22 columns]",
      "text/html": "<div>\n<style scoped>\n    .dataframe tbody tr th:only-of-type {\n        vertical-align: middle;\n    }\n\n    .dataframe tbody tr th {\n        vertical-align: top;\n    }\n\n    .dataframe thead th {\n        text-align: right;\n    }\n</style>\n<table border=\"1\" class=\"dataframe\">\n  <thead>\n    <tr style=\"text-align: right;\">\n      <th></th>\n      <th>Ear,Nose,Throat</th>\n      <th>Cancer</th>\n      <th>Ophthamological</th>\n      <th>Endocrine</th>\n      <th>Cardiovascular</th>\n      <th>Neurological</th>\n      <th>Hematological</th>\n      <th>Nutritional</th>\n      <th>Muscular</th>\n      <th>Respiratory</th>\n      <th>...</th>\n      <th>Dermatological</th>\n      <th>Psychiatric</th>\n      <th>Connective tissue disorder</th>\n      <th>Metabolic</th>\n      <th>Gastrointestinal</th>\n      <th>Bone</th>\n      <th>Skeletal</th>\n      <th>Renal</th>\n      <th>Developmental</th>\n      <th>Unclassified</th>\n    </tr>\n  </thead>\n  <tbody>\n    <tr>\n      <th>0</th>\n      <td>0.693</td>\n      <td>0.794</td>\n      <td>0.768</td>\n      <td>0.505</td>\n      <td>0.462</td>\n      <td>0.537</td>\n      <td>0.563</td>\n      <td>0.375</td>\n      <td>0.497</td>\n      <td>0.0</td>\n      <td>...</td>\n      <td>0.616</td>\n      <td>0.364</td>\n      <td>0.25</td>\n      <td>0.2</td>\n      <td>0.09</td>\n      <td>0.317</td>\n      <td>0.359</td>\n      <td>0.062</td>\n      <td>0.094</td>\n      <td>0.0</td>\n    </tr>\n  </tbody>\n</table>\n<p>1 rows × 22 columns</p>\n</div>"
     },
     "metadata": {}
    }
   ]
  },
  {
   "cell_type": "code",
   "source": "from scipy.stats.contingency import crosstab\nfrom sklearn.metrics import mutual_info_score\nfrom sklearn.metrics import normalized_mutual_info_score\nc = greedy_modularity_communities(Gp, n_communities=22)\n\nexpected = pd.DataFrame(Gp.nodes())\nexpected[\"color\"]= 0\nexpected.columns = [\"node\", \"group_num\"]\nexpected['nodes']= Gp.nodes()\n\nexp = expected.set_index(\"node\")\n\nfor i, lst in enumerate(c):\n    for nod in list(lst):\n        exp.loc[nod]['group_num'] = i\n\ngroups= []\nfor node in exp['nodes']:\n    groups.append(Gp.nodes[node]['1'])\nexp['group']= groups \nnormalized_mutual_info_score(exp['group_num'], exp['group'])\n",
   "metadata": {
    "cell_id": "00040-a25254b9-6f3e-4023-825c-1212148d0857",
    "deepnote_to_be_reexecuted": false,
    "source_hash": "a97304d5",
    "execution_start": 1669293044671,
    "execution_millis": 197,
    "deepnote_table_state": {
     "pageSize": 10,
     "pageIndex": 51,
     "filters": [],
     "sortBy": []
    },
    "deepnote_table_loading": false,
    "deepnote_cell_type": "code",
    "deepnote_cell_height": 490.1875,
    "deepnote_output_heights": [
     20.1875,
     20.1875
    ]
   },
   "execution_count": 26,
   "outputs": [
    {
     "output_type": "execute_result",
     "execution_count": 26,
     "data": {
      "text/plain": "0.4401933593741316"
     },
     "metadata": {}
    }
   ]
  },
  {
   "cell_type": "code",
   "metadata": {
    "cell_id": "00041-2c76b023-1882-4fe9-85ee-f4c15ea05be1",
    "deepnote_to_be_reexecuted": false,
    "source_hash": "d24532d5",
    "execution_start": 1669293044876,
    "execution_millis": 51,
    "deepnote_cell_type": "code",
    "deepnote_cell_height": 906,
    "deepnote_output_heights": [
     410.1875
    ]
   },
   "source": "genes = pd.DataFrame(columns=['gene','weight'])\ngenes['gene']=g_nodes\n\ngenes_df= genes.set_index('gene')\nfor gene in g_nodes:\n    lst= list(G.neighbors(gene))\n    total_weight = 0\n    for i in lst:\n        weight = 1/len(list(G.neighbors(i)))\n        total_weight += weight\n    genes_df.at[gene,'weight']= total_weight/G.degree(gene)\ngenes_df.reset_index()\ngenes_df.sort_index(key=lambda x: genes_df['weight'], ascending=False, inplace=True)\n\ngenes_df\n\n\n",
   "execution_count": 27,
   "outputs": [
    {
     "output_type": "execute_result",
     "execution_count": 27,
     "data": {
      "application/vnd.deepnote.dataframe.v3+json": {
       "column_count": 1,
       "row_count": 903,
       "columns": [
        {
         "name": "weight",
         "dtype": "object",
         "stats": {
          "unique_count": 226,
          "nan_count": 0,
          "categories": [
           {
            "name": "0.25",
            "count": 52
           },
           {
            "name": "0.3333333333333333",
            "count": 42
           },
           {
            "name": "224 others",
            "count": 809
           }
          ]
         }
        },
        {
         "name": "_deepnote_index_column",
         "dtype": "int64"
        }
       ],
       "rows": [
        {
         "weight": "0.125",
         "_deepnote_index_column": "2238"
        },
        {
         "weight": "0.125",
         "_deepnote_index_column": "2241"
        },
        {
         "weight": "0.125",
         "_deepnote_index_column": "3574"
        },
        {
         "weight": "0.125",
         "_deepnote_index_column": "2513"
        },
        {
         "weight": "0.125",
         "_deepnote_index_column": "2124"
        },
        {
         "weight": "0.125",
         "_deepnote_index_column": "2123"
        },
        {
         "weight": "0.125",
         "_deepnote_index_column": "2239"
        },
        {
         "weight": "0.125",
         "_deepnote_index_column": "3499"
        },
        {
         "weight": "0.125",
         "_deepnote_index_column": "3498"
        },
        {
         "weight": "0.125",
         "_deepnote_index_column": "2122"
        }
       ]
      },
      "text/plain": "        weight\ngene          \n3854      0.85\n3653  0.833333\n3875  0.833333\n2569  0.833333\n3913  0.833333\n...        ...\n1990   0.02439\n1992   0.02439\n1994   0.02439\n1996   0.02439\n2008   0.02439\n\n[903 rows x 1 columns]",
      "text/html": "<div>\n<style scoped>\n    .dataframe tbody tr th:only-of-type {\n        vertical-align: middle;\n    }\n\n    .dataframe tbody tr th {\n        vertical-align: top;\n    }\n\n    .dataframe thead th {\n        text-align: right;\n    }\n</style>\n<table border=\"1\" class=\"dataframe\">\n  <thead>\n    <tr style=\"text-align: right;\">\n      <th></th>\n      <th>weight</th>\n    </tr>\n    <tr>\n      <th>gene</th>\n      <th></th>\n    </tr>\n  </thead>\n  <tbody>\n    <tr>\n      <th>3854</th>\n      <td>0.85</td>\n    </tr>\n    <tr>\n      <th>3653</th>\n      <td>0.833333</td>\n    </tr>\n    <tr>\n      <th>3875</th>\n      <td>0.833333</td>\n    </tr>\n    <tr>\n      <th>2569</th>\n      <td>0.833333</td>\n    </tr>\n    <tr>\n      <th>3913</th>\n      <td>0.833333</td>\n    </tr>\n    <tr>\n      <th>...</th>\n      <td>...</td>\n    </tr>\n    <tr>\n      <th>1990</th>\n      <td>0.02439</td>\n    </tr>\n    <tr>\n      <th>1992</th>\n      <td>0.02439</td>\n    </tr>\n    <tr>\n      <th>1994</th>\n      <td>0.02439</td>\n    </tr>\n    <tr>\n      <th>1996</th>\n      <td>0.02439</td>\n    </tr>\n    <tr>\n      <th>2008</th>\n      <td>0.02439</td>\n    </tr>\n  </tbody>\n</table>\n<p>903 rows × 1 columns</p>\n</div>"
     },
     "metadata": {}
    }
   ]
  },
  {
   "cell_type": "code",
   "metadata": {
    "cell_id": "00042-76e21976-e891-4b15-ba4d-a637e232ca8b",
    "deepnote_to_be_reexecuted": false,
    "source_hash": "564b8ea5",
    "execution_start": 1669293044932,
    "execution_millis": 9,
    "deepnote_cell_type": "code",
    "deepnote_cell_height": 263.90625
   },
   "source": "for node_desease in list(G.neighbors(3720)):\n    print(Gp.nodes[node_desease]['1'])",
   "execution_count": 28,
   "outputs": [
    {
     "name": "stdout",
     "text": "Skeletal\nCancer\nCancer\nCancer\nSkeletal\nSkeletal\nSkeletal\nSkeletal\n",
     "output_type": "stream"
    }
   ]
  },
  {
   "cell_type": "code",
   "source": "expected = pd.DataFrame(Gp.nodes())\nexpected[\"color\"]= 0\nexpected.columns = [\"node\", \"group_num\"]\nexpected['nodes']= Gp.nodes()\n\nexp = expected.set_index(\"node\")\nprint(exp)\nexp['group']= \"none\" \nfor i, lst in enumerate(c):\n    for nod in list(lst):\n        exp.loc[nod]['group_num'] = i\n\nfor node in exp['nodes']:\n    exp.loc[node]['group']= Gp.nodes[node]['1']\n\nnormalized_mutual_info_score(exp['group_num'], exp['group'])\n\nexp.loc[55]['group'] = \"casa\"\nexp.loc[55]['group'] ",
   "metadata": {
    "cell_id": "6e74598a04174e6fa95605706ee69349",
    "tags": [],
    "deepnote_to_be_reexecuted": false,
    "source_hash": "646e1334",
    "execution_start": 1669293044951,
    "execution_millis": 245,
    "deepnote_cell_type": "code",
    "deepnote_cell_height": 760.15625,
    "deepnote_output_heights": [
     null,
     20.1875,
     null,
     20.1875
    ]
   },
   "outputs": [
    {
     "name": "stdout",
     "text": "      group_num  nodes\nnode                  \n55            0     55\n47            0     47\n114           0    114\n45            0     45\n87            0     87\n...         ...    ...\n1303          0   1303\n1304          0   1304\n1305          0   1305\n1306          0   1306\n1307          0   1307\n\n[516 rows x 2 columns]\n",
     "output_type": "stream"
    },
    {
     "output_type": "execute_result",
     "execution_count": 29,
     "data": {
      "text/plain": "'none'"
     },
     "metadata": {}
    }
   ],
   "execution_count": 29
  },
  {
   "cell_type": "markdown",
   "source": "### Targeted Attacks",
   "metadata": {
    "cell_id": "00043-c77d7191-164a-4f98-a0d9-600fa4f2ceb8",
    "deepnote_cell_type": "markdown",
    "deepnote_cell_height": 62
   }
  },
  {
   "cell_type": "markdown",
   "source": "We first make a sorted list in descending order ",
   "metadata": {
    "cell_id": "00044-3c7b2158-c10b-4db6-b2ee-73aa81ed0c4f",
    "deepnote_cell_type": "markdown",
    "deepnote_cell_height": 52.390625
   }
  },
  {
   "cell_type": "code",
   "metadata": {
    "cell_id": "00045-efd7792e-0736-42f2-ad0d-4ac0641ac87f",
    "deepnote_to_be_reexecuted": false,
    "source_hash": "2bd46360",
    "execution_start": 1669293045203,
    "execution_millis": 4,
    "deepnote_cell_type": "code",
    "deepnote_cell_height": 94
   },
   "source": "sorted_G_nodes = list_degrees(G)\ngcc_sizes = []",
   "execution_count": 30,
   "outputs": []
  },
  {
   "cell_type": "code",
   "metadata": {
    "cell_id": "00046-6669306d-ce49-4923-aaa6-1d33f1678928",
    "deepnote_to_be_reexecuted": false,
    "source_hash": "ab60d5",
    "execution_start": 1669293045270,
    "execution_millis": 4,
    "deepnote_cell_type": "code",
    "deepnote_cell_height": 135
   },
   "source": "L = G.copy()\nfor i in range(20):\n   gcc_sizes.append(len(max(nx.connected_components(L), key = len)) / len(G.nodes))\n   L.remove_node(sorted_G_nodes[i][0])",
   "execution_count": 31,
   "outputs": []
  },
  {
   "cell_type": "code",
   "metadata": {
    "cell_id": "00047-5adbecfd-986c-4c31-9b4b-01467fe1f19d",
    "deepnote_to_be_reexecuted": false,
    "source_hash": "1c098973",
    "execution_start": 1669293045297,
    "execution_millis": 1376,
    "deepnote_cell_type": "code",
    "deepnote_cell_height": 207
   },
   "source": "K = G.copy()\nsizes = list(genes_df.iterrows())\nsize_weighted = []\n\nfor gene in sizes:\n    size_weighted.append(len(max(nx.connected_components(K), key = len)) / len(G.nodes))\n    K.remove_node(gene[0])\n",
   "execution_count": 32,
   "outputs": []
  },
  {
   "cell_type": "code",
   "metadata": {
    "cell_id": "00048-294205af-b2b0-4f80-a83d-796d524e2ad6",
    "deepnote_to_be_reexecuted": false,
    "source_hash": "29d33e57",
    "execution_start": 1669293046679,
    "execution_millis": 0,
    "deepnote_cell_type": "code",
    "deepnote_cell_height": 76
   },
   "source": "size_weighted = size_weighted[:20]",
   "execution_count": 33,
   "outputs": []
  },
  {
   "cell_type": "code",
   "metadata": {
    "cell_id": "00049-44d19c82-fabd-4d66-83f7-57779ac7ded7",
    "deepnote_to_be_reexecuted": false,
    "source_hash": "96cabb5d",
    "execution_start": 1669293046688,
    "execution_millis": 160218,
    "deepnote_cell_type": "code",
    "deepnote_cell_height": 76
   },
   "source": "sns.set_style('darkgrid')",
   "execution_count": 34,
   "outputs": []
  },
  {
   "cell_type": "code",
   "source": "fig, ax = plt.subplots(figsize = (8,6))\nplot_data = pd.DataFrame({\n    'NumNodes' : [i for i in range(20)],\n    'Degree' : gcc_sizes,\n    'Weighted Degree': size_weighted\n})\ncolors_taratt = ['#aac9ce', '#e5c1cd']\nsns.lineplot(x = 'NumNodes', y = 'value', hue = 'Type', palette = colors_taratt, data = pd.melt(plot_data, ['NumNodes'], var_name= 'Type'));\nax.set_title('Plot of targeted attacks', size = 15, weight ='bold')\nax.set(xlabel = 'Number of deleted nodes', ylabel= 'Probability of being in the largest component');",
   "metadata": {
    "cell_id": "00050-91e4daf8-1e85-4f3c-a3c1-a781b2748910",
    "deepnote_to_be_reexecuted": false,
    "source_hash": "121dc7b7",
    "execution_start": 1669293046692,
    "execution_millis": 637,
    "deepnote_cell_type": "code",
    "deepnote_cell_height": 762.53125,
    "deepnote_output_heights": [
     503.53125,
     559
    ]
   },
   "execution_count": 35,
   "outputs": [
    {
     "data": {
      "text/plain": "<Figure size 800x600 with 1 Axes>",
      "image/png": "[encoded data removed]"
     },
     "metadata": {
      "image/png": {
       "width": 701,
       "height": 558
      }
     },
     "output_type": "display_data"
    }
   ]
  },
  {
   "cell_type": "markdown",
   "source": "### Combining targeted attacks and community discovery\n\nWe made a class ```ClassAnalysis()``` in the file main.py where we combine the idea of targeted attacks with community discovery algorithms. Our results are visualized in the following plots:",
   "metadata": {
    "cell_id": "b194d4778718457eb42cabe69ef90853",
    "tags": [],
    "deepnote_cell_type": "markdown",
    "deepnote_cell_height": 122.78125
   }
  },
  {
   "cell_type": "code",
   "source": "",
   "metadata": {
    "cell_id": "f7193fb40d08414791e563e37c039c31",
    "tags": [],
    "deepnote_to_be_reexecuted": false,
    "source_hash": "b623e53d",
    "execution_start": 1669293047332,
    "execution_millis": 2,
    "deepnote_cell_type": "code",
    "deepnote_cell_height": 76,
    "deepnote_output_heights": [
     20.1875
    ]
   },
   "outputs": [],
   "execution_count": 35
  },
  {
   "cell_type": "code",
   "source": "nodes_degree = [sorted_G_nodes[i][0] for i in range(20)]\nnodes_weight = [i[0] for i in sizes]\nnodes_weight = nodes_weight[:20]\n\nanalysis_d = GraphAnalysis(G.copy(), nodes_degree, d_nodes)\nanalysis_w = GraphAnalysis(G.copy(), nodes_weight, d_nodes)\nprint(nodes_weight), print(d_nodes)\n# df_homophily_d, df_community_d, largest_component_d, diameter_d = analysis_d.final_analysis()\n# df_homophily_w, df_community_w, largest_component_w, diameter_w = analysis_w.final_analysis()",
   "metadata": {
    "cell_id": "053fac968c344bdfa58e30d1656a9feb",
    "tags": [],
    "deepnote_to_be_reexecuted": false,
    "source_hash": "3dd9f75",
    "execution_start": 1669293989736,
    "execution_millis": 687,
    "deepnote_cell_type": "code",
    "deepnote_cell_height": 331.578125,
    "deepnote_output_heights": [
     384.953125,
     20.1875
    ]
   },
   "outputs": [
    {
     "name": "stdout",
     "text": "[3854, 3653, 3875, 2569, 3913, 3943, 3609, 3555, 3706, 2120, 2568, 3192, 3851, 3164, 3803, 3759, 3831, 3958, 3821, 2434]\n[55, 47, 114, 45, 87, 54, 81, 48, 70, 137, 223, 390, 220, 325, 68, 208, 213, 30, 65, 139, 185, 202, 302, 364, 634, 53, 86, 99, 117, 155, 41, 59, 130, 239, 285, 640, 63, 125, 197, 224, 236, 414, 420, 448, 822, 42, 110, 122, 140, 146, 186, 266, 324, 332, 411, 775, 37, 120, 222, 306, 367, 541, 751, 786, 44, 74, 109, 164, 187, 200, 215, 219, 245, 327, 384, 607, 661, 736, 778, 940, 80, 119, 121, 123, 133, 158, 180, 199, 203, 235, 237, 248, 277, 280, 290, 314, 340, 369, 401, 419, 423, 429, 441, 447, 474, 497, 570, 602, 782, 790, 851, 938, 968, 43, 78, 79, 101, 113, 118, 132, 165, 177, 189, 201, 216, 226, 227, 270, 282, 292, 328, 402, 464, 467, 527, 560, 574, 671, 703, 742, 744, 795, 796, 856, 880, 919, 953, 984, 985, 36, 38, 46, 100, 126, 128, 131, 154, 156, 181, 191, 192, 209, 210, 211, 217, 238, 272, 286, 287, 307, 322, 323, 331, 341, 370, 385, 408, 417, 426, 446, 454, 457, 463, 466, 470, 471, 472, 476, 483, 484, 485, 491, 493, 526, 545, 550, 559, 575, 616, 681, 682, 685, 691, 692, 765, 767, 772, 773, 779, 784, 785, 793, 797, 799, 814, 815, 838, 853, 858, 873, 930, 963, 982, 1048, 1050, 1053, 1061, 1067, 1070, 1145, 1245, 39, 62, 69, 76, 77, 98, 112, 115, 116, 124, 127, 129, 134, 136, 138, 147, 157, 166, 167, 184, 188, 198, 212, 218, 225, 228, 229, 231, 232, 249, 252, 253, 283, 284, 288, 289, 291, 293, 294, 301, 303, 304, 305, 310, 311, 312, 313, 316, 317, 334, 342, 363, 365, 366, 368, 374, 375, 376, 380, 386, 403, 404, 405, 406, 407, 409, 415, 416, 422, 424, 425, 434, 442, 453, 455, 456, 468, 473, 475, 477, 478, 479, 480, 481, 482, 486, 490, 492, 502, 503, 523, 524, 535, 536, 540, 542, 552, 553, 554, 555, 556, 557, 558, 563, 576, 577, 578, 579, 585, 605, 606, 608, 627, 633, 637, 643, 644, 645, 663, 664, 665, 667, 668, 669, 670, 680, 686, 687, 689, 693, 694, 695, 701, 702, 704, 709, 716, 743, 745, 746, 747, 748, 752, 753, 754, 766, 769, 770, 771, 774, 781, 792, 794, 798, 810, 816, 817, 818, 819, 820, 826, 828, 829, 833, 834, 835, 836, 841, 842, 852, 868, 871, 872, 874, 875, 876, 877, 878, 879, 882, 883, 884, 887, 888, 889, 897, 902, 904, 909, 911, 912, 923, 924, 925, 928, 929, 935, 939, 941, 942, 943, 944, 947, 948, 949, 954, 955, 956, 958, 959, 960, 961, 962, 965, 966, 969, 974, 975, 976, 977, 978, 979, 980, 986, 987, 991, 996, 1002, 1003, 1012, 1015, 1016, 1020, 1025, 1027, 1029, 1033, 1034, 1040, 1047, 1051, 1065, 1066, 1068, 1069, 1072, 1073, 1078, 1080, 1081, 1082, 1089, 1091, 1092, 1094, 1099, 1100, 1101, 1102, 1120, 1121, 1130, 1132, 1136, 1148, 1152, 1153, 1174, 1181, 1198, 1208, 1221, 1227, 1228, 1232, 1238, 1242, 1270, 1285, 1289, 1303, 1304, 1305, 1306, 1307]\n",
     "output_type": "stream"
    },
    {
     "output_type": "execute_result",
     "execution_count": 45,
     "data": {
      "text/plain": "(None, None)"
     },
     "metadata": {}
    }
   ],
   "execution_count": 45
  },
  {
   "cell_type": "code",
   "source": "",
   "metadata": {
    "cell_id": "38730270a1734e3ea9ece1a17866a541",
    "tags": [],
    "deepnote_to_be_reexecuted": true,
    "source_hash": "b623e53d",
    "deepnote_cell_type": "code",
    "deepnote_cell_height": 76
   },
   "outputs": [],
   "execution_count": null
  },
  {
   "cell_type": "markdown",
   "source": "<a style='text-decoration:none;line-height:16px;display:flex;color:#5B5B62;padding:10px;justify-content:end;' href='https://deepnote.com?utm_source=created-in-deepnote-cell&projectId=ae90e520-efbc-47c2-a035-acfb4219bc01' target=\"_blank\">\n<img alt='Created in deepnote.com' style='display:inline;max-height:16px;margin:0px;margin-right:7.5px;' src='data:image/svg+xml;base64,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' > </img>\nCreated in <span style='font-weight:600;margin-left:4px;'>Deepnote</span></a>",
   "metadata": {
    "tags": [],
    "created_in_deepnote_cell": true,
    "deepnote_cell_type": "markdown"
   }
  }
 ],
 "nbformat": 4,
 "nbformat_minor": 5,
 "metadata": {
  "kernelspec": {
   "display_name": "Python 3.10.8 64-bit (microsoft store)",
   "language": "python",
   "name": "python3"
  },
  "language_info": {
   "codemirror_mode": {
    "name": "ipython",
    "version": 3
   },
   "file_extension": ".py",
   "mimetype": "text/x-python",
   "name": "python",
   "nbconvert_exporter": "python",
   "pygments_lexer": "ipython3",
   "version": "3.10.8"
  },
  "vscode": {
   "interpreter": {
    "hash": "aa82987a71ca0339a52998cd22613b0c002bda8349fa32a0cb67ceec3936a2bf"
   }
  },
  "deepnote_notebook_id": "96348fae-e573-416a-b95b-c90ee3dd0925",
  "deepnote": {},
  "deepnote_persisted_session": {
   "createdAt": "2022-11-24T11:17:49.795Z"
  },
  "deepnote_execution_queue": []
 }
}