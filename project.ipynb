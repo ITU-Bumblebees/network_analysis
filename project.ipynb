{
 "cells": [
  {
   "cell_type": "markdown",
   "id": "5cd14738",
   "metadata": {},
   "source": [
    "# Project\n"
   ]
  },
  {
   "cell_type": "markdown",
   "id": "bc6918c0",
   "metadata": {},
   "source": [
    "#### For this project we will start by importing the necessary libraries "
   ]
  },
  {
   "cell_type": "code",
   "execution_count": 1,
   "id": "f2d61eaf",
   "metadata": {},
   "outputs": [],
   "source": [
    "import networkx as nx\n",
    "import matplotlib.pyplot as plt\n",
    "import pandas as pd\n",
    "from networkx.algorithms import bipartite \n",
    "import numpy as np"
   ]
  },
  {
   "cell_type": "markdown",
   "id": "5ae4ff0f",
   "metadata": {},
   "source": [
    "##### Now we will import the csv files to start working with the data"
   ]
  },
  {
   "cell_type": "code",
   "execution_count": 2,
   "id": "b52c0f2a",
   "metadata": {},
   "outputs": [
    {
     "name": "stdout",
     "output_type": "stream",
     "text": [
      "disease\n"
     ]
    }
   ],
   "source": [
    "attributes= pd.read_csv('Data/nodeattribute.csv', delimiter=';')\n",
    "edgelist= pd.read_csv('Data/edgelist2.csv',delimiter=';')\n",
    "g_attributes= attributes[attributes['0']=='gene']\n",
    "d_attributes = attributes[attributes['0']=='disease']\n",
    "\n",
    "\n",
    "\n",
    "#We need to convert the data frame into a dictionary to use the set_node_attributes \n",
    "nodes_attr = attributes.set_index('Id').to_dict(orient='index')\n",
    "g_nodes_attr = g_attributes.set_index('Id').to_dict(orient='index')\n",
    "d_nodes_attr= d_attributes.set_index('Id').to_dict(orient='index')\n",
    "\n",
    "g_nodes= g_attributes['Id'].to_list()\n",
    "d_nodes=d_attributes['Id'].to_list()\n",
    "edges= list(edgelist.values)\n",
    "\n",
    "\n",
    "G = nx.Graph()\n",
    "G.add_nodes_from(g_nodes, bipartite=0)\n",
    "G.add_nodes_from(d_nodes, bipartite=1 )\n",
    "nx.set_node_attributes(G, nodes_attr)\n",
    "G.add_edges_from(edges)\n",
    "\n",
    "print(G.nodes[1285]['0'])\n",
    "\n",
    "#bottom_nodes, top_nodes = bipartite.sets(G)"
   ]
  },
  {
   "cell_type": "code",
   "execution_count": 3,
   "id": "e0934e7e",
   "metadata": {},
   "outputs": [
    {
     "data": {
      "text/plain": [
       "1"
      ]
     },
     "execution_count": 3,
     "metadata": {},
     "output_type": "execute_result"
    }
   ],
   "source": [
    "#Checking that the code worked properly\n",
    "G.nodes()\n",
    "#G.edges()\n",
    "#G.nodes[55][\"Label\"]\n",
    "#nodes_attr\"\"\"\n",
    "\n",
    "G.nodes[117]['bipartite']"
   ]
  },
  {
   "cell_type": "markdown",
   "id": "6db924b9",
   "metadata": {},
   "source": [
    "In order to start working with the graph we need to make sure it is connected "
   ]
  },
  {
   "cell_type": "code",
   "execution_count": 4,
   "id": "6f364dd3",
   "metadata": {},
   "outputs": [
    {
     "name": "stdout",
     "output_type": "stream",
     "text": [
      "True\n",
      "False\n"
     ]
    }
   ],
   "source": [
    "print(nx.is_connected(G))\n",
    "print(nx.is_bipartite(G))\n"
   ]
  },
  {
   "cell_type": "code",
   "execution_count": 5,
   "id": "08b249b1",
   "metadata": {},
   "outputs": [
    {
     "name": "stdout",
     "output_type": "stream",
     "text": [
      "True\n"
     ]
    }
   ],
   "source": [
    "#Trial \n",
    "B = nx.Graph()\n",
    "# Add nodes with the node attribute \"bipartite\"\n",
    "B.add_nodes_from([1, 2, 3, 4], bipartite=0)\n",
    "B.add_nodes_from([\"a\", \"b\", \"c\"], bipartite=1)\n",
    "# Add edges only between nodes of opposite node sets\n",
    "B.add_edges_from([(1, \"a\"), (1, \"b\"), (2, \"b\"), (2, \"c\"), (3, \"c\"), (4, \"a\")])\n",
    "\n",
    "print(nx.is_bipartite(B))\n"
   ]
  },
  {
   "cell_type": "code",
   "execution_count": 6,
   "id": "56c5d1c5",
   "metadata": {},
   "outputs": [],
   "source": [
    "#nx.draw(G)"
   ]
  },
  {
   "cell_type": "code",
   "execution_count": null,
   "id": "7e0434da",
   "metadata": {},
   "outputs": [],
   "source": []
  },
  {
   "cell_type": "markdown",
   "id": "3f8279ed",
   "metadata": {},
   "source": [
    "### Project description\n",
    "1. Basic network description of your data (what type of network it is, what does it represent, is it real or synthetically generated, etc). In practice, the result of project phase #1 (finding data)."
   ]
  },
  {
   "cell_type": "markdown",
   "id": "2733ec80",
   "metadata": {},
   "source": [
    "It is a unipartite, undirected and unweighted network that describes the associations between human diseases and human genes, as extracted from the Morbid Map (MM) of the Online Mendelian Inheritance in Man (OMIM) in 2005.\n",
    "\n",
    "Source : https://github.com/gephi/gephi/wiki/Datasets\n"
   ]
  },
  {
   "cell_type": "markdown",
   "id": "d39ae868",
   "metadata": {},
   "source": [
    "2. Basic network statistics of your data (number of nodes, edges, clustering, degree distribution, etc). In practice, the result of project phase #2 (exploratory data analysis)"
   ]
  },
  {
   "cell_type": "markdown",
   "id": "e15e2f65",
   "metadata": {},
   "source": []
  },
  {
   "cell_type": "code",
   "execution_count": 11,
   "id": "5e97f74a",
   "metadata": {},
   "outputs": [
    {
     "name": "stdout",
     "output_type": "stream",
     "text": [
      "The number of nodes that are genes is: 903\n",
      "The number of nodes that are diseases is: 516\n",
      "---\n",
      "The total number of nodes is: 1419 \n",
      "\n",
      "---\n",
      "The number of edges is: 2738\n"
     ]
    }
   ],
   "source": [
    "#the number of nodes and egdes\n",
    "num_nodes = len(G.nodes())\n",
    "num_genes= len(g_nodes)\n",
    "num_diseases= len(d_nodes) \n",
    "num_edges= len(G.edges())\n",
    "\n",
    "#Printing the num of nodes and edges\n",
    "print(f'The number of nodes that are genes is: {num_genes}\\nThe number of nodes that are diseases is: {num_diseases}\\n---\\nThe total number of nodes is: {num_nodes} ')\n",
    "print(f'\\n---\\nThe number of edges is: {num_edges}')"
   ]
  },
  {
   "cell_type": "code",
   "execution_count": 12,
   "id": "2b4c389b",
   "metadata": {},
   "outputs": [
    {
     "data": {
      "text/html": [
       "<div>\n",
       "<style scoped>\n",
       "    .dataframe tbody tr th:only-of-type {\n",
       "        vertical-align: middle;\n",
       "    }\n",
       "\n",
       "    .dataframe tbody tr th {\n",
       "        vertical-align: top;\n",
       "    }\n",
       "\n",
       "    .dataframe thead th {\n",
       "        text-align: right;\n",
       "    }\n",
       "</style>\n",
       "<table border=\"1\" class=\"dataframe\">\n",
       "  <thead>\n",
       "    <tr style=\"text-align: right;\">\n",
       "      <th></th>\n",
       "      <th>degree</th>\n",
       "      <th>closeness</th>\n",
       "    </tr>\n",
       "    <tr>\n",
       "      <th>Id</th>\n",
       "      <th></th>\n",
       "      <th></th>\n",
       "    </tr>\n",
       "  </thead>\n",
       "  <tbody>\n",
       "    <tr>\n",
       "      <th>1329</th>\n",
       "      <td>0.000705</td>\n",
       "      <td>0.109523</td>\n",
       "    </tr>\n",
       "    <tr>\n",
       "      <th>1338</th>\n",
       "      <td>0.000705</td>\n",
       "      <td>0.124824</td>\n",
       "    </tr>\n",
       "    <tr>\n",
       "      <th>1339</th>\n",
       "      <td>0.000705</td>\n",
       "      <td>0.124824</td>\n",
       "    </tr>\n",
       "    <tr>\n",
       "      <th>1348</th>\n",
       "      <td>0.000705</td>\n",
       "      <td>0.090261</td>\n",
       "    </tr>\n",
       "    <tr>\n",
       "      <th>1361</th>\n",
       "      <td>0.000705</td>\n",
       "      <td>0.153596</td>\n",
       "    </tr>\n",
       "    <tr>\n",
       "      <th>...</th>\n",
       "      <td>...</td>\n",
       "      <td>...</td>\n",
       "    </tr>\n",
       "    <tr>\n",
       "      <th>1303</th>\n",
       "      <td>0.004231</td>\n",
       "      <td>0.143813</td>\n",
       "    </tr>\n",
       "    <tr>\n",
       "      <th>1304</th>\n",
       "      <td>0.004231</td>\n",
       "      <td>0.143813</td>\n",
       "    </tr>\n",
       "    <tr>\n",
       "      <th>1305</th>\n",
       "      <td>0.004231</td>\n",
       "      <td>0.143813</td>\n",
       "    </tr>\n",
       "    <tr>\n",
       "      <th>1306</th>\n",
       "      <td>0.002821</td>\n",
       "      <td>0.180706</td>\n",
       "    </tr>\n",
       "    <tr>\n",
       "      <th>1307</th>\n",
       "      <td>0.002821</td>\n",
       "      <td>0.180706</td>\n",
       "    </tr>\n",
       "  </tbody>\n",
       "</table>\n",
       "<p>1419 rows × 2 columns</p>\n",
       "</div>"
      ],
      "text/plain": [
       "        degree  closeness\n",
       "Id                       \n",
       "1329  0.000705   0.109523\n",
       "1338  0.000705   0.124824\n",
       "1339  0.000705   0.124824\n",
       "1348  0.000705   0.090261\n",
       "1361  0.000705   0.153596\n",
       "...        ...        ...\n",
       "1303  0.004231   0.143813\n",
       "1304  0.004231   0.143813\n",
       "1305  0.004231   0.143813\n",
       "1306  0.002821   0.180706\n",
       "1307  0.002821   0.180706\n",
       "\n",
       "[1419 rows x 2 columns]"
      ]
     },
     "execution_count": 12,
     "metadata": {},
     "output_type": "execute_result"
    }
   ],
   "source": [
    "def make_df(column2, function, graph):\n",
    "    df = pd.DataFrame(list(function(graph).items()), columns=['Id', column2])\n",
    "    df.set_index('Id', inplace=True)\n",
    "\n",
    "    return df\n",
    "\n",
    "closeness = make_df('closeness', nx.closeness_centrality, G)\n",
    "degree_centrality = make_df('degree', nx.degree_centrality, G)\n",
    "\n",
    "df= degree_centrality.join(closeness, on='Id')\n"
   ]
  },
  {
   "cell_type": "markdown",
   "id": "9797fd6a",
   "metadata": {},
   "source": [
    "### Graph representation"
   ]
  },
  {
   "cell_type": "code",
   "execution_count": 24,
   "id": "4ec5577b",
   "metadata": {},
   "outputs": [],
   "source": [
    "#nx.draw_random(G)"
   ]
  },
  {
   "cell_type": "code",
   "execution_count": null,
   "id": "55d31439",
   "metadata": {},
   "outputs": [],
   "source": [
    "# Code that may be useful for the future \n",
    "\"\"\"\n",
    "df = pd.DataFrame(list(nx.degree_centrality(G).items()), columns=['Id', 'degree_centrality'])\n",
    "\n",
    "df.set_index('Id')\n",
    "avg_degree= np.mean(df['degree_centrality'])\n",
    "print(avg_degree)\n",
    "\n",
    "df.values\n",
    "\n",
    "\"\"\""
   ]
  }
 ],
 "metadata": {
  "kernelspec": {
   "display_name": "Python 3.8.8 ('base')",
   "language": "python",
   "name": "python3"
  },
  "language_info": {
   "codemirror_mode": {
    "name": "ipython",
    "version": 3
   },
   "file_extension": ".py",
   "mimetype": "text/x-python",
   "name": "python",
   "nbconvert_exporter": "python",
   "pygments_lexer": "ipython3",
   "version": "3.8.8"
  },
  "vscode": {
   "interpreter": {
    "hash": "d23f3ceec305a45481076084313530cecc6283a24046b34365f00383ab0a81b1"
   }
  }
 },
 "nbformat": 4,
 "nbformat_minor": 5
}
